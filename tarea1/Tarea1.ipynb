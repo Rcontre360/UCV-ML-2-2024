{
 "cells": [
  {
   "cell_type": "markdown",
   "id": "b3abf3c3-e49b-4440-902e-71dfcee1eabe",
   "metadata": {},
   "source": [
    "# __Tarea 1:__ HackerRank\n",
    "\n",
    "1. Nombre: Rafael\n",
    "1. Apellido: Contreras\n",
    "1. Correo: rcontreraspimentel@gmail.com\n",
    "--------"
   ]
  },
  {
   "cell_type": "markdown",
   "id": "03540497-cd79-4663-98ab-40f996c49dc3",
   "metadata": {},
   "source": [
    "# Python"
   ]
  },
  {
   "cell_type": "markdown",
   "id": "2da024e4-1898-420c-a93b-4eb0cf34f244",
   "metadata": {},
   "source": [
    "## Introduccion"
   ]
  },
  {
   "cell_type": "markdown",
   "id": "a65bccdd-b91e-426e-8209-2615a8fb9029",
   "metadata": {},
   "source": [
    "### Python hello world"
   ]
  },
  {
   "cell_type": "code",
   "execution_count": null,
   "id": "2571b682-c9c8-498a-be80-7049af337b2a",
   "metadata": {},
   "outputs": [],
   "source": [
    "# easy, dont need to explain\n",
    "if __name__ == '__main__':\n",
    "    print(\"Hello, World!\")"
   ]
  },
  {
   "cell_type": "markdown",
   "id": "4299ddb2-8ea3-4f9d-8511-bcfa8f8092ed",
   "metadata": {},
   "source": [
    "### Python if else"
   ]
  },
  {
   "cell_type": "code",
   "execution_count": null,
   "id": "4a6769ef-6c21-46bf-9d01-1a0c623cc4e5",
   "metadata": {},
   "outputs": [],
   "source": [
    "#focus on weird ones only\n",
    "if __name__ == '__main__':\n",
    "    n = int(input().strip())\n",
    "    even = n % 2 == 0\n",
    "    if not even or (even and 6 <= n <= 20):\n",
    "        print(\"Weird\")\n",
    "    else:\n",
    "        print(\"Not Weird\")"
   ]
  },
  {
   "cell_type": "markdown",
   "id": "1727f866-dbee-4a8b-8c16-06631df5750a",
   "metadata": {},
   "source": [
    "**Arithmetic operations**"
   ]
  },
  {
   "cell_type": "code",
   "execution_count": null,
   "id": "dc1ca435-e9eb-48a3-8df5-4d46aa5736cd",
   "metadata": {},
   "outputs": [],
   "source": [
    "if __name__ == '__main__':\n",
    "    a = int(input())\n",
    "    b = int(input())\n",
    "    print(a + b)\n",
    "    print(a - b)\n",
    "    print(a * b)"
   ]
  },
  {
   "cell_type": "markdown",
   "id": "c44fbf62-db75-42ec-9e4a-669f686118d7",
   "metadata": {},
   "source": [
    "**Division**"
   ]
  },
  {
   "cell_type": "code",
   "execution_count": null,
   "id": "bc8bd525-b5b4-4312-840e-c14c32f6cabd",
   "metadata": {},
   "outputs": [],
   "source": [
    "if __name__ == '__main__':\n",
    "    a = int(input())\n",
    "    b = int(input())\n",
    "    print(a // b)\n",
    "    print(a/b)"
   ]
  },
  {
   "cell_type": "markdown",
   "id": "b876628c-91f1-4150-912f-714b41ca16e6",
   "metadata": {},
   "source": [
    "**Loops**"
   ]
  },
  {
   "cell_type": "code",
   "execution_count": null,
   "id": "8c75ffc6-0490-45c9-9175-831682f5d415",
   "metadata": {},
   "outputs": [],
   "source": [
    "if __name__ == '__main__':\n",
    "    n = int(input())\n",
    "    # wanted to use \"join\" to remember it\n",
    "    print(\"\".join(str(i*i) + '\\n' for i in range(n)))"
   ]
  },
  {
   "cell_type": "markdown",
   "id": "058516a2-5d03-474d-a174-5fef6d77f3cd",
   "metadata": {},
   "source": [
    "**Write a function**"
   ]
  },
  {
   "cell_type": "code",
   "execution_count": null,
   "id": "3484065c-1568-4fb2-8481-05aefec667b5",
   "metadata": {},
   "outputs": [],
   "source": [
    "def is_leap(year):\n",
    "    leap = False\n",
    "    \n",
    "    if year % 4 == 0 and (year % 100 != 0 or year % 400 == 0):\n",
    "        leap = True\n",
    "    \n",
    "    return leap\n",
    "\n",
    "year = int(input())\n",
    "print(is_leap(year))"
   ]
  },
  {
   "cell_type": "markdown",
   "id": "64270922-f845-4654-ae99-0462dfa5ed07",
   "metadata": {},
   "source": [
    "### Print function"
   ]
  },
  {
   "cell_type": "code",
   "execution_count": null,
   "id": "7758341c-8d61-4690-9b35-785f1c5692ce",
   "metadata": {},
   "outputs": [],
   "source": [
    "if __name__ == '__main__':\n",
    "    n = int(input())\n",
    "    # had to research how to remove the newline\n",
    "    for i in range(n):\n",
    "        print(i+1,end=\"\")"
   ]
  },
  {
   "cell_type": "markdown",
   "id": "5a8e8e7a-6740-46fe-95a4-8f36eb877adb",
   "metadata": {
    "jp-MarkdownHeadingCollapsed": true
   },
   "source": [
    "### Data Types"
   ]
  },
  {
   "cell_type": "markdown",
   "id": "d8963b8b-4558-4dbd-ac25-68b66ad3281d",
   "metadata": {},
   "source": [
    "**List Comprehensions**"
   ]
  },
  {
   "cell_type": "code",
   "execution_count": null,
   "id": "2169c99a-38cd-4a3c-b8ea-3dc6e49cdfcb",
   "metadata": {},
   "outputs": [],
   "source": [
    "if __name__ == '__main__':\n",
    "    x = int(input())\n",
    "    y = int(input())\n",
    "    z = int(input())\n",
    "    n = int(input())\n",
    "    # low readability in my opinion\n",
    "    print([[i, j, k] for i in range(x+1) for j in range(y+1) for k in range(z+1) if i + j + k != n])"
   ]
  },
  {
   "cell_type": "markdown",
   "id": "3dea5249-0b03-4376-bdcc-f8848b8b2fa9",
   "metadata": {},
   "source": [
    "**Find the Runner-Up Score!**"
   ]
  },
  {
   "cell_type": "code",
   "execution_count": null,
   "id": "2deb7a8a-9d37-4c9e-9101-5c206ac5828f",
   "metadata": {},
   "outputs": [],
   "source": [
    "if __name__ == '__main__':\n",
    "    n = int(input())\n",
    "    arr = list(set(map(int, input().split())))\n",
    "    arr.sort()\n",
    "    #first thought about just sorting. Then had to solve with repeated elements\n",
    "    print(arr[-2])"
   ]
  },
  {
   "cell_type": "markdown",
   "id": "691a25e2-bbff-4a62-9fd2-a99adfd287eb",
   "metadata": {},
   "source": [
    "**Nested Lists**"
   ]
  },
  {
   "cell_type": "code",
   "execution_count": null,
   "id": "a8a2e712-fc21-4097-917d-8c7a6333b118",
   "metadata": {},
   "outputs": [],
   "source": [
    "if __name__ == '__main__':\n",
    "    elems = []\n",
    "    for _ in range(int(input())):\n",
    "        name = input()\n",
    "        score = float(input())\n",
    "        elems.append([score,name])\n",
    "    #sorting again\n",
    "    elems.sort()\n",
    "    \n",
    "    worst = elems[0][0]\n",
    "    found = worst\n",
    "    #once the target value is found, wait for it to be different\n",
    "    for x in elems:\n",
    "        if x[0] > worst:\n",
    "            if found != worst and found != x[0]:\n",
    "                break\n",
    "                \n",
    "            found = x[0]\n",
    "            print(x[1])"
   ]
  },
  {
   "cell_type": "markdown",
   "id": "5ebd527a-781e-4011-a209-fa679d29123f",
   "metadata": {},
   "source": [
    "**Finding the percentage**"
   ]
  },
  {
   "cell_type": "code",
   "execution_count": null,
   "id": "dd85b825-2d26-4a10-a9fa-a360ab29d4f1",
   "metadata": {},
   "outputs": [],
   "source": [
    "if __name__ == '__main__':\n",
    "    n = int(input())\n",
    "    student_marks = {}\n",
    "    for _ in range(n):\n",
    "        name, *line = input().split()\n",
    "        scores = list(map(float, line))\n",
    "        student_marks[name] = scores\n",
    "    query_name = input()\n",
    "    \n",
    "    cur = student_marks[query_name]\n",
    "    res = sum(cur) / len(cur)\n",
    "    ## had to research how to format. What a pain haha\n",
    "    print(f'{res:.2f}')"
   ]
  },
  {
   "cell_type": "markdown",
   "id": "2a111e37-9814-43fd-9aca-02cb4d5c252a",
   "metadata": {},
   "source": [
    "**Lists**"
   ]
  },
  {
   "cell_type": "code",
   "execution_count": null,
   "id": "e81be203-008a-4c3d-893e-c065ce02dcc4",
   "metadata": {},
   "outputs": [],
   "source": [
    "if __name__ == '__main__':\n",
    "    N = int(input())\n",
    "    \n",
    "    ans = []\n",
    "    for _ in range(N):\n",
    "        cur = input().split()\n",
    "        if cur[0] == \"insert\": \n",
    "            ans.insert(int(cur[1]),int(cur[2]))\n",
    "        if cur[0] == \"print\": \n",
    "            print(ans)\n",
    "        if cur[0] == \"remove\": \n",
    "            ans.remove(int(cur[1]))\n",
    "        if cur[0] == \"append\": \n",
    "            ans.append(int(cur[1])),\n",
    "        if cur[0] == \"pop\": \n",
    "            ans.pop()\n",
    "        if cur[0] == \"sort\": \n",
    "            ans.sort()\n",
    "        if cur[0] == \"reverse\": \n",
    "            ans.reverse()\n"
   ]
  },
  {
   "cell_type": "markdown",
   "id": "a2983ea4-1fc7-4df2-be90-443d6e4c34b2",
   "metadata": {},
   "source": [
    "**Tuples**"
   ]
  },
  {
   "cell_type": "code",
   "execution_count": null,
   "id": "72d8c8f8-89fd-4c16-9de0-cb7b23f20094",
   "metadata": {},
   "outputs": [],
   "source": [
    "if __name__ == '__main__':\n",
    "    #dont know why they give us the N\n",
    "    n = int(input())\n",
    "    integer_list = map(int, input().split())\n",
    "    print(hash(tuple(integer_list)))"
   ]
  },
  {
   "cell_type": "markdown",
   "id": "bf1319a3-c68b-4c72-9876-10abc2525d9b",
   "metadata": {
    "jp-MarkdownHeadingCollapsed": true
   },
   "source": [
    "### Strings"
   ]
  },
  {
   "cell_type": "markdown",
   "id": "abfddf39-648f-4eca-8caf-fac7a4327e7c",
   "metadata": {},
   "source": [
    "**sWAP cASE**"
   ]
  },
  {
   "cell_type": "code",
   "execution_count": null,
   "id": "bbb76c45-7a15-4194-a0d9-4a331f9d6c7d",
   "metadata": {},
   "outputs": [],
   "source": [
    "def swap_case(s):\n",
    "    # wanted to make it as short as possible\n",
    "    return \"\".join(x.lower() if x.isupper() else x.upper() for x in s)\n",
    "\n",
    "if __name__ == '__main__':\n",
    "    s = input()\n",
    "    result = swap_case(s)\n",
    "    print(result)"
   ]
  },
  {
   "cell_type": "markdown",
   "id": "d0c53146-9c83-4740-b301-ffbe12995391",
   "metadata": {},
   "source": [
    "**String Split and Join**"
   ]
  },
  {
   "cell_type": "code",
   "execution_count": null,
   "id": "c8fc631b-7009-4f38-ab18-f37c81d14945",
   "metadata": {},
   "outputs": [],
   "source": [
    "def split_and_join(line):\n",
    "    return \"-\".join(line.split(\" \"))\n",
    "\n",
    "if __name__ == '__main__':\n",
    "    line = input()\n",
    "    result = split_and_join(line)\n",
    "    print(result)"
   ]
  },
  {
   "cell_type": "markdown",
   "id": "c810e8f1-9f8d-4e1f-be0a-7ab5aa99ef3c",
   "metadata": {},
   "source": [
    "**What's Your Name?**"
   ]
  },
  {
   "cell_type": "code",
   "execution_count": null,
   "id": "b81c249b-bce6-434e-a933-52a4feb02af3",
   "metadata": {},
   "outputs": [],
   "source": [
    "def print_full_name(first, last):\n",
    "    # researched, expected it to have str templates just like typescript's \"str ${var} str\"\n",
    "    print(f\"Hello {first} {last}! You just delved into python.\")\n",
    "\n",
    "if __name__ == '__main__':\n",
    "    first_name = input()\n",
    "    last_name = input()\n",
    "    print_full_name(first_name, last_name)"
   ]
  },
  {
   "cell_type": "markdown",
   "id": "d2b1206b-a326-49b1-b626-187aa564422e",
   "metadata": {},
   "source": [
    "**Mutations**"
   ]
  },
  {
   "cell_type": "code",
   "execution_count": null,
   "id": "4c9df9ff-6f9c-401c-b002-666266d988b9",
   "metadata": {},
   "outputs": [],
   "source": [
    "def mutate_string(string, position, character):\n",
    "    #short and nice. O(n), sadly\n",
    "    return string[:position] + character + string[position+1:]\n",
    "\n",
    "if __name__ == '__main__':\n",
    "    s = input()\n",
    "    i, c = input().split()\n",
    "    s_new = mutate_string(s, int(i), c)\n",
    "    print(s_new)"
   ]
  },
  {
   "cell_type": "markdown",
   "id": "12d3c3f0-d3da-429f-a359-7b70b9bac3a7",
   "metadata": {},
   "source": [
    "**Find a string**"
   ]
  },
  {
   "cell_type": "code",
   "execution_count": null,
   "id": "44b6d0d6-1349-4092-a018-5131812fe9ed",
   "metadata": {},
   "outputs": [],
   "source": [
    "# reference https://www.geeksforgeeks.org/python-ways-to-count-number-of-substring-in-string/\n",
    "import re\n",
    "\n",
    "def count_substring(string, sub_string):\n",
    "    # first used this: string.count(sub_string). It didnt matched cases\n",
    "    # such as string=\"ababa\" sub_string = \"aba\"\n",
    "    return len(re.findall(f'(?=({sub_string}))', string))\n",
    "    \n",
    "\n",
    "if __name__ == '__main__':\n",
    "    string = input().strip()\n",
    "    sub_string = input().strip()\n",
    "    \n",
    "    count = count_substring(string, sub_string)\n",
    "    print(count)"
   ]
  },
  {
   "cell_type": "markdown",
   "id": "a6dc023f-c39b-4d30-8df5-36525d39adef",
   "metadata": {},
   "source": [
    "**String Validators**"
   ]
  },
  {
   "cell_type": "code",
   "execution_count": null,
   "id": "41d7ca4c-0506-401b-94be-0e34b93aa27a",
   "metadata": {},
   "outputs": [],
   "source": [
    "if __name__ == '__main__':\n",
    "    s = input()\n",
    "    alpha = num = upp = lower = False\n",
    "    for x in s:\n",
    "        # like i can do this \"|=\" like in c++\n",
    "        alpha |= x.isalpha()\n",
    "        num |= x.isdigit()\n",
    "        upp |= x.isupper()\n",
    "        lower |= x.islower()\n",
    "    \n",
    "    print(alpha or num)\n",
    "    print(alpha)\n",
    "    print(num)\n",
    "    print(lower)\n",
    "    print(upp)"
   ]
  },
  {
   "cell_type": "markdown",
   "id": "d44a7ae4-7526-4fff-916a-333eb587eab8",
   "metadata": {},
   "source": [
    "**Text Alignment**"
   ]
  },
  {
   "cell_type": "code",
   "execution_count": null,
   "id": "402e1754-1af9-4b85-811b-35af655487b7",
   "metadata": {},
   "outputs": [],
   "source": [
    "#TODO"
   ]
  },
  {
   "cell_type": "markdown",
   "id": "d84545cb-f82c-40e8-9f51-763b0f719bc5",
   "metadata": {},
   "source": [
    "**Text Wrap**"
   ]
  },
  {
   "cell_type": "code",
   "execution_count": null,
   "id": "39109775-ac26-46dc-a44f-d8aede272581",
   "metadata": {},
   "outputs": [],
   "source": [
    "import textwrap\n",
    "\n",
    "def wrap(string, w):\n",
    "    return \"\".join([string[i:i+w] + \"\\n\" for i in range(0,len(string),w)])\n",
    "\n",
    "if __name__ == '__main__':\n",
    "    string, max_width = input(), int(input())\n",
    "    result = wrap(string, max_width)\n",
    "    print(result)"
   ]
  },
  {
   "cell_type": "markdown",
   "id": "5f595c63-1bd6-4f42-b444-9da40fa9251b",
   "metadata": {},
   "source": [
    "**Designer Door Mat**"
   ]
  },
  {
   "cell_type": "code",
   "execution_count": null,
   "id": "1e635594-2fdc-46e2-b891-a96ee570fd7e",
   "metadata": {},
   "outputs": [],
   "source": [
    "## TODO"
   ]
  },
  {
   "cell_type": "markdown",
   "id": "ebcbf36a-4e47-4c58-be0f-338e10b62dcf",
   "metadata": {},
   "source": [
    "**String Formatting**"
   ]
  },
  {
   "cell_type": "code",
   "execution_count": null,
   "id": "c187bef7-bad9-443a-9662-56a39786d209",
   "metadata": {},
   "outputs": [],
   "source": [
    "def print_formatted(number):\n",
    "    w = len(bin(number)[2:])\n",
    "    for i in range(1,number+1):\n",
    "        # researched rjust. So useful, pads left when the arg is bigger than the str lenght\n",
    "        # so anoying the uppercase in hex values\n",
    "        print(str(i).rjust(w), oct(i)[2:].rjust(w), hex(i)[2:].rjust(w).upper(), bin(i)[2:].rjust(w))\n",
    "\n",
    "if __name__ == '__main__':\n",
    "    n = int(input())\n",
    "    print_formatted(n)"
   ]
  },
  {
   "cell_type": "markdown",
   "id": "40e1108c-c994-43d3-9f12-ce666094cc69",
   "metadata": {},
   "source": [
    "**Alphabet Rangoli**"
   ]
  },
  {
   "cell_type": "code",
   "execution_count": null,
   "id": "71ee3cd6-0a8a-4371-b27a-b91f1948e80a",
   "metadata": {},
   "outputs": [],
   "source": [
    "#TODO"
   ]
  },
  {
   "cell_type": "markdown",
   "id": "67974e0f-5b86-4013-ba3d-647217e39150",
   "metadata": {},
   "source": [
    "**Capitalize!**"
   ]
  },
  {
   "cell_type": "code",
   "execution_count": null,
   "id": "04a7f9b3-3fe5-483e-b80d-12fee7d86489",
   "metadata": {},
   "outputs": [],
   "source": [
    "def solve(s):\n",
    "    return \" \".join(x.capitalize() for x in s.split(\" \"))\n",
    "\n",
    "if __name__ == '__main__':\n",
    "    fptr = open(os.environ['OUTPUT_PATH'], 'w')\n",
    "    s = input()\n",
    "    result = solve(s)\n",
    "    fptr.write(result + '\\n')\n",
    "    fptr.close()\n"
   ]
  },
  {
   "cell_type": "markdown",
   "id": "b0c4b81f-0ad4-427c-a1fb-c78ce9e354fc",
   "metadata": {},
   "source": [
    "**The Minion Game**"
   ]
  },
  {
   "cell_type": "code",
   "execution_count": null,
   "id": "a733db94-b0f0-4af8-8642-1eff57362b95",
   "metadata": {},
   "outputs": [],
   "source": [
    "def minion_game(string):\n",
    "    #think about counting possible substrings instead of generating them\n",
    "    #given i, count all substrings starting at i. \n",
    "    #if i is vowel, kevin sums, otherwise stuart sums\n",
    "    \n",
    "    kevin = stuart = 0\n",
    "    for i in range(len(string)):\n",
    "        n = len(string) - i\n",
    "        if string[i] in ['A','E','I','O','U']:\n",
    "            kevin += n\n",
    "        else:\n",
    "            stuart += n\n",
    "            \n",
    "    if kevin == stuart:\n",
    "        return print(\"Draw\")\n",
    "    # my first solution was correct. But kevin template had no space :)\n",
    "    print(f\"Stuart {stuart}\" if stuart > kevin else f\"Kevin {kevin}\")\n",
    "\n",
    "if __name__ == '__main__':\n",
    "    s = input()\n",
    "    minion_game(s)"
   ]
  },
  {
   "cell_type": "markdown",
   "id": "44fc7ad9-871c-4f53-a4ba-71c3f85c161b",
   "metadata": {},
   "source": [
    "**Merge the Tools!**"
   ]
  },
  {
   "cell_type": "code",
   "execution_count": null,
   "id": "19e9f727-47b6-4d17-90c6-4f6afe758648",
   "metadata": {},
   "outputs": [],
   "source": [
    "def merge_the_tools(s, k):\n",
    "    # just using lists and sets. easy cake\n",
    "    subs = [s[i:i+k] for i in range(0,len(s),k)]\n",
    "    for t in subs:\n",
    "        print(\"\".join(list(set(t))))\n",
    "\n",
    "if __name__ == '__main__':\n",
    "    string, k = input(), int(input())\n",
    "    merge_the_tools(string, k)"
   ]
  },
  {
   "cell_type": "markdown",
   "id": "9f7e79b3-1de0-4565-b581-8f885d0a913e",
   "metadata": {
    "jp-MarkdownHeadingCollapsed": true
   },
   "source": [
    "### Sets"
   ]
  },
  {
   "cell_type": "markdown",
   "id": "d461d88f-900d-4050-af2d-67a87542304a",
   "metadata": {},
   "source": [
    "**Introduction to Sets**"
   ]
  },
  {
   "cell_type": "code",
   "execution_count": null,
   "id": "6a7aa8f9-a3ce-42c0-b760-9dcf66619df3",
   "metadata": {},
   "outputs": [],
   "source": [
    "def average(array):\n",
    "    #better than calling \"set\" twice\n",
    "    as_set = set(array)\n",
    "    return sum(as_set)/len(as_set)\n",
    "\n",
    "if __name__ == '__main__':\n",
    "    n = int(input())\n",
    "    arr = list(map(int, input().split()))\n",
    "    result = average(arr)\n",
    "    print(result)"
   ]
  },
  {
   "cell_type": "markdown",
   "id": "88b8eff0-19e3-4cbb-81fd-29ca50b9ff98",
   "metadata": {},
   "source": [
    "**No Idea!**"
   ]
  },
  {
   "cell_type": "code",
   "execution_count": null,
   "id": "044f7aef-7f00-4f2f-9885-a8146f4265c7",
   "metadata": {},
   "outputs": [],
   "source": [
    "#wonder why \"map\" returns a \"map object\" and not a list \n",
    "n,m = list(map(int,input().split(\" \")))\n",
    "ls = list(map(int,input().split(\" \")))\n",
    "\n",
    "A = set(list(map(int,input().split(\" \")) ))\n",
    "B = set(list( map(int,input().split(\" \")) ))\n",
    "\n",
    "res = 0\n",
    "for i in ls:\n",
    "    if i in A:\n",
    "        res+=1\n",
    "    elif i in B:\n",
    "        res-=1\n",
    "\n",
    "print(res)\n"
   ]
  },
  {
   "cell_type": "markdown",
   "id": "3a93ee7d-63db-4fb5-9f82-2be1577ae4e2",
   "metadata": {},
   "source": [
    "**Symmetric Difference**"
   ]
  },
  {
   "cell_type": "code",
   "execution_count": null,
   "id": "e0ec0d0f-bb53-4049-996f-b7b7e27c7a1c",
   "metadata": {},
   "outputs": [],
   "source": [
    "n = int(input())\n",
    "ls_n = set(map(int,input().split()))\n",
    "m = int(input())\n",
    "ls_m = set(map(int,input().split()))\n",
    "\n",
    "res = list(ls_n.difference(ls_m)) + list(ls_m.difference(ls_n))\n",
    "res.sort()\n",
    "\n",
    "for i in res:\n",
    "    print(i)"
   ]
  },
  {
   "cell_type": "markdown",
   "id": "f409e894-650a-4bc8-976a-c3cdeed0675c",
   "metadata": {},
   "source": [
    "**Set .add()**"
   ]
  },
  {
   "cell_type": "code",
   "execution_count": null,
   "id": "515a2b33-4764-4073-8a08-eb8dc958e909",
   "metadata": {},
   "outputs": [],
   "source": [
    "n = int(input())\n",
    "ls  = set()\n",
    "for x in range(n):\n",
    "    ls.add(input())\n",
    "    \n",
    "print(len(ls))"
   ]
  },
  {
   "cell_type": "markdown",
   "id": "ff1c3630-d4ad-476f-82d3-b4c6d49033e6",
   "metadata": {},
   "source": [
    "**Set .discard(), .remove() & .pop()**"
   ]
  },
  {
   "cell_type": "code",
   "execution_count": null,
   "id": "34a1fc6e-d18a-42b8-971e-53f50ee05615",
   "metadata": {},
   "outputs": [],
   "source": [
    "#wasnt working until i changed the language to python3...\n",
    "n = int(input())\n",
    "ls = set(map(int,input().split()))\n",
    "\n",
    "for _ in range(int(input())):\n",
    "    op = input().split()\n",
    "    if op[0] == \"pop\":\n",
    "        ls.pop()\n",
    "    if op[0] == \"remove\":\n",
    "        try:\n",
    "            ls.remove(int(op[1]))\n",
    "        except:\n",
    "            continue\n",
    "    if op[0] == \"discard\":\n",
    "        ls.discard(int(op[1]))\n",
    "\n",
    "print(sum(ls))\n",
    " "
   ]
  },
  {
   "cell_type": "markdown",
   "id": "769d11dd-e6a1-4ac0-95bd-c1112c5ca862",
   "metadata": {},
   "source": [
    "**Set .union() Operation**"
   ]
  },
  {
   "cell_type": "code",
   "execution_count": null,
   "id": "e6d5837f-b5a1-44d1-b4fe-5aeb58a8d059",
   "metadata": {},
   "outputs": [],
   "source": [
    "n = input()\n",
    "ls_n = set(input().split())\n",
    "m = input()\n",
    "ls_m = set(input().split())\n",
    "#no need for n/m nor turning elements to int\n",
    "print(len(ls_n.union(ls_m)))"
   ]
  },
  {
   "cell_type": "markdown",
   "id": "2723700c-a190-420a-8ff7-5ee222c925bd",
   "metadata": {},
   "source": [
    "**Set .intersection() Operation**"
   ]
  },
  {
   "cell_type": "code",
   "execution_count": null,
   "id": "cbc20205-e478-4d1c-b9af-d8fc7ee21172",
   "metadata": {},
   "outputs": [],
   "source": [
    "#copy/paste previous one\n",
    "n = input()\n",
    "ls_n = set(input().split())\n",
    "m = input()\n",
    "ls_m = set(input().split())\n",
    "\n",
    "print(len(ls_n.intersection(ls_m)))"
   ]
  },
  {
   "cell_type": "markdown",
   "id": "17ce7e17-45cb-4f77-9ad7-b151746d7cfd",
   "metadata": {},
   "source": [
    "**Set .difference() Operation**"
   ]
  },
  {
   "cell_type": "code",
   "execution_count": null,
   "id": "895ec75b-f8fd-48c3-a7eb-17d087237704",
   "metadata": {},
   "outputs": [],
   "source": [
    "#copy/paste previous one\n",
    "n = input()\n",
    "ls_n = set(input().split())\n",
    "m = input()\n",
    "ls_m = set(input().split())\n",
    "\n",
    "print(len(ls_n.difference(ls_m)))"
   ]
  },
  {
   "cell_type": "markdown",
   "id": "f4ad392e-fc8a-4955-b36b-2b003512b65f",
   "metadata": {},
   "source": [
    "**Set .symmetric_difference() Operation**"
   ]
  },
  {
   "cell_type": "code",
   "execution_count": null,
   "id": "45f27132-fdd0-4608-a9c7-aa9b43a3187d",
   "metadata": {},
   "outputs": [],
   "source": [
    "#copy/paste previous one\n",
    "n = input()\n",
    "ls_n = set(input().split())\n",
    "m = input()\n",
    "ls_m = set(input().split())\n",
    "\n",
    "print(len(ls_n.symmetric_difference(ls_m)))"
   ]
  },
  {
   "cell_type": "markdown",
   "id": "956fec6e-e67e-486a-a136-3da03f16e527",
   "metadata": {},
   "source": [
    "**Set Mutations**"
   ]
  },
  {
   "cell_type": "code",
   "execution_count": null,
   "id": "ba9afeac-2907-4eab-9251-21d60883e1ec",
   "metadata": {},
   "outputs": [],
   "source": [
    "def read_list():\n",
    "    return map(int,input().split())\n",
    "\n",
    "n = input()\n",
    "A = set(read_list())\n",
    "m = int(input())\n",
    "\n",
    "for _ in range(m):\n",
    "    args = input().split()\n",
    "    if args[0] == \"intersection_update\":\n",
    "        A.intersection_update(read_list())\n",
    "    if args[0] == \"update\":\n",
    "        A.update(read_list())\n",
    "    if args[0] == \"difference_update\":\n",
    "        A.difference_update(read_list())\n",
    "    if args[0] == \"symmetric_difference_update\":\n",
    "        A.symmetric_difference_update(read_list())\n",
    "        \n",
    "print(sum(A))"
   ]
  },
  {
   "cell_type": "markdown",
   "id": "ec3fb0fe-90e7-4543-8dd1-cb449a04ecb1",
   "metadata": {},
   "source": [
    "**The Captain's Room**"
   ]
  },
  {
   "cell_type": "code",
   "execution_count": null,
   "id": "4397b884-b62b-448a-9e6a-4a52666c027a",
   "metadata": {},
   "outputs": [],
   "source": [
    "# not the simplest solution. First think i thought was counting all instances and check which one is unique\n",
    "\n",
    "def main():\n",
    "    k = int(input())\n",
    "    ls = input().split()\n",
    "\n",
    "    mp = {i:0 for i in ls}\n",
    "    for i in ls:\n",
    "        mp[i]+=1\n",
    "        \n",
    "    for x in mp.keys():\n",
    "        if mp[x] < k:\n",
    "            print(x)\n",
    "            return\n",
    "            \n",
    "main()"
   ]
  },
  {
   "cell_type": "markdown",
   "id": "a4aaf2de-1bfb-4414-bbff-7f392d46fd81",
   "metadata": {},
   "source": [
    "**Check Subset**"
   ]
  },
  {
   "cell_type": "code",
   "execution_count": null,
   "id": "d57dfe31-a1f0-4aa7-b0d5-9d8744846864",
   "metadata": {},
   "outputs": [],
   "source": [
    "#tested if difference would work before coding it\n",
    "t = int(input())\n",
    "\n",
    "for _ in range(t):\n",
    "    input()\n",
    "    a = set(input().split())\n",
    "    input()\n",
    "    b = set(input().split())\n",
    "    \n",
    "    if len(a.difference(b)) == 0:\n",
    "        print(\"True\")\n",
    "    else:\n",
    "        print(\"False\")"
   ]
  },
  {
   "cell_type": "markdown",
   "id": "f58576f9-69ca-4e62-865f-b8e3c665b83b",
   "metadata": {},
   "source": [
    "**Check Strict Superset**"
   ]
  },
  {
   "cell_type": "code",
   "execution_count": null,
   "id": "7931c042-7826-4392-bc9a-c7021a079949",
   "metadata": {},
   "outputs": [],
   "source": [
    "#intersection was the option. Just needed to think what to compare it to (with the subset)\n",
    "a = set(input().split())\n",
    "n = int(input())\n",
    "\n",
    "is_super = True\n",
    "for _ in range(n):\n",
    "    cur = set(input().split())\n",
    "    is_super &= a.intersection(cur) == cur\n",
    "\n",
    "print(is_super)"
   ]
  },
  {
   "cell_type": "markdown",
   "id": "1e504c78-fd49-4191-8fe8-3e602417bcac",
   "metadata": {
    "jp-MarkdownHeadingCollapsed": true
   },
   "source": [
    "### Collections"
   ]
  },
  {
   "cell_type": "markdown",
   "id": "a7be693b-8be3-48b5-8534-77156eb0a37a",
   "metadata": {},
   "source": [
    "**collections.Counter()**"
   ]
  },
  {
   "cell_type": "code",
   "execution_count": null,
   "id": "6f0b80d9-d9cc-4323-8188-2ebaefddb7d3",
   "metadata": {},
   "outputs": [],
   "source": [
    "# i prefer to just use a map of str:int\n",
    "from collections import Counter\n",
    "\n",
    "input()\n",
    "shoes = Counter(input().split())\n",
    "\n",
    "m = int(input())\n",
    "res = 0\n",
    "\n",
    "for _ in range(m):\n",
    "    size,pric = input().split()\n",
    "    if shoes[size] > 0:\n",
    "        shoes[size]-=1\n",
    "        res+=int(pric)\n",
    "\n",
    "print(res)"
   ]
  },
  {
   "cell_type": "markdown",
   "id": "ee5a5a9f-c6e1-45b2-96a7-cf256daf133b",
   "metadata": {},
   "source": [
    "**DefaultDict Tutorial**"
   ]
  },
  {
   "cell_type": "code",
   "execution_count": null,
   "id": "79505e49-4b51-44fa-a85a-befb5f17f69f",
   "metadata": {},
   "outputs": [],
   "source": [
    "from collections import defaultdict\n",
    "\n",
    "n,m = list(map(int,input().split()))\n",
    "\n",
    "a = defaultdict(list)\n",
    "for i in range(n):\n",
    "    a[input()].append(str(i+1))\n",
    "#easy cake\n",
    "for _ in range(m):\n",
    "    wrd = input()\n",
    "    if len(a[wrd]) > 0:\n",
    "        print(\" \".join(a[wrd]))\n",
    "    else:\n",
    "        print(-1)"
   ]
  },
  {
   "cell_type": "markdown",
   "id": "936fa04e-e359-4e35-8b04-5238247d196c",
   "metadata": {},
   "source": [
    "**Collections.namedtuple()**"
   ]
  },
  {
   "cell_type": "code",
   "execution_count": null,
   "id": "1ae14269-73b0-4058-94cd-f34b777bee27",
   "metadata": {},
   "outputs": [],
   "source": [
    "from collections import namedtuple\n",
    "\n",
    "n = int(input())\n",
    "order = input().split()\n",
    "# at start thought namedtuple was useless until i saw the changing header orderxd.\n",
    "# still think might be of low usage\n",
    "Student = namedtuple('Student',\",\".join(order))\n",
    "res = []\n",
    "for _ in range(n):\n",
    "    a,b,c,d = input().split()\n",
    "    res.append(Student(a,b,c,d))\n",
    "\n",
    "print(sum(int(i.MARKS) for i in res)/len(res))"
   ]
  },
  {
   "cell_type": "markdown",
   "id": "835ba5a9-6b00-4b8d-b802-75c51209184f",
   "metadata": {},
   "source": [
    "**Collections.OrderedDict()**"
   ]
  },
  {
   "cell_type": "code",
   "execution_count": null,
   "id": "601c28bb-2152-442e-a752-99d15018eaed",
   "metadata": {},
   "outputs": [],
   "source": [
    "from collections import OrderedDict\n",
    "\n",
    "n = int(input())\n",
    "res = OrderedDict()\n",
    "\n",
    "for _ in range(n):\n",
    "    cur = input().split()\n",
    "    key = \" \".join(cur[:-1])\n",
    "    if key in res:\n",
    "        res[key] += int(cur[-1])\n",
    "    else:\n",
    "        res[key] = int(cur[-1])\n",
    "\n",
    "for cur in res:\n",
    "    print(cur,res[cur])\n"
   ]
  },
  {
   "cell_type": "markdown",
   "id": "4905a0d7-a1cc-4475-b67c-4e4eeded34c8",
   "metadata": {},
   "source": [
    "**Word Order**"
   ]
  },
  {
   "cell_type": "code",
   "execution_count": null,
   "id": "e6eb2018-8e10-4b79-ae3d-fcdd8b39d2c5",
   "metadata": {},
   "outputs": [],
   "source": [
    "from collections import OrderedDict\n",
    "\n",
    "#too easy\n",
    "res = OrderedDict()\n",
    "n = int(input())\n",
    "\n",
    "for _ in range(n):\n",
    "    key = input()\n",
    "    if key in res:\n",
    "        res[key] += 1\n",
    "    else:\n",
    "        res[key] = 1\n",
    "        \n",
    "print(len(res))\n",
    "print(\" \".join(str(res[cur]) for cur in res))"
   ]
  },
  {
   "cell_type": "markdown",
   "id": "987c8b49-aef4-4285-85ab-3ea913b42026",
   "metadata": {},
   "source": [
    "**Collections.deque()**"
   ]
  },
  {
   "cell_type": "code",
   "execution_count": null,
   "id": "ddc87660-0872-4823-9675-3c9a02d0a035",
   "metadata": {},
   "outputs": [],
   "source": [
    "from collections import deque\n",
    "\n",
    "n = int(input())\n",
    "\n",
    "res = deque()\n",
    "for _ in range(n):\n",
    "    args = input().split()\n",
    "    if args[0] == \"append\":\n",
    "        res.append(args[1])\n",
    "    if args[0] == \"appendleft\":\n",
    "        res.appendleft(args[1])\n",
    "    if args[0] == \"pop\":\n",
    "        res.pop()\n",
    "    if args[0] == \"popleft\":\n",
    "        res.popleft()\n",
    "\n",
    "print(\" \".join(i for i in res))"
   ]
  },
  {
   "cell_type": "markdown",
   "id": "a3055565-3a69-45db-93df-88096e74c73c",
   "metadata": {},
   "source": [
    "**Company Logo**"
   ]
  },
  {
   "cell_type": "code",
   "execution_count": null,
   "id": "b4d23b46-5399-49d5-bdb0-6ea7cb41ca47",
   "metadata": {},
   "outputs": [],
   "source": [
    "from collections import defaultdict\n",
    "\n",
    "if __name__ == '__main__':\n",
    "    s = input()\n",
    "\n",
    "#prefer to use a normal dict\n",
    "res = defaultdict(int)\n",
    "for c in s:\n",
    "    res[c]+=1\n",
    "\n",
    "# nice trick to make alphabetical order in ascendent function\n",
    "ls = [(res[i],-ord(i)) for i in res]\n",
    "ls.sort()\n",
    "\n",
    "for i in range(1,4):\n",
    "    print(chr(-ls[-i][1]),ls[-i][0])\n"
   ]
  },
  {
   "cell_type": "markdown",
   "id": "4377a094-dbaa-455b-a2ab-48b44c4de621",
   "metadata": {},
   "source": [
    "**Piling Up!**"
   ]
  },
  {
   "cell_type": "code",
   "execution_count": null,
   "id": "e2660088-1252-410d-88fc-d565810076a0",
   "metadata": {},
   "outputs": [],
   "source": [
    "input()\n",
    "ls = input().split()\n",
    "\n",
    "# nice reversing technique for strings (researched)\n",
    "print(all([int(i) > 0 for i in ls]) and any([s == s[::-1] for s in ls]))"
   ]
  },
  {
   "cell_type": "markdown",
   "id": "45f4d116-e388-42e0-ab39-026cf10055d8",
   "metadata": {
    "jp-MarkdownHeadingCollapsed": true
   },
   "source": [
    "### Date and Time"
   ]
  },
  {
   "cell_type": "markdown",
   "id": "b41e155f-9852-4c50-a026-bd0af88985e8",
   "metadata": {},
   "source": [
    "**Calendar Module**"
   ]
  },
  {
   "cell_type": "code",
   "execution_count": null,
   "id": "bf745203-8efe-4a9f-a473-b9add9e84e3e",
   "metadata": {},
   "outputs": [],
   "source": [
    "import calendar\n",
    "# just researched\n",
    "m,d,y = list(map(int,input().split()))\n",
    "\n",
    "res = calendar.weekday(y, m, d)\n",
    "print((calendar.day_name[res]).upper())"
   ]
  },
  {
   "cell_type": "markdown",
   "id": "0020b6de-53e9-4dc7-9aad-668c578d9243",
   "metadata": {},
   "source": [
    "**Time Delta**"
   ]
  },
  {
   "cell_type": "code",
   "execution_count": null,
   "id": "3a282812-1a5a-4b7d-ab4e-1e96a5ddf17b",
   "metadata": {},
   "outputs": [],
   "source": [
    "\n",
    "import os\n",
    "from datetime import datetime\n",
    "\n",
    "def time_delta(t1, t2):\n",
    "    t1 = datetime.strptime(t1, '%a %d %b %Y %H:%M:%S %z')\n",
    "    t2 = datetime.strptime(t2, '%a %d %b %Y %H:%M:%S %z')\n",
    "    \n",
    "    return str(int(abs((t1-t2).total_seconds()))) \n",
    "\n",
    "# 0 skill. This one was just researching\n",
    "if __name__ == '__main__':\n",
    "    fptr = open(os.environ['OUTPUT_PATH'], 'w')\n",
    "\n",
    "    t = int(input())\n",
    "\n",
    "    for t_itr in range(t):\n",
    "        t1 = input()\n",
    "\n",
    "        t2 = input()\n",
    "\n",
    "        delta = time_delta(t1, t2)\n",
    "\n",
    "        fptr.write(delta + '\\n')\n",
    "\n",
    "    fptr.close()\n"
   ]
  },
  {
   "cell_type": "markdown",
   "id": "d8064ebb-4e53-40c3-a29a-2e95c7c95004",
   "metadata": {
    "jp-MarkdownHeadingCollapsed": true
   },
   "source": [
    "### Exceptions"
   ]
  },
  {
   "cell_type": "markdown",
   "id": "587d7025-bbbe-44c0-ab5e-ad3d213a8aa0",
   "metadata": {},
   "source": [
    "**Errors and Exceptions**"
   ]
  },
  {
   "cell_type": "code",
   "execution_count": null,
   "id": "56e43e35-ef4f-45d7-a6a6-a5e91f04c970",
   "metadata": {},
   "outputs": [],
   "source": [
    "n = int(input())\n",
    "# just researched how to catch any error\n",
    "for _ in range(n):\n",
    "    a,b = input().split()\n",
    "    try:\n",
    "        print(int(a)//int(b))\n",
    "    except Exception as e:\n",
    "        print(\"Error Code:\",e)"
   ]
  },
  {
   "cell_type": "markdown",
   "id": "bb3ecb05-51e3-4e1c-a578-9cd6239c6e63",
   "metadata": {
    "jp-MarkdownHeadingCollapsed": true
   },
   "source": [
    "### Built-ins"
   ]
  },
  {
   "cell_type": "markdown",
   "id": "b69b8b63-8aa8-41a4-b8b0-b17cbb984e9e",
   "metadata": {},
   "source": [
    "**Zipped!**"
   ]
  },
  {
   "cell_type": "code",
   "execution_count": null,
   "id": "185518c1-b9dc-4387-888c-4579c5441636",
   "metadata": {},
   "outputs": [],
   "source": [
    "from functools import reduce\n",
    "\n",
    "n,m = list(map(int,input().split()))\n",
    "\n",
    "table = []\n",
    "for _ in range(m):\n",
    "    table.append(list(map(float,input().split())))\n",
    "\n",
    "# had to pay attention to the example to notice the \"*\"\n",
    "table = list(zip(*table))\n",
    "for cur in table:\n",
    "    print(sum(list(cur))/len(cur))"
   ]
  },
  {
   "cell_type": "markdown",
   "id": "87a8873d-c0bd-4b22-a1d8-2b4bf566c0eb",
   "metadata": {},
   "source": [
    "**Python Evaluation**"
   ]
  },
  {
   "cell_type": "code",
   "execution_count": null,
   "id": "88171c27-21ed-44b6-baf2-a275842e4d3c",
   "metadata": {},
   "outputs": [],
   "source": [
    "#took longer thinking why eval prints again. Its because the args were wrapped inside \"print\"\n",
    "eval(input())"
   ]
  },
  {
   "cell_type": "markdown",
   "id": "81a47f1e-ddac-48df-a00c-111036cd033d",
   "metadata": {},
   "source": [
    "**Input()**"
   ]
  },
  {
   "cell_type": "code",
   "execution_count": null,
   "id": "f4a48d60-40f5-4a48-80b8-1d5325e9db63",
   "metadata": {},
   "outputs": [],
   "source": [
    "x,k = input().split()\n",
    "\n",
    "poly = input().replace(\"x\",x)\n",
    "print(eval(poly) == int(k))"
   ]
  },
  {
   "cell_type": "markdown",
   "id": "754b959c-c2ef-49b7-ab75-5ce45a3787a0",
   "metadata": {
    "jp-MarkdownHeadingCollapsed": true
   },
   "source": [
    "### Python Functionals"
   ]
  },
  {
   "cell_type": "markdown",
   "id": "e59a4370-42c1-401f-8581-fdb22d40b2e8",
   "metadata": {},
   "source": [
    "**Map and Lambda Function**"
   ]
  },
  {
   "cell_type": "code",
   "execution_count": null,
   "id": "2e773f83-58c4-4e5d-a267-be6fa8e9a6af",
   "metadata": {},
   "outputs": [],
   "source": [
    "cube = lambda x: x**3# complete the lambda function \n",
    "\n",
    "# would have liked a shorter fib func\n",
    "def fibonacci(n):\n",
    "    if n == 0:\n",
    "        return []\n",
    "    if n == 1:\n",
    "        return [0]\n",
    "    if n == 2:\n",
    "        return [0,1]\n",
    "    prev = fibonacci(n-1)\n",
    "    return prev + [prev[-1] + prev[-2]]\n",
    "\n",
    "if __name__ == '__main__':\n",
    "    n = int(input())\n",
    "    print(list(map(cube, fibonacci(n))))"
   ]
  },
  {
   "cell_type": "markdown",
   "id": "8810953e-beee-45d8-aa06-a9a9eb4056e0",
   "metadata": {
    "jp-MarkdownHeadingCollapsed": true
   },
   "source": [
    "### Regex and Parsing"
   ]
  },
  {
   "cell_type": "markdown",
   "id": "c49a1099-9c0b-49b5-88fb-c8c6ad0c6a01",
   "metadata": {},
   "source": [
    "**Detect Floating Point Number**"
   ]
  },
  {
   "cell_type": "code",
   "execution_count": null,
   "id": "90b51961-7523-489b-b838-2ac53e9e4004",
   "metadata": {},
   "outputs": [],
   "source": [
    "t = int(input())\n",
    "#problem didnt specify \"how\" to solve it.\n",
    "for _ in range(t):\n",
    "    cur = input()\n",
    "    res = False\n",
    "    try:\n",
    "        float(cur)\n",
    "        res = len(cur.split(\".\")[1]) > 0\n",
    "    except Exception:\n",
    "        print(\"False\")\n",
    "        continue\n",
    "    print(\"True\")"
   ]
  },
  {
   "cell_type": "markdown",
   "id": "58f6a37d-b8f5-4215-8b68-8ea21a9d5737",
   "metadata": {},
   "source": [
    "**Re.split()**"
   ]
  },
  {
   "cell_type": "code",
   "execution_count": null,
   "id": "fd758bd5-af59-46f4-9a90-8af5602ec14f",
   "metadata": {},
   "outputs": [],
   "source": [
    "regex_pattern = r\"[.|,]\"\t# Do not delete 'r'.\n",
    "# now they DID specify to use regex :)\n",
    "import re\n",
    "print(\"\\n\".join(re.split(regex_pattern, input())))"
   ]
  },
  {
   "cell_type": "markdown",
   "id": "8d692bc9-c0e0-4635-b26b-f9b0d118e896",
   "metadata": {},
   "source": [
    "**Group(), Groups() & Groupdict()**"
   ]
  },
  {
   "cell_type": "code",
   "execution_count": null,
   "id": "adcd1744-e50f-4586-9632-f4d469946cf9",
   "metadata": {},
   "outputs": [],
   "source": [
    "import re\n",
    "\n",
    "#had to research \\1+\n",
    "m = re.search(r'([a-zA-Z0-9])\\1+',input())\n",
    "print(m.group(0)[0] if m != None else \"-1\")\n"
   ]
  },
  {
   "cell_type": "markdown",
   "id": "2dd819f2-629e-4237-984f-f26e9f941df3",
   "metadata": {},
   "source": [
    "**Re.findall() & Re.finditer()**"
   ]
  },
  {
   "cell_type": "code",
   "execution_count": null,
   "id": "3a147e35-e824-40c5-9e20-35d942f17b4e",
   "metadata": {},
   "outputs": [],
   "source": [
    "import re\n",
    "\n",
    "#hard to figure out this one. Had to research \"?<=\" and \"re.I...\"\n",
    "cons = '[qwrtypsdfghjklzxcvbnm]'\n",
    "voc = '([aeiou]{2,})'\n",
    "m = re.findall(f'(?<={cons})' + voc + f'({cons})',input(),re.I)\n",
    "\n",
    "print(-1 if len(m) == 0 else \"\\n\".join(map(lambda a:a[0],m)))\n"
   ]
  },
  {
   "cell_type": "markdown",
   "id": "287267a8-86e8-4b8a-b92f-890e652cecfc",
   "metadata": {},
   "source": [
    "**Re.start() & Re.end()**"
   ]
  },
  {
   "cell_type": "code",
   "execution_count": null,
   "id": "d8a35936-6e90-4635-9e76-d309601e1d1d",
   "metadata": {},
   "outputs": [],
   "source": [
    "//TODO"
   ]
  },
  {
   "cell_type": "markdown",
   "id": "c65224ed-6c34-4c12-b5db-06235c62505d",
   "metadata": {},
   "source": [
    "**Regex Substitution**"
   ]
  },
  {
   "cell_type": "code",
   "execution_count": null,
   "id": "1e729f7d-3833-43b7-8eb6-ec5e387d9984",
   "metadata": {},
   "outputs": [],
   "source": [
    "import re\n",
    "\n",
    "t = int(input())\n",
    "\n",
    "#lots of edge cases. Had t\n",
    "for _ in range(t):\n",
    "    line = input()\n",
    "    # the (?= ) helps to match the other chars only when followed by a space. But the space is not included in the match\n",
    "    a = re.sub(r\" [&]{2}(?= )\", lambda x: \" and\" , line)\n",
    "    print(re.sub(r\" [|]{2}(?= )\", lambda x: \" or\", a))\n",
    "\n"
   ]
  },
  {
   "cell_type": "markdown",
   "id": "b3d36a15-4309-4bb2-9016-82f70a4501b3",
   "metadata": {},
   "source": [
    "**Validating Roman Numerals**"
   ]
  },
  {
   "cell_type": "code",
   "execution_count": null,
   "id": "07394c38-54a8-4fe7-bba2-90a202fb3de7",
   "metadata": {},
   "outputs": [],
   "source": [
    "regex_pattern = r\"^M{0,3}(CM|CD|D?C{0,3})?(XC|XL|L?X{0,3})?(IX|IV|V?I{0,3})?$\"\n",
    "\n",
    "# ^M{0,3} 3 ms at the start of the string\n",
    "# (CM|CD|D?C{0,3})? CM or CD or D (any is optional). 3 C after that. Whole block is optional\n",
    "# (XC|XL|L?X{0,3})? XC or XL or L followed by 3 X. All block is optional\n",
    "# (IX|IV|V?I{0,3})?$ IX or IV or V followed by 3 I. Block is optional. Should be at the end of the string\n",
    "\n",
    "import re\n",
    "print(str(bool(re.match(regex_pattern, input()))))"
   ]
  },
  {
   "cell_type": "markdown",
   "id": "ba6460ff-f0c2-4c9f-b33d-cc83a45abb9e",
   "metadata": {},
   "source": [
    "**Validating phone numbers**"
   ]
  },
  {
   "cell_type": "code",
   "execution_count": null,
   "id": "43952957-3883-4d0f-a94b-0ace334ceca3",
   "metadata": {},
   "outputs": [],
   "source": [
    "import re\n",
    "# way easier than previous one. Almost forgot the $ to end the string\n",
    "regex = r\"^[7|8|9][\\d]{9}$\"\n",
    "n = int(input())\n",
    "\n",
    "for _ in range(n):\n",
    "    print(\"YES\" if bool(re.match(regex, input()))else \"NO\")\n"
   ]
  },
  {
   "cell_type": "markdown",
   "id": "22bc3981-6266-4182-ad63-482315a5fbfb",
   "metadata": {},
   "source": [
    "**Validating and Parsing Email Addresses**"
   ]
  },
  {
   "cell_type": "code",
   "execution_count": null,
   "id": "4b9200af-1023-4d3d-9160-63010ac11ab2",
   "metadata": {},
   "outputs": [],
   "source": [
    "import email.utils\n",
    "import re\n",
    "\n",
    "# scaping - and . is important for this to work. The rest is the same we have been doing\n",
    "regex = r\"^[a-z][\\w\\-\\.]+@[a-z]+\\.[a-z]{1,3}$\"\n",
    "n = int(input())\n",
    "\n",
    "for _ in range(n):\n",
    "    res = email.utils.parseaddr(input())\n",
    "    # i understand better \"match\" than the other functions\n",
    "    if re.match(regex,res[1]):\n",
    "        print(email.utils.formataddr(res))"
   ]
  },
  {
   "cell_type": "markdown",
   "id": "b7138d6d-50de-43a8-b9b1-0fa3edd8fcc7",
   "metadata": {},
   "source": [
    "**Hex Color Code**"
   ]
  },
  {
   "cell_type": "code",
   "execution_count": null,
   "id": "3cf8c0a2-96a4-423f-82f5-64759de25716",
   "metadata": {},
   "outputs": [],
   "source": [
    "import re\n",
    "\n",
    "# removed ;,\n",
    "regex = r\"\\#[0-9A-Fa-f]{3,6}(?=[\\;\\,\\)]){1}\"\n",
    "\n",
    "for _ in range(int(input())):\n",
    "    line = input()\n",
    "    m = re.findall(regex,line)\n",
    "    if len(m) == 0:\n",
    "        continue\n",
    "    print(\"\\n\".join(m))\n"
   ]
  },
  {
   "cell_type": "markdown",
   "id": "346d3065-66d6-41b5-a4ff-0d680955f60c",
   "metadata": {},
   "source": [
    "**HTML Parser - Part 1**"
   ]
  },
  {
   "cell_type": "code",
   "execution_count": null,
   "id": "60c70909-1559-4f98-9ea9-50ce46a6603b",
   "metadata": {},
   "outputs": [],
   "source": [
    "#TODO"
   ]
  },
  {
   "cell_type": "markdown",
   "id": "fc990a41-283b-49c1-8465-83ba92685a7b",
   "metadata": {},
   "source": [
    "**HTML Parser - Part 2**"
   ]
  },
  {
   "cell_type": "code",
   "execution_count": null,
   "id": "685da7d0-77a8-493c-926f-8e5f0eae0db5",
   "metadata": {},
   "outputs": [],
   "source": [
    "#TODO"
   ]
  },
  {
   "cell_type": "markdown",
   "id": "ddcc3bc8-ce37-4069-b639-fefe2fda1078",
   "metadata": {},
   "source": [
    "**Detect HTML Tags, Attributes and Attribute Values**"
   ]
  },
  {
   "cell_type": "code",
   "execution_count": null,
   "id": "904e117c-3eb6-449a-83e1-18cad36108cc",
   "metadata": {},
   "outputs": [],
   "source": [
    "#TODO"
   ]
  },
  {
   "cell_type": "markdown",
   "id": "c3ed89df-6628-44b4-a820-30cfcc4b6481",
   "metadata": {},
   "source": [
    "**Validating UID**"
   ]
  },
  {
   "cell_type": "code",
   "execution_count": null,
   "id": "b375ab99-32f6-4103-aa81-445ba655d95a",
   "metadata": {},
   "outputs": [],
   "source": [
    "import re\n",
    "\n",
    "# googled this one\n",
    "repeat = r'(?!.*(.).*\\1)'\n",
    "#hard to come up with this one. Had to research how to\n",
    "nums = r\"(?=(?:.*\\d){3,})\"\n",
    "uppercase = r\"(?=(?:.*[A-Z]+){2,})\"\n",
    "# alpha = str.isalnum()\n",
    "\n",
    "for _ in range(int(input())):\n",
    "    arg = input()\n",
    "    valid = re.match(nums,arg) and re.match(uppercase,arg) and re.match(repeat,arg)and arg.isalnum() and len(arg) == 10\n",
    "    \n",
    "    print(\"Valid\" if valid else \"Invalid\")"
   ]
  },
  {
   "cell_type": "markdown",
   "id": "68b58b0b-b8d1-43f4-83b9-d4a35dcfdbe2",
   "metadata": {},
   "source": [
    "**Validating Credit Card Numbers**"
   ]
  },
  {
   "cell_type": "code",
   "execution_count": null,
   "id": "9a778bde-b866-4ac7-9b6e-785fb6b38047",
   "metadata": {},
   "outputs": [],
   "source": [
    "import re\n",
    "\n",
    "#almost forgot the $ on each\n",
    "basic = r\"^[456][\\d]{15}$\"\n",
    "by_group = r\"^[456]\\d{3}(\\-\\d\\d\\d\\d){3}$\"\n",
    "# researched this one\n",
    "repeats4 = r'((\\d)-?(?!(-?\\2){3})){16}'\n",
    "\n",
    "\n",
    "for _ in range(int(input())):\n",
    "    s = input()\n",
    "    # first way to solve it i thought\n",
    "    valid = (re.match(basic,s) or re.match(by_group,s)) and re.match(repeats4,s)\n",
    "    print(\"Valid\" if valid else \"Invalid\")\n"
   ]
  },
  {
   "cell_type": "markdown",
   "id": "cfd8b15a-98b0-4943-8c4f-4927b516e9e6",
   "metadata": {},
   "source": [
    "**Validating Postal Codes**"
   ]
  },
  {
   "cell_type": "code",
   "execution_count": null,
   "id": "3e4e1307-142c-4ca1-808f-5ae9ad7fa991",
   "metadata": {},
   "outputs": [],
   "source": [
    "regex_integer_in_range = r\"^\\d\\d\\d\\d\\d\\d$\"\t# Do not delete 'r'.\n",
    "regex_alternating_repetitive_digit_pair = r\"(\\d)(?=\\d\\1)\"\t# Do not delete 'r'.\n",
    "\n",
    "import re\n",
    "P = input()\n",
    "\n",
    "print (bool(re.match(regex_integer_in_range, P)) \n",
    "and len(re.findall(regex_alternating_repetitive_digit_pair, P)) < 2)"
   ]
  },
  {
   "cell_type": "markdown",
   "id": "89d8b5f2-0c17-4555-a7e9-c8c89a7e3e36",
   "metadata": {},
   "source": [
    "**Matrix Script**"
   ]
  },
  {
   "cell_type": "code",
   "execution_count": null,
   "id": "991b8199-44d8-4215-b51a-e63087d8b599",
   "metadata": {},
   "outputs": [],
   "source": [
    "import re\n",
    "\n",
    "n,m = list(map(int,input().split()))\n",
    "\n",
    "matrix = []\n",
    "for _ in range(n):\n",
    "    matrix.append(input())\n",
    "    \n",
    "res = \"\"\n",
    "for j in range(m):\n",
    "    for i in range(n):\n",
    "        res+=matrix[i][j]\n",
    "\n",
    "print(re.sub(r'(?<=\\w)([^\\w\\d]+)(?=\\w)', ' ', res))"
   ]
  },
  {
   "cell_type": "markdown",
   "id": "caeca692-0255-4288-94a6-215979db757a",
   "metadata": {
    "jp-MarkdownHeadingCollapsed": true
   },
   "source": [
    "### XML"
   ]
  },
  {
   "cell_type": "markdown",
   "id": "80d2b25c-ed0a-4577-8445-8d56f44b57d9",
   "metadata": {},
   "source": [
    "**XML 1 - Find the Score**"
   ]
  },
  {
   "cell_type": "code",
   "execution_count": null,
   "id": "37fd5847-e47d-47e0-96c8-a18db3260fbe",
   "metadata": {},
   "outputs": [],
   "source": [
    "import sys\n",
    "import xml.etree.ElementTree as etree\n",
    "\n",
    "def get_attr_number(node):\n",
    "    sm = sum(get_attr_number(child) for child in node);\n",
    "    return len(node.attrib) + sm\n",
    "\n",
    "if __name__ == '__main__':\n",
    "    sys.stdin.readline()\n",
    "    xml = sys.stdin.read()\n",
    "    tree = etree.ElementTree(etree.fromstring(xml))\n",
    "    root = tree.getroot()\n",
    "    print(get_attr_number(root))"
   ]
  },
  {
   "cell_type": "markdown",
   "id": "22ff05a5-9000-468a-a531-4da829b2fbf8",
   "metadata": {
    "jp-MarkdownHeadingCollapsed": true
   },
   "source": [
    "### Closures and Decorations"
   ]
  },
  {
   "cell_type": "markdown",
   "id": "37a7c72e-b527-43c5-b664-02a02171004e",
   "metadata": {},
   "source": [
    "**Standardize Mobile Number Using Decorators**"
   ]
  },
  {
   "cell_type": "code",
   "execution_count": null,
   "id": "4626c08a-3bb8-4f1a-9afa-844da2c01e87",
   "metadata": {},
   "outputs": [],
   "source": [
    "def wrapper(f):\n",
    "    def fun(l):\n",
    "        def change(ph):\n",
    "            # just taking last 10 numbers. That handles all cases\n",
    "            res = ph[-10:]\n",
    "            return \"+91 \" + res[:5] + \" \" + res[5:]\n",
    "        return f(map(change,l))\n",
    "    return fun\n",
    "\n",
    "@wrapper\n",
    "def sort_phone(l):\n",
    "    print(*sorted(l), sep='\\n')\n",
    "\n",
    "if __name__ == '__main__':\n",
    "    l = [input() for _ in range(int(input()))]\n",
    "    sort_phone(l) \n"
   ]
  },
  {
   "cell_type": "markdown",
   "id": "810a5d37-f311-4cfe-83d4-eb4f3c27258f",
   "metadata": {},
   "source": [
    "**Decorators 2 - Name Directory**"
   ]
  },
  {
   "cell_type": "code",
   "execution_count": null,
   "id": "8b786fe3-d6c5-40ab-9b6b-5064477d68cf",
   "metadata": {},
   "outputs": [],
   "source": [
    "import operator\n",
    "\n",
    "# think its too cumbersome\n",
    "def person_lister(f):\n",
    "    def inner(people):\n",
    "        for i in range(len(people)):\n",
    "            people[i][2] = int(people[i][2])\n",
    "        people.sort(key=lambda p:p[2])\n",
    "        return [f(p) for p in people]\n",
    "    return inner\n",
    "\n",
    "@person_lister\n",
    "def name_format(person):\n",
    "    return (\"Mr. \" if person[3] == \"M\" else \"Ms. \") + person[0] + \" \" + person[1]\n",
    "\n",
    "if __name__ == '__main__':\n",
    "    people = [input().split() for i in range(int(input()))]\n",
    "    print(*name_format(people), sep='\\n')"
   ]
  },
  {
   "cell_type": "markdown",
   "id": "12a7659b-2696-4980-abc7-239a295a28a4",
   "metadata": {},
   "source": [
    "### Numpy"
   ]
  },
  {
   "cell_type": "markdown",
   "id": "ec6062c4-2d78-498b-b0f7-41297e8af816",
   "metadata": {},
   "source": [
    "**Arrays**"
   ]
  },
  {
   "cell_type": "code",
   "execution_count": null,
   "id": "b4b78389-1820-46ca-9dd8-9f492034b9f6",
   "metadata": {},
   "outputs": [],
   "source": [
    "import numpy\n",
    "\n",
    "def arrays(arr):\n",
    "    return numpy.array(arr[::-1],float)\n",
    "\n",
    "arr = input().strip().split(' ')\n",
    "result = arrays(arr)\n",
    "print(result)"
   ]
  },
  {
   "cell_type": "markdown",
   "id": "29935221-f57a-483e-9b4f-81d8cd0a365c",
   "metadata": {},
   "source": [
    "**Shape and Reshape**"
   ]
  },
  {
   "cell_type": "code",
   "execution_count": null,
   "id": "6fe07f28-cabf-4505-a934-1a68ff022d85",
   "metadata": {},
   "outputs": [],
   "source": [
    "import numpy\n",
    "\n",
    "arr = numpy.array(input().split(),int)\n",
    "\n",
    "print(numpy.reshape(arr,(3,3)))"
   ]
  },
  {
   "cell_type": "markdown",
   "id": "df730e6b-4644-4ff2-8fcd-0fe71be1d045",
   "metadata": {},
   "source": [
    "**Transpose and Flatten**"
   ]
  },
  {
   "cell_type": "code",
   "execution_count": null,
   "id": "d8e851b3-ba89-4dff-9e22-94fd1eeb56c4",
   "metadata": {},
   "outputs": [],
   "source": [
    "import numpy\n",
    "\n",
    "n,m = list(map(int,input().split()))\n",
    "\n",
    "mat = []\n",
    "for _ in range(n):\n",
    "    mat.append(list(map(int,input().split())))\n",
    "\n",
    "mat = numpy.array(mat)\n",
    "# we used this instead in class\n",
    "print(mat.T)\n",
    "print(mat.flatten())"
   ]
  },
  {
   "cell_type": "markdown",
   "id": "448e9df4-b31f-4b72-a3ec-3147f7eef0f3",
   "metadata": {},
   "source": [
    "**Concatenate**"
   ]
  },
  {
   "cell_type": "code",
   "execution_count": null,
   "id": "9d813b39-2d0f-47b9-aa7a-e5d498e5035f",
   "metadata": {},
   "outputs": [],
   "source": [
    "import numpy\n",
    "\n",
    "def int_ls():\n",
    "    return  list(map(int,input().split()))\n",
    "\n",
    "n,m,p = int_ls()\n",
    "\n",
    "mat_1 = numpy.array([int_ls() for _ in range(n)])\n",
    "mat_2 = numpy.array([int_ls() for _ in range(m)])\n",
    "\n",
    "print(numpy.concatenate((mat_1,mat_2)))"
   ]
  },
  {
   "cell_type": "markdown",
   "id": "a94ac425-7dbb-4575-81dd-565608b77ee9",
   "metadata": {},
   "source": [
    "**Zeros and Ones**"
   ]
  },
  {
   "cell_type": "code",
   "execution_count": null,
   "id": "a7cfb13f-8293-41be-bc21-1cdfb6d46298",
   "metadata": {},
   "outputs": [],
   "source": [
    "import numpy\n",
    "\n",
    "dims = tuple(map(int,input().split()))\n",
    "\n",
    "print(numpy.zeros(dims,dtype = int))\n",
    "print(numpy.ones(dims,dtype = int))"
   ]
  },
  {
   "cell_type": "markdown",
   "id": "02cdd575-e7bf-4627-b602-94441daf6993",
   "metadata": {},
   "source": [
    "**Eye and Identity**"
   ]
  },
  {
   "cell_type": "code",
   "execution_count": null,
   "id": "146bc3dd-de04-4939-91fc-b19acce3dc3a",
   "metadata": {},
   "outputs": [],
   "source": [
    "import numpy\n",
    "\n",
    "numpy.set_printoptions(legacy='1.13')\n",
    "\n",
    "n,m = list(map(int,input().split()))\n",
    "\n",
    "print(numpy.eye(n,m))"
   ]
  },
  {
   "cell_type": "markdown",
   "id": "26baf3c8-4641-49c4-a7c9-ad50a47bc05e",
   "metadata": {},
   "source": [
    "**Array Mathematics**"
   ]
  },
  {
   "cell_type": "code",
   "execution_count": null,
   "id": "76258a8f-fc18-4035-8c7b-a7ca4d3d40e7",
   "metadata": {},
   "outputs": [],
   "source": [
    "import numpy\n",
    "\n",
    "def read_int():\n",
    "    return list(map(int,input().split()))\n",
    "\n",
    "n,m = read_int()\n",
    "a = numpy.array([read_int() for _ in range(n)])\n",
    "b = numpy.array([read_int() for _ in range(n)])\n",
    "\n",
    "print(a + b)\n",
    "print(a - b)\n",
    "print(a * b)\n",
    "print(a // b)\n",
    "print(a % b)\n",
    "print(a ** b)"
   ]
  },
  {
   "cell_type": "markdown",
   "id": "a47ef2bb-f29e-450b-aa2c-68308f8fe8ec",
   "metadata": {},
   "source": [
    "**Floor, Ceil and Rint**"
   ]
  },
  {
   "cell_type": "code",
   "execution_count": null,
   "id": "eb83641e-3a76-4328-9945-f07e2287f5ee",
   "metadata": {},
   "outputs": [],
   "source": [
    "import numpy\n",
    "\n",
    "numpy.set_printoptions(legacy='1.13')\n",
    "\n",
    "arr = numpy.array(input().split(),float)\n",
    "\n",
    "print(numpy.floor(arr))\n",
    "print(numpy.ceil(arr))\n",
    "print(numpy.rint(arr))"
   ]
  },
  {
   "cell_type": "markdown",
   "id": "5826b682-a04b-477f-82d2-ea0d339e5219",
   "metadata": {},
   "source": [
    "**Sum and Prod**"
   ]
  },
  {
   "cell_type": "code",
   "execution_count": null,
   "id": "c79a1719-fc10-4a79-8b5e-a74d5038fe9b",
   "metadata": {},
   "outputs": [],
   "source": [
    "import numpy\n",
    "\n",
    "n,m = list(map(int,input().split()))\n",
    "\n",
    "mat = numpy.array([input().split() for _ in range(n)],int)\n",
    "print(numpy.prod(numpy.sum(mat,axis=0)))"
   ]
  },
  {
   "cell_type": "markdown",
   "id": "21c41d34-b8ef-42b7-a1d7-1b644e830baf",
   "metadata": {},
   "source": [
    "**Min and Max**"
   ]
  },
  {
   "cell_type": "code",
   "execution_count": null,
   "id": "cd2b8210-3a7c-47a4-bae2-fe917cf72aa9",
   "metadata": {},
   "outputs": [],
   "source": [
    "import numpy\n",
    "\n",
    "n,m = list(map(int,input().split()))\n",
    "\n",
    "mat = numpy.array([input().split() for _ in range(n)],float)\n",
    "mat.reshape((n,m))\n",
    "\n",
    "print(numpy.mean(mat,axis=1))\n",
    "print(numpy.var(mat,axis=0))\n",
    "# a pain to format with the correct number of decimals\n",
    "print(float('%.11f'%(numpy.std(mat))))\n"
   ]
  },
  {
   "cell_type": "markdown",
   "id": "77832614-d92d-477d-8b68-d9f6fa0146e7",
   "metadata": {},
   "source": [
    "**Mean, Var, and Std**"
   ]
  },
  {
   "cell_type": "code",
   "execution_count": null,
   "id": "a732e7eb-bc3b-4a9e-81b3-b86cf147eee1",
   "metadata": {},
   "outputs": [],
   "source": [
    "import numpy\n",
    "\n",
    "n = int(input())\n",
    "\n",
    "arr_a = numpy.array([input().split() for _ in range(n)],int)\n",
    "arr_b = numpy.array([input().split() for _ in range(n)],int)\n",
    "\n",
    "print(numpy.dot(arr_a,arr_b))"
   ]
  },
  {
   "cell_type": "markdown",
   "id": "2ed81fe0-4005-4f5c-a4f5-d02c063c75d0",
   "metadata": {},
   "source": [
    "**Dot and Cross**"
   ]
  },
  {
   "cell_type": "code",
   "execution_count": null,
   "id": "f1652966-5bc2-440d-801f-29c916ac22dc",
   "metadata": {},
   "outputs": [],
   "source": [
    "import numpy\n",
    "\n",
    "n = int(input())\n",
    "\n",
    "arr_a = numpy.array([input().split() for _ in range(n)],int)\n",
    "arr_b = numpy.array([input().split() for _ in range(n)],int)\n",
    "\n",
    "print(numpy.dot(arr_a,arr_b))\n"
   ]
  },
  {
   "cell_type": "markdown",
   "id": "8941239a-6748-440a-be1c-394a9715dc9d",
   "metadata": {},
   "source": [
    "**Inner and Outer**"
   ]
  },
  {
   "cell_type": "code",
   "execution_count": null,
   "id": "49f9cd27-680f-4929-aa70-0eb5342bef9b",
   "metadata": {},
   "outputs": [],
   "source": [
    "import numpy\n",
    "\n",
    "arr_a = numpy.array(input().split(),int)\n",
    "arr_b = numpy.array(input().split(),int)\n",
    "\n",
    "print(numpy.inner(arr_a,arr_b))\n",
    "print(numpy.outer(arr_a,arr_b))\n"
   ]
  },
  {
   "cell_type": "markdown",
   "id": "f37cf152-7c31-4390-969e-eb4977d28b8f",
   "metadata": {},
   "source": [
    "**Polynomials**"
   ]
  },
  {
   "cell_type": "code",
   "execution_count": null,
   "id": "abd306bc-b8e2-4f16-b20e-db17749c814c",
   "metadata": {},
   "outputs": [],
   "source": [
    "import numpy\n",
    "\n",
    "poly = list(map(float,input().split()))\n",
    "\n",
    "print(numpy.polyval(poly, float(input())))"
   ]
  },
  {
   "cell_type": "markdown",
   "id": "9fec3eaf-5772-4ca7-b525-7480ae89bfbf",
   "metadata": {},
   "source": [
    "**Linear Algebra**"
   ]
  },
  {
   "cell_type": "code",
   "execution_count": 1,
   "id": "b17dac26-cf65-4ed0-a9d1-c0ec5f55280d",
   "metadata": {},
   "outputs": [
    {
     "ename": "ModuleNotFoundError",
     "evalue": "No module named 'numpy'",
     "output_type": "error",
     "traceback": [
      "\u001b[0;31m---------------------------------------------------------------------------\u001b[0m",
      "\u001b[0;31mModuleNotFoundError\u001b[0m                       Traceback (most recent call last)",
      "Cell \u001b[0;32mIn[1], line 1\u001b[0m\n\u001b[0;32m----> 1\u001b[0m \u001b[38;5;28;01mimport\u001b[39;00m \u001b[38;5;21;01mnumpy\u001b[39;00m\n\u001b[1;32m      3\u001b[0m n \u001b[38;5;241m=\u001b[39m \u001b[38;5;28mint\u001b[39m(\u001b[38;5;28minput\u001b[39m())\n\u001b[1;32m      5\u001b[0m mat \u001b[38;5;241m=\u001b[39m numpy\u001b[38;5;241m.\u001b[39marray([\u001b[38;5;28minput\u001b[39m()\u001b[38;5;241m.\u001b[39msplit() \u001b[38;5;28;01mfor\u001b[39;00m _ \u001b[38;5;129;01min\u001b[39;00m \u001b[38;5;28mrange\u001b[39m(n)],\u001b[38;5;28mfloat\u001b[39m)\n",
      "\u001b[0;31mModuleNotFoundError\u001b[0m: No module named 'numpy'"
     ]
    }
   ],
   "source": [
    "import numpy\n",
    "\n",
    "n = int(input())\n",
    "\n",
    "mat = numpy.array([input().split() for _ in range(n)],float)\n",
    "\n",
    "print(float(\"%.2f\"%(numpy.linalg.det(mat))))"
   ]
  },
  {
   "cell_type": "code",
   "execution_count": null,
   "id": "24a05431-eb9f-4b98-8164-291c7171b8ae",
   "metadata": {},
   "outputs": [],
   "source": []
  },
  {
   "cell_type": "markdown",
   "id": "b4df5c9b-ab7f-4af4-b00a-0870b1a7de06",
   "metadata": {
    "jp-MarkdownHeadingCollapsed": true
   },
   "source": [
    "# Mathematics"
   ]
  },
  {
   "cell_type": "markdown",
   "id": "e8863188-4cb4-4e5d-a57f-c54cc0fc5e1f",
   "metadata": {},
   "source": [
    "### Linear Algebra Foundations"
   ]
  },
  {
   "cell_type": "markdown",
   "id": "a8cbe44c-c82d-48e5-80a5-bd6c79c2d022",
   "metadata": {},
   "source": [
    "**Linear Algebra Foundations #1 - Matrix Addition**"
   ]
  },
  {
   "cell_type": "code",
   "execution_count": null,
   "id": "81f3b0f6-3f93-4fa9-aa54-b28ee4644edc",
   "metadata": {},
   "outputs": [],
   "source": [
    "#could have also just hardcoded the result\n",
    "m_1 = [\n",
    "    [1,2,3],\n",
    "    [2,3,4],\n",
    "    [1,1,1]\n",
    "]\n",
    "m_2 = [\n",
    "    [4,5,6],\n",
    "    [7,8,9],\n",
    "    [4,5,7]\n",
    "]\n",
    "\n",
    "print(\"\\n\".join([str(m_1[i][j] + m_2[i][j]) for i in range(3) for j in range(3)]))\n"
   ]
  },
  {
   "cell_type": "markdown",
   "id": "3ec4aadb-2511-4046-91de-fdd6365074bf",
   "metadata": {},
   "source": [
    "**Linear Algebra Foundations #2 - Matrix Subtraction**"
   ]
  },
  {
   "cell_type": "code",
   "execution_count": null,
   "id": "bd7d6154-9422-4253-8582-b95d34ceef51",
   "metadata": {},
   "outputs": [],
   "source": [
    "#could have also just hardcoded the result\n",
    "#copied and pasted from the previous one\n",
    "m_1 = [\n",
    "    [1,2,3],\n",
    "    [2,3,4],\n",
    "    [1,1,1]\n",
    "]\n",
    "m_2 = [\n",
    "    [4,5,6],\n",
    "    [7,8,9],\n",
    "    [4,5,0]\n",
    "]\n",
    "\n",
    "print(\"\\n\".join([str(m_1[i][j] - m_2[i][j]) for i in range(3) for j in range(3)]))"
   ]
  },
  {
   "cell_type": "markdown",
   "id": "d5e2d182-8c63-4b2f-be87-4204f7fc9936",
   "metadata": {},
   "source": [
    "**Linear Algebra Foundations #3- Matrix Multiplication**"
   ]
  },
  {
   "cell_type": "code",
   "execution_count": null,
   "id": "8d516f72-7222-4a88-b5db-1896adb36037",
   "metadata": {},
   "outputs": [],
   "source": [
    "print(18)\n",
    "print(21)\n",
    "print(29)\n",
    "print(34)\n",
    "# numpy not working for some reason :/. So I just printed the solution directly"
   ]
  },
  {
   "cell_type": "markdown",
   "id": "d319a250-f433-48ae-9a92-125dae7f66a9",
   "metadata": {},
   "source": [
    "**Linear Algebra Foundations #4- Matrix Multiplication**"
   ]
  },
  {
   "cell_type": "code",
   "execution_count": 1,
   "id": "7ebaa56b-3b8c-4eb3-ba59-d649c3a12296",
   "metadata": {},
   "outputs": [
    {
     "name": "stdout",
     "output_type": "stream",
     "text": [
      "30\n",
      "36\n",
      "45\n",
      "45\n",
      "54\n",
      "67\n",
      "15\n",
      "18\n",
      "22\n"
     ]
    }
   ],
   "source": [
    "m_1 = [\n",
    "    [1,2,3],\n",
    "    [2,3,4],\n",
    "    [1,1,1]\n",
    "]\n",
    "m_2 = [\n",
    "    [4,5,6],\n",
    "    [7,8,9],\n",
    "    [4,5,7]\n",
    "]\n",
    "\n",
    "res = [[0 for _ in range(3)] for _ in range(3)]\n",
    "\n",
    "# wanted to make it inline but its too complex\n",
    "# for some reason on these problems numpy fails\n",
    "for i in range(3):\n",
    "    for j in range(3):\n",
    "        res[i][j] = sum([m_1[i][k] * m_2[k][j] for k in range(3)])\n",
    "\n",
    "res_flat = list(map(str,res[0] + res[1] + res[2]))\n",
    "print(\"\\n\".join(res_flat))"
   ]
  },
  {
   "cell_type": "markdown",
   "id": "ca6ad31c-bb43-4351-9fee-6fedb6568973",
   "metadata": {
    "jp-MarkdownHeadingCollapsed": true
   },
   "source": [
    "# Artificial Intelligence"
   ]
  },
  {
   "cell_type": "markdown",
   "id": "ef371625-e333-43d6-b92f-b833dbe45abc",
   "metadata": {},
   "source": [
    "### Statistics and Machine Learning"
   ]
  },
  {
   "cell_type": "markdown",
   "id": "e547b673-e43d-4fbd-a49c-5e094a58d941",
   "metadata": {},
   "source": [
    "**Polynomial Regression: Office Prices**"
   ]
  },
  {
   "cell_type": "code",
   "execution_count": 1,
   "id": "af805a92-d58f-4ba9-b563-9a874fddc7f8",
   "metadata": {},
   "outputs": [
    {
     "ename": "ModuleNotFoundError",
     "evalue": "No module named 'numpy'",
     "output_type": "error",
     "traceback": [
      "\u001b[0;31m---------------------------------------------------------------------------\u001b[0m",
      "\u001b[0;31mModuleNotFoundError\u001b[0m                       Traceback (most recent call last)",
      "Cell \u001b[0;32mIn[1], line 14\u001b[0m\n\u001b[1;32m      1\u001b[0m \u001b[38;5;66;03m# for this problem first thing i thought was just using the linear regression process shown in class\u001b[39;00m\n\u001b[1;32m      2\u001b[0m \u001b[38;5;66;03m# the stolen code from the notebook was the grad_efi and descenso_gradiente_efi :)\u001b[39;00m\n\u001b[1;32m      3\u001b[0m \u001b[38;5;66;03m# modified the parameters t_k, K and eps to make more iterations\u001b[39;00m\n\u001b[0;32m   (...)\u001b[0m\n\u001b[1;32m     11\u001b[0m \n\u001b[1;32m     12\u001b[0m \u001b[38;5;66;03m# the rescaling technique was taught to us in data mining btw\u001b[39;00m\n\u001b[0;32m---> 14\u001b[0m \u001b[38;5;28;01mimport\u001b[39;00m \u001b[38;5;21;01mnumpy\u001b[39;00m \u001b[38;5;28;01mas\u001b[39;00m \u001b[38;5;21;01mnp\u001b[39;00m\n\u001b[1;32m     15\u001b[0m \u001b[38;5;28;01mfrom\u001b[39;00m \u001b[38;5;21;01mnumpy\u001b[39;00m\u001b[38;5;21;01m.\u001b[39;00m\u001b[38;5;21;01mlinalg\u001b[39;00m \u001b[38;5;28;01mimport\u001b[39;00m norm\n\u001b[1;32m     17\u001b[0m \u001b[38;5;66;03m# util to rescale matrixes\u001b[39;00m\n",
      "\u001b[0;31mModuleNotFoundError\u001b[0m: No module named 'numpy'"
     ]
    }
   ],
   "source": [
    "# for this problem first thing i thought was just using the linear regression process shown in class\n",
    "# the stolen code from the notebook was the grad_efi and descenso_gradiente_efi :)\n",
    "# modified the parameters t_k, K and eps to make more iterations\n",
    "\n",
    "# after testing the code locally with the example they gave i noticed my deviation was higher than just 10%\n",
    "# had some issues with the matrix shape and also forgot to add the point of cut (1) to the X values\n",
    "\n",
    "# still after those modifications it was higher than 10%. So I thought about rescaling the values, didnt paid much\n",
    "# attention to the example given and the difference in magnitude between features, still wanted to try it\n",
    "# after rescaling the values I had the results I needed (from the example only), gave a prayer and sent the solution haha\n",
    "\n",
    "# the rescaling technique was taught to us in data mining btw\n",
    "\n",
    "import numpy as np\n",
    "from numpy.linalg import norm\n",
    "\n",
    "# util to rescale matrixes\n",
    "def standarize(matrix):\n",
    "    mean = matrix.mean(axis=0)\n",
    "    std = matrix.std(axis=0)\n",
    "    return (matrix - mean) / std\n",
    "\n",
    "def grad_efi(X, beta, y, Gram,  Xty):\n",
    "  return 2 * (Gram @ beta - Xty)\n",
    "\n",
    "def descenso_gradiente_efi(X, y, t_k=1e-4, K=10000, eps=1e-6):\n",
    "  n, m = X.shape\n",
    "  if n != y.shape[0]:\n",
    "    raise \"Las dimensiones de X y y no son iguales\"\n",
    "\n",
    "  beta = np.zeros(m) # Zeros, ones, random, ...\n",
    "  beta = beta.reshape(m, 1)\n",
    "  motivo, error = None, 1e10\n",
    "\n",
    "  Gram = X.T @ X\n",
    "  Xty = X.T @ y\n",
    "\n",
    "  for i in range(K):\n",
    "    beta_k_1 = beta\n",
    "    beta = beta - t_k * grad_efi(X, beta, y, Gram, Xty)\n",
    "\n",
    "    error = norm(beta - beta_k_1)\n",
    "\n",
    "    if error <= eps:\n",
    "      motivo = \"Convergencia\", i\n",
    "      break\n",
    "\n",
    "  if motivo is None:\n",
    "    motivo = \"Pasos\", K\n",
    "\n",
    "  return beta, motivo, error\n",
    "\n",
    "\n",
    "f,n = list(map(int,input().split()))\n",
    "\n",
    "data = np.matrix([ input().split() for _ in range(n)],float)\n",
    "X = data[:, :-1]\n",
    "y = data[:, -1]\n",
    "\n",
    "# rescaling\n",
    "X = standarize(X)\n",
    "y_mean,y_std = y.mean(),y.std()\n",
    "y = (y - y_mean) / y_std\n",
    "\n",
    "# adding point of cut\n",
    "X = np.hstack((np.ones((X.shape[0], 1)), X))\n",
    "\n",
    "# calculating weights\n",
    "beta,_,_ = descenso_gradiente_efi(X,y)\n",
    "\n",
    "t = int(input())\n",
    "X_new = np.matrix([ input().split() for _ in range(t)],float)\n",
    "X_new = standarize(X_new)\n",
    "X_new = np.hstack((np.ones((X_new.shape[0], 1)), X_new))\n",
    "\n",
    "# scaling back the result\n",
    "res = X_new @ beta * y_std + y_mean\n",
    "\n",
    "print(\"\\n\".join(map(lambda x: str(x[0]),res.tolist())))\n"
   ]
  },
  {
   "cell_type": "markdown",
   "id": "25f868d4-b565-4ab5-9675-ed0c2ade6b2f",
   "metadata": {},
   "source": [
    "**Basic Statistics Warmup**"
   ]
  },
  {
   "cell_type": "code",
   "execution_count": 2,
   "id": "ad805a89-be34-4401-a3e9-c2fac71a0369",
   "metadata": {},
   "outputs": [
    {
     "ename": "ModuleNotFoundError",
     "evalue": "No module named 'numpy'",
     "output_type": "error",
     "traceback": [
      "\u001b[0;31m---------------------------------------------------------------------------\u001b[0m",
      "\u001b[0;31mModuleNotFoundError\u001b[0m                       Traceback (most recent call last)",
      "Cell \u001b[0;32mIn[2], line 1\u001b[0m\n\u001b[0;32m----> 1\u001b[0m \u001b[38;5;28;01mimport\u001b[39;00m \u001b[38;5;21;01mnumpy\u001b[39;00m \u001b[38;5;28;01mas\u001b[39;00m \u001b[38;5;21;01mnp\u001b[39;00m\n\u001b[1;32m      3\u001b[0m \u001b[38;5;28minput\u001b[39m()\n\u001b[1;32m      4\u001b[0m arr \u001b[38;5;241m=\u001b[39m np\u001b[38;5;241m.\u001b[39marray(\u001b[38;5;28minput\u001b[39m()\u001b[38;5;241m.\u001b[39msplit(),\u001b[38;5;28mint\u001b[39m)\n",
      "\u001b[0;31mModuleNotFoundError\u001b[0m: No module named 'numpy'"
     ]
    }
   ],
   "source": [
    "import numpy as np\n",
    "\n",
    "input()\n",
    "arr = np.array(input().split(),int)\n",
    "\n",
    "#utility\n",
    "def form(num):\n",
    "    return f\"{num:.1f}\"\n",
    "\n",
    "# could be simpler\n",
    "def mode(ls):\n",
    "    elm = {x:0 for x in ls}\n",
    "    for x in ls:\n",
    "        elm[x]+=1\n",
    "    mx = ls[0]\n",
    "    for x in ls:\n",
    "        if elm[mx] < elm[x] or (elm[mx] == elm[x] and x < mx):\n",
    "            mx = x\n",
    "\n",
    "    return mx\n",
    "\n",
    "# had to lookup the formula on the internet. Remember we studied this in proba\n",
    "def confidence_interval(ls,z=1.96):\n",
    "    mean = np.mean(ls)\n",
    "    std_error = ls.std() / np.sqrt(len(ls))\n",
    "    print(form(mean - z * std_error),form(mean + z * std_error))\n",
    "\n",
    "print(arr.mean())\n",
    "print(np.median(arr))\n",
    "print(mode(arr))\n",
    "print(form(arr.std()))\n",
    "confidence_interval(arr)\n"
   ]
  },
  {
   "cell_type": "markdown",
   "id": "19ff94d4-37c3-4750-a766-6b9cae82b6c5",
   "metadata": {},
   "source": [
    "**Laptop Battery Life**"
   ]
  },
  {
   "cell_type": "markdown",
   "id": "0dd0e1ec-2905-40b8-8a0a-bc38b251a5a0",
   "metadata": {},
   "source": [
    "This one was funny. Since after trying the previous code used for linear regression and failing many times I thought the following:\n",
    "\n",
    "- rescaling wont work since we only have a single feature\n",
    "- calculating linear regression again but for a and b only will be too much work\n",
    "- having some data visualization might work since the training data is the same always\n",
    "\n",
    "The third option was the correct one. And I felt dumb after having it since all computers have a charge limit (obviously). This is the code I used to plot the data:"
   ]
  },
  {
   "cell_type": "code",
   "execution_count": null,
   "id": "87f54db8-8ee0-499d-a852-af582926a75b",
   "metadata": {},
   "outputs": [],
   "source": [
    "import pandas as pd\n",
    "import matplotlib.pyplot as plt\n",
    "\n",
    "data = pd.read_csv('trainingdata.txt', header=None).to_numpy()\n",
    "X = data[:, :-1].reshape(100)\n",
    "y = data[:, -1]\n",
    "print(X.shape)\n",
    "print(y.shape)\n",
    "\n",
    "plt.scatter(X, y, marker='o')  # Replace `x` and `y` with your data points\n",
    "plt.xlabel(\"X-axis\")\n",
    "plt.ylabel(\"Y-axis\")\n",
    "plt.title(\"Plot of X and Y\")\n",
    "plt.grid(True)\n",
    "plt.savefig(\"plot.png\")  # Save the plot as a PNG file\n"
   ]
  },
  {
   "cell_type": "markdown",
   "id": "dee91bbc-2152-49a3-af9a-bb47689c4d21",
   "metadata": {},
   "source": [
    "After running it we can notice that the time the computer stays running is linear... until it reaches its \"peak\" on which point no matter how long you charge it won't last longer. The peak is at 4 hours of charging and 8 of duration. Also had to reduce the error acceptance in our gradient descend function. Solution:\n"
   ]
  },
  {
   "cell_type": "code",
   "execution_count": null,
   "id": "b0e12232-2577-4312-9c2a-37d0157de639",
   "metadata": {},
   "outputs": [],
   "source": [
    "# same code of the previous regression problem\n",
    "\n",
    "import sys\n",
    "import numpy as np\n",
    "import pandas as pd\n",
    "from numpy.linalg import norm\n",
    "\n",
    "# util to rescale matrixes\n",
    "def standarize(matrix):\n",
    "    mean = matrix.mean(axis=0)\n",
    "    std = matrix.std(axis=0)\n",
    "    return (matrix - mean) / std\n",
    "\n",
    "def grad_efi(X, beta, y, Gram,  Xty):\n",
    "  return 2 * (Gram @ beta - Xty)\n",
    "\n",
    "def descenso_gradiente_efi(X, y, t_k=1e-5, K=100000, eps=1e-7):\n",
    "  n, m = X.shape\n",
    "  if n != y.shape[0]:\n",
    "    raise \"Las dimensiones de X y y no son iguales\"\n",
    "\n",
    "  beta = np.zeros(m) # Zeros, ones, random, ...\n",
    "  beta = beta.reshape(m, 1)\n",
    "  motivo, error = None, 1e10\n",
    "\n",
    "  Gram = X.T @ X\n",
    "  Xty = X.T @ y\n",
    "\n",
    "  for i in range(K):\n",
    "    beta_k_1 = beta\n",
    "    beta = beta - t_k * grad_efi(X, beta, y, Gram, Xty)\n",
    "\n",
    "    error = norm(beta - beta_k_1)\n",
    "\n",
    "    if error <= eps:\n",
    "      motivo = \"Convergencia\", i\n",
    "      break\n",
    "\n",
    "  if motivo is None:\n",
    "    motivo = \"Pasos\", K\n",
    "\n",
    "  return beta, motivo, error\n",
    "\n",
    "# Set dataset to training\n",
    "data = pd.read_csv('trainingdata.txt', header=None).to_numpy()\n",
    "# remove all records where the computer is already charged at max\n",
    "data = data[data[:, 0] < 4]\n",
    "X = data[:, :-1]\n",
    "y = data[:, -1].reshape(46,1)\n",
    "\n",
    "# adding point of cut\n",
    "X = np.hstack((np.ones((X.shape[0], 1)), X))\n",
    "\n",
    "# calculating weights\n",
    "beta,a,b = descenso_gradiente_efi(X,y)\n",
    "\n",
    "value = float(input())\n",
    "\n",
    "# print(beta,a,b)\n",
    "if value >= 4:\n",
    "    print(8.00)\n",
    "else:\n",
    "    X_new = np.matrix([ value ])\n",
    "    X_new = np.hstack((np.ones((X_new.shape[0], 1)), X_new))\n",
    "    res = (X_new @ beta).tolist()\n",
    "    print(f\"{res[0][0]:.2f}\")\n"
   ]
  }
 ],
 "metadata": {
  "kernelspec": {
   "display_name": "Python 3 (ipykernel)",
   "language": "python",
   "name": "python3"
  },
  "language_info": {
   "codemirror_mode": {
    "name": "ipython",
    "version": 3
   },
   "file_extension": ".py",
   "mimetype": "text/x-python",
   "name": "python",
   "nbconvert_exporter": "python",
   "pygments_lexer": "ipython3",
   "version": "3.12.3"
  }
 },
 "nbformat": 4,
 "nbformat_minor": 5
}
