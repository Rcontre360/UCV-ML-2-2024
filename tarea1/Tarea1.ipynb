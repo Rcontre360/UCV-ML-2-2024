{
 "cells": [
  {
   "cell_type": "markdown",
   "id": "03540497-cd79-4663-98ab-40f996c49dc3",
   "metadata": {},
   "source": [
    "## Python"
   ]
  },
  {
   "cell_type": "markdown",
   "id": "2da024e4-1898-420c-a93b-4eb0cf34f244",
   "metadata": {},
   "source": [
    "#### Introduccion"
   ]
  },
  {
   "cell_type": "markdown",
   "id": "a65bccdd-b91e-426e-8209-2615a8fb9029",
   "metadata": {},
   "source": [
    "**Python hello world**"
   ]
  },
  {
   "cell_type": "code",
   "execution_count": null,
   "id": "2571b682-c9c8-498a-be80-7049af337b2a",
   "metadata": {},
   "outputs": [],
   "source": [
    "# easy, dont need to explain\n",
    "if __name__ == '__main__':\n",
    "    print(\"Hello, World!\")"
   ]
  },
  {
   "cell_type": "markdown",
   "id": "4299ddb2-8ea3-4f9d-8511-bcfa8f8092ed",
   "metadata": {},
   "source": [
    "**Python if else**"
   ]
  },
  {
   "cell_type": "code",
   "execution_count": null,
   "id": "4a6769ef-6c21-46bf-9d01-1a0c623cc4e5",
   "metadata": {},
   "outputs": [],
   "source": [
    "#focus on weird ones only\n",
    "if __name__ == '__main__':\n",
    "    n = int(input().strip())\n",
    "    even = n % 2 == 0\n",
    "    if not even or (even and 6 <= n <= 20):\n",
    "        print(\"Weird\")\n",
    "    else:\n",
    "        print(\"Not Weird\")"
   ]
  },
  {
   "cell_type": "markdown",
   "id": "1727f866-dbee-4a8b-8c16-06631df5750a",
   "metadata": {},
   "source": [
    "**Arithmetic operations**"
   ]
  },
  {
   "cell_type": "code",
   "execution_count": null,
   "id": "dc1ca435-e9eb-48a3-8df5-4d46aa5736cd",
   "metadata": {},
   "outputs": [],
   "source": [
    "if __name__ == '__main__':\n",
    "    a = int(input())\n",
    "    b = int(input())\n",
    "    print(a + b)\n",
    "    print(a - b)\n",
    "    print(a * b)"
   ]
  },
  {
   "cell_type": "markdown",
   "id": "c44fbf62-db75-42ec-9e4a-669f686118d7",
   "metadata": {},
   "source": [
    "**Division**"
   ]
  },
  {
   "cell_type": "code",
   "execution_count": null,
   "id": "bc8bd525-b5b4-4312-840e-c14c32f6cabd",
   "metadata": {},
   "outputs": [],
   "source": [
    "if __name__ == '__main__':\n",
    "    a = int(input())\n",
    "    b = int(input())\n",
    "    print(a // b)\n",
    "    print(a/b)"
   ]
  },
  {
   "cell_type": "markdown",
   "id": "b876628c-91f1-4150-912f-714b41ca16e6",
   "metadata": {},
   "source": [
    "**Loops**"
   ]
  },
  {
   "cell_type": "code",
   "execution_count": null,
   "id": "8c75ffc6-0490-45c9-9175-831682f5d415",
   "metadata": {},
   "outputs": [],
   "source": [
    "if __name__ == '__main__':\n",
    "    n = int(input())\n",
    "    # wanted to use \"join\" to remember it\n",
    "    print(\"\".join(str(i*i) + '\\n' for i in range(n)))"
   ]
  },
  {
   "cell_type": "markdown",
   "id": "058516a2-5d03-474d-a174-5fef6d77f3cd",
   "metadata": {},
   "source": [
    "**Write a function**"
   ]
  },
  {
   "cell_type": "code",
   "execution_count": null,
   "id": "3484065c-1568-4fb2-8481-05aefec667b5",
   "metadata": {},
   "outputs": [],
   "source": [
    "def is_leap(year):\n",
    "    leap = False\n",
    "    \n",
    "    if year % 4 == 0 and (year % 100 != 0 or year % 400 == 0):\n",
    "        leap = True\n",
    "    \n",
    "    return leap\n",
    "\n",
    "year = int(input())\n",
    "print(is_leap(year))"
   ]
  },
  {
   "cell_type": "markdown",
   "id": "64270922-f845-4654-ae99-0462dfa5ed07",
   "metadata": {},
   "source": [
    "**Print function**"
   ]
  },
  {
   "cell_type": "markdown",
   "id": "e4f87b5f-ea4e-4637-b11a-54ee683e25da",
   "metadata": {},
   "source": [
    "if __name__ == '__main__':\n",
    "    n = int(input())\n",
    "    # had to research how to remove the newline\n",
    "    for i in range(n):\n",
    "        print(i+1,end=\"\")"
   ]
  },
  {
   "cell_type": "markdown",
   "id": "5a8e8e7a-6740-46fe-95a4-8f36eb877adb",
   "metadata": {},
   "source": [
    "#### Data Types"
   ]
  },
  {
   "cell_type": "markdown",
   "id": "d8963b8b-4558-4dbd-ac25-68b66ad3281d",
   "metadata": {},
   "source": [
    "**List Comprehensions**"
   ]
  },
  {
   "cell_type": "code",
   "execution_count": null,
   "id": "2169c99a-38cd-4a3c-b8ea-3dc6e49cdfcb",
   "metadata": {},
   "outputs": [],
   "source": [
    "if __name__ == '__main__':\n",
    "    x = int(input())\n",
    "    y = int(input())\n",
    "    z = int(input())\n",
    "    n = int(input())\n",
    "    # low readability in my opinion\n",
    "    print([[i, j, k] for i in range(x+1) for j in range(y+1) for k in range(z+1) if i + j + k != n])"
   ]
  },
  {
   "cell_type": "markdown",
   "id": "3dea5249-0b03-4376-bdcc-f8848b8b2fa9",
   "metadata": {},
   "source": [
    "**Find the Runner-Up Score!**"
   ]
  },
  {
   "cell_type": "code",
   "execution_count": null,
   "id": "2deb7a8a-9d37-4c9e-9101-5c206ac5828f",
   "metadata": {},
   "outputs": [],
   "source": [
    "if __name__ == '__main__':\n",
    "    n = int(input())\n",
    "    arr = list(set(map(int, input().split())))\n",
    "    arr.sort()\n",
    "    #first thought about just sorting. Then had to solve with repeated elements\n",
    "    print(arr[-2])"
   ]
  },
  {
   "cell_type": "markdown",
   "id": "691a25e2-bbff-4a62-9fd2-a99adfd287eb",
   "metadata": {},
   "source": [
    "**Nested Lists**"
   ]
  },
  {
   "cell_type": "code",
   "execution_count": null,
   "id": "a8a2e712-fc21-4097-917d-8c7a6333b118",
   "metadata": {},
   "outputs": [],
   "source": [
    "if __name__ == '__main__':\n",
    "    elems = []\n",
    "    for _ in range(int(input())):\n",
    "        name = input()\n",
    "        score = float(input())\n",
    "        elems.append([score,name])\n",
    "    #sorting again\n",
    "    elems.sort()\n",
    "    \n",
    "    worst = elems[0][0]\n",
    "    found = worst\n",
    "    #once the target value is found, wait for it to be different\n",
    "    for x in elems:\n",
    "        if x[0] > worst:\n",
    "            if found != worst and found != x[0]:\n",
    "                break\n",
    "                \n",
    "            found = x[0]\n",
    "            print(x[1])"
   ]
  },
  {
   "cell_type": "markdown",
   "id": "5ebd527a-781e-4011-a209-fa679d29123f",
   "metadata": {},
   "source": [
    "**Finding the percentage**"
   ]
  },
  {
   "cell_type": "code",
   "execution_count": null,
   "id": "dd85b825-2d26-4a10-a9fa-a360ab29d4f1",
   "metadata": {},
   "outputs": [],
   "source": [
    "if __name__ == '__main__':\n",
    "    n = int(input())\n",
    "    student_marks = {}\n",
    "    for _ in range(n):\n",
    "        name, *line = input().split()\n",
    "        scores = list(map(float, line))\n",
    "        student_marks[name] = scores\n",
    "    query_name = input()\n",
    "    \n",
    "    cur = student_marks[query_name]\n",
    "    res = sum(cur) / len(cur)\n",
    "    ## had to research how to format. What a pain haha\n",
    "    print(f'{res:.2f}')"
   ]
  },
  {
   "cell_type": "markdown",
   "id": "2a111e37-9814-43fd-9aca-02cb4d5c252a",
   "metadata": {},
   "source": [
    "**Lists**"
   ]
  },
  {
   "cell_type": "code",
   "execution_count": null,
   "id": "e81be203-008a-4c3d-893e-c065ce02dcc4",
   "metadata": {},
   "outputs": [],
   "source": [
    "if __name__ == '__main__':\n",
    "    N = int(input())\n",
    "    \n",
    "    ans = []\n",
    "    for _ in range(N):\n",
    "        cur = input().split()\n",
    "        if cur[0] == \"insert\": \n",
    "            ans.insert(int(cur[1]),int(cur[2]))\n",
    "        if cur[0] == \"print\": \n",
    "            print(ans)\n",
    "        if cur[0] == \"remove\": \n",
    "            ans.remove(int(cur[1]))\n",
    "        if cur[0] == \"append\": \n",
    "            ans.append(int(cur[1])),\n",
    "        if cur[0] == \"pop\": \n",
    "            ans.pop()\n",
    "        if cur[0] == \"sort\": \n",
    "            ans.sort()\n",
    "        if cur[0] == \"reverse\": \n",
    "            ans.reverse()\n"
   ]
  },
  {
   "cell_type": "markdown",
   "id": "a2983ea4-1fc7-4df2-be90-443d6e4c34b2",
   "metadata": {},
   "source": [
    "**Tuples**"
   ]
  },
  {
   "cell_type": "code",
   "execution_count": null,
   "id": "72d8c8f8-89fd-4c16-9de0-cb7b23f20094",
   "metadata": {},
   "outputs": [],
   "source": [
    "if __name__ == '__main__':\n",
    "    #dont know why they give us the N\n",
    "    n = int(input())\n",
    "    integer_list = map(int, input().split())\n",
    "    print(hash(tuple(integer_list)))"
   ]
  },
  {
   "cell_type": "markdown",
   "id": "bf1319a3-c68b-4c72-9876-10abc2525d9b",
   "metadata": {},
   "source": [
    "#### Strings"
   ]
  },
  {
   "cell_type": "markdown",
   "id": "abfddf39-648f-4eca-8caf-fac7a4327e7c",
   "metadata": {},
   "source": [
    "**sWAP cASE**"
   ]
  },
  {
   "cell_type": "code",
   "execution_count": null,
   "id": "bbb76c45-7a15-4194-a0d9-4a331f9d6c7d",
   "metadata": {},
   "outputs": [],
   "source": [
    "def swap_case(s):\n",
    "    # wanted to make it as short as possible\n",
    "    return \"\".join(x.lower() if x.isupper() else x.upper() for x in s)\n",
    "\n",
    "if __name__ == '__main__':\n",
    "    s = input()\n",
    "    result = swap_case(s)\n",
    "    print(result)"
   ]
  },
  {
   "cell_type": "markdown",
   "id": "d0c53146-9c83-4740-b301-ffbe12995391",
   "metadata": {},
   "source": [
    "**String Split and Join**"
   ]
  },
  {
   "cell_type": "code",
   "execution_count": null,
   "id": "c8fc631b-7009-4f38-ab18-f37c81d14945",
   "metadata": {},
   "outputs": [],
   "source": [
    "def split_and_join(line):\n",
    "    return \"-\".join(line.split(\" \"))\n",
    "\n",
    "if __name__ == '__main__':\n",
    "    line = input()\n",
    "    result = split_and_join(line)\n",
    "    print(result)"
   ]
  },
  {
   "cell_type": "markdown",
   "id": "c810e8f1-9f8d-4e1f-be0a-7ab5aa99ef3c",
   "metadata": {},
   "source": [
    "**What's Your Name?**"
   ]
  },
  {
   "cell_type": "code",
   "execution_count": null,
   "id": "b81c249b-bce6-434e-a933-52a4feb02af3",
   "metadata": {},
   "outputs": [],
   "source": [
    "def print_full_name(first, last):\n",
    "    # researched, expected it to have str templates just like typescript's \"str ${var} str\"\n",
    "    print(f\"Hello {first} {last}! You just delved into python.\")\n",
    "\n",
    "if __name__ == '__main__':\n",
    "    first_name = input()\n",
    "    last_name = input()\n",
    "    print_full_name(first_name, last_name)"
   ]
  },
  {
   "cell_type": "markdown",
   "id": "d2b1206b-a326-49b1-b626-187aa564422e",
   "metadata": {},
   "source": [
    "**Mutations**"
   ]
  },
  {
   "cell_type": "code",
   "execution_count": null,
   "id": "4c9df9ff-6f9c-401c-b002-666266d988b9",
   "metadata": {},
   "outputs": [],
   "source": [
    "def mutate_string(string, position, character):\n",
    "    #short and nice. O(n), sadly\n",
    "    return string[:position] + character + string[position+1:]\n",
    "\n",
    "if __name__ == '__main__':\n",
    "    s = input()\n",
    "    i, c = input().split()\n",
    "    s_new = mutate_string(s, int(i), c)\n",
    "    print(s_new)"
   ]
  },
  {
   "cell_type": "markdown",
   "id": "12d3c3f0-d3da-429f-a359-7b70b9bac3a7",
   "metadata": {},
   "source": [
    "**Find a string**"
   ]
  },
  {
   "cell_type": "code",
   "execution_count": null,
   "id": "44b6d0d6-1349-4092-a018-5131812fe9ed",
   "metadata": {},
   "outputs": [],
   "source": [
    "# reference https://www.geeksforgeeks.org/python-ways-to-count-number-of-substring-in-string/\n",
    "import re\n",
    "\n",
    "def count_substring(string, sub_string):\n",
    "    # first used this: string.count(sub_string). It didnt matched cases\n",
    "    # such as string=\"ababa\" sub_string = \"aba\"\n",
    "    return len(re.findall(f'(?=({sub_string}))', string))\n",
    "    \n",
    "\n",
    "if __name__ == '__main__':\n",
    "    string = input().strip()\n",
    "    sub_string = input().strip()\n",
    "    \n",
    "    count = count_substring(string, sub_string)\n",
    "    print(count)"
   ]
  },
  {
   "cell_type": "markdown",
   "id": "a6dc023f-c39b-4d30-8df5-36525d39adef",
   "metadata": {},
   "source": [
    "**String Validators**"
   ]
  },
  {
   "cell_type": "code",
   "execution_count": null,
   "id": "41d7ca4c-0506-401b-94be-0e34b93aa27a",
   "metadata": {},
   "outputs": [],
   "source": [
    "if __name__ == '__main__':\n",
    "    s = input()\n",
    "    alpha = num = upp = lower = False\n",
    "    for x in s:\n",
    "        # like i can do this \"|=\" like in c++\n",
    "        alpha |= x.isalpha()\n",
    "        num |= x.isdigit()\n",
    "        upp |= x.isupper()\n",
    "        lower |= x.islower()\n",
    "    \n",
    "    print(alpha or num)\n",
    "    print(alpha)\n",
    "    print(num)\n",
    "    print(lower)\n",
    "    print(upp)"
   ]
  },
  {
   "cell_type": "markdown",
   "id": "d44a7ae4-7526-4fff-916a-333eb587eab8",
   "metadata": {},
   "source": [
    "**Text Alignment**"
   ]
  },
  {
   "cell_type": "code",
   "execution_count": null,
   "id": "402e1754-1af9-4b85-811b-35af655487b7",
   "metadata": {},
   "outputs": [],
   "source": [
    "#TODO"
   ]
  },
  {
   "cell_type": "markdown",
   "id": "d84545cb-f82c-40e8-9f51-763b0f719bc5",
   "metadata": {},
   "source": [
    "**Text Wrap**"
   ]
  },
  {
   "cell_type": "code",
   "execution_count": null,
   "id": "39109775-ac26-46dc-a44f-d8aede272581",
   "metadata": {},
   "outputs": [],
   "source": [
    "import textwrap\n",
    "\n",
    "def wrap(string, w):\n",
    "    return \"\".join([string[i:i+w] + \"\\n\" for i in range(0,len(string),w)])\n",
    "\n",
    "if __name__ == '__main__':\n",
    "    string, max_width = input(), int(input())\n",
    "    result = wrap(string, max_width)\n",
    "    print(result)"
   ]
  },
  {
   "cell_type": "markdown",
   "id": "5f595c63-1bd6-4f42-b444-9da40fa9251b",
   "metadata": {},
   "source": [
    "**Designer Door Mat**"
   ]
  },
  {
   "cell_type": "code",
   "execution_count": null,
   "id": "1e635594-2fdc-46e2-b891-a96ee570fd7e",
   "metadata": {},
   "outputs": [],
   "source": [
    "## TODO"
   ]
  },
  {
   "cell_type": "markdown",
   "id": "ebcbf36a-4e47-4c58-be0f-338e10b62dcf",
   "metadata": {},
   "source": [
    "**String Formatting**"
   ]
  },
  {
   "cell_type": "code",
   "execution_count": null,
   "id": "c187bef7-bad9-443a-9662-56a39786d209",
   "metadata": {},
   "outputs": [],
   "source": [
    "def print_formatted(number):\n",
    "    w = len(bin(number)[2:])\n",
    "    for i in range(1,number+1):\n",
    "        # researched rjust. So useful, pads left when the arg is bigger than the str lenght\n",
    "        # so anoying the uppercase in hex values\n",
    "        print(str(i).rjust(w), oct(i)[2:].rjust(w), hex(i)[2:].rjust(w).upper(), bin(i)[2:].rjust(w))\n",
    "\n",
    "if __name__ == '__main__':\n",
    "    n = int(input())\n",
    "    print_formatted(n)"
   ]
  },
  {
   "cell_type": "markdown",
   "id": "40e1108c-c994-43d3-9f12-ce666094cc69",
   "metadata": {},
   "source": [
    "**Alphabet Rangoli**"
   ]
  },
  {
   "cell_type": "code",
   "execution_count": null,
   "id": "71ee3cd6-0a8a-4371-b27a-b91f1948e80a",
   "metadata": {},
   "outputs": [],
   "source": [
    "#TODO"
   ]
  },
  {
   "cell_type": "markdown",
   "id": "67974e0f-5b86-4013-ba3d-647217e39150",
   "metadata": {},
   "source": [
    "**Capitalize!**"
   ]
  },
  {
   "cell_type": "code",
   "execution_count": null,
   "id": "04a7f9b3-3fe5-483e-b80d-12fee7d86489",
   "metadata": {},
   "outputs": [],
   "source": [
    "def solve(s):\n",
    "    return \" \".join(x.capitalize() for x in s.split(\" \"))\n",
    "\n",
    "if __name__ == '__main__':\n",
    "    fptr = open(os.environ['OUTPUT_PATH'], 'w')\n",
    "    s = input()\n",
    "    result = solve(s)\n",
    "    fptr.write(result + '\\n')\n",
    "    fptr.close()\n"
   ]
  },
  {
   "cell_type": "markdown",
   "id": "b0c4b81f-0ad4-427c-a1fb-c78ce9e354fc",
   "metadata": {},
   "source": [
    "**The Minion Game**"
   ]
  },
  {
   "cell_type": "code",
   "execution_count": null,
   "id": "a733db94-b0f0-4af8-8642-1eff57362b95",
   "metadata": {},
   "outputs": [],
   "source": [
    "def minion_game(string):\n",
    "    #think about counting possible substrings instead of generating them\n",
    "    #given i, count all substrings starting at i. \n",
    "    #if i is vowel, kevin sums, otherwise stuart sums\n",
    "    \n",
    "    kevin = stuart = 0\n",
    "    for i in range(len(string)):\n",
    "        n = len(string) - i\n",
    "        if string[i] in ['A','E','I','O','U']:\n",
    "            kevin += n\n",
    "        else:\n",
    "            stuart += n\n",
    "            \n",
    "    if kevin == stuart:\n",
    "        return print(\"Draw\")\n",
    "    # my first solution was correct. But kevin template had no space :)\n",
    "    print(f\"Stuart {stuart}\" if stuart > kevin else f\"Kevin {kevin}\")\n",
    "\n",
    "if __name__ == '__main__':\n",
    "    s = input()\n",
    "    minion_game(s)"
   ]
  },
  {
   "cell_type": "markdown",
   "id": "44fc7ad9-871c-4f53-a4ba-71c3f85c161b",
   "metadata": {},
   "source": [
    "**Merge the Tools!**"
   ]
  },
  {
   "cell_type": "code",
   "execution_count": null,
   "id": "19e9f727-47b6-4d17-90c6-4f6afe758648",
   "metadata": {},
   "outputs": [],
   "source": [
    "def merge_the_tools(s, k):\n",
    "    # just using lists and sets. easy cake\n",
    "    subs = [s[i:i+k] for i in range(0,len(s),k)]\n",
    "    for t in subs:\n",
    "        print(\"\".join(list(set(t))))\n",
    "\n",
    "if __name__ == '__main__':\n",
    "    string, k = input(), int(input())\n",
    "    merge_the_tools(string, k)"
   ]
  }
 ],
 "metadata": {
  "kernelspec": {
   "display_name": "Python 3 (ipykernel)",
   "language": "python",
   "name": "python3"
  },
  "language_info": {
   "codemirror_mode": {
    "name": "ipython",
    "version": 3
   },
   "file_extension": ".py",
   "mimetype": "text/x-python",
   "name": "python",
   "nbconvert_exporter": "python",
   "pygments_lexer": "ipython3",
   "version": "3.12.3"
  }
 },
 "nbformat": 4,
 "nbformat_minor": 5
}
