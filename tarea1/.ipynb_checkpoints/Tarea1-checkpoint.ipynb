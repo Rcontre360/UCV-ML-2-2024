{
 "cells": [
  {
   "cell_type": "markdown",
   "id": "03540497-cd79-4663-98ab-40f996c49dc3",
   "metadata": {},
   "source": [
    "## Python"
   ]
  },
  {
   "cell_type": "markdown",
   "id": "2da024e4-1898-420c-a93b-4eb0cf34f244",
   "metadata": {},
   "source": [
    "#### Introduccion"
   ]
  },
  {
   "cell_type": "markdown",
   "id": "a65bccdd-b91e-426e-8209-2615a8fb9029",
   "metadata": {},
   "source": [
    "**Python hello world**"
   ]
  },
  {
   "cell_type": "code",
   "execution_count": null,
   "id": "2571b682-c9c8-498a-be80-7049af337b2a",
   "metadata": {},
   "outputs": [],
   "source": [
    "# easy, dont need to explain\n",
    "if __name__ == '__main__':\n",
    "    print(\"Hello, World!\")"
   ]
  },
  {
   "cell_type": "markdown",
   "id": "4299ddb2-8ea3-4f9d-8511-bcfa8f8092ed",
   "metadata": {},
   "source": [
    "**Python if else**"
   ]
  },
  {
   "cell_type": "code",
   "execution_count": null,
   "id": "4a6769ef-6c21-46bf-9d01-1a0c623cc4e5",
   "metadata": {},
   "outputs": [],
   "source": [
    "#focus on weird ones only\n",
    "if __name__ == '__main__':\n",
    "    n = int(input().strip())\n",
    "    even = n % 2 == 0\n",
    "    if not even or (even and 6 <= n <= 20):\n",
    "        print(\"Weird\")\n",
    "    else:\n",
    "        print(\"Not Weird\")"
   ]
  },
  {
   "cell_type": "markdown",
   "id": "1727f866-dbee-4a8b-8c16-06631df5750a",
   "metadata": {},
   "source": [
    "**Arithmetic operations**"
   ]
  },
  {
   "cell_type": "code",
   "execution_count": null,
   "id": "dc1ca435-e9eb-48a3-8df5-4d46aa5736cd",
   "metadata": {},
   "outputs": [],
   "source": [
    "if __name__ == '__main__':\n",
    "    a = int(input())\n",
    "    b = int(input())\n",
    "    print(a + b)\n",
    "    print(a - b)\n",
    "    print(a * b)"
   ]
  },
  {
   "cell_type": "markdown",
   "id": "c44fbf62-db75-42ec-9e4a-669f686118d7",
   "metadata": {},
   "source": [
    "**Division**"
   ]
  },
  {
   "cell_type": "code",
   "execution_count": null,
   "id": "bc8bd525-b5b4-4312-840e-c14c32f6cabd",
   "metadata": {},
   "outputs": [],
   "source": [
    "if __name__ == '__main__':\n",
    "    a = int(input())\n",
    "    b = int(input())\n",
    "    print(a // b)\n",
    "    print(a/b)"
   ]
  },
  {
   "cell_type": "markdown",
   "id": "b876628c-91f1-4150-912f-714b41ca16e6",
   "metadata": {},
   "source": [
    "**Loops**"
   ]
  },
  {
   "cell_type": "code",
   "execution_count": null,
   "id": "8c75ffc6-0490-45c9-9175-831682f5d415",
   "metadata": {},
   "outputs": [],
   "source": [
    "if __name__ == '__main__':\n",
    "    n = int(input())\n",
    "    # wanted to use \"join\" to remember it\n",
    "    print(\"\".join(str(i*i) + '\\n' for i in range(n)))"
   ]
  },
  {
   "cell_type": "markdown",
   "id": "058516a2-5d03-474d-a174-5fef6d77f3cd",
   "metadata": {},
   "source": [
    "**Write a function**"
   ]
  },
  {
   "cell_type": "code",
   "execution_count": null,
   "id": "3484065c-1568-4fb2-8481-05aefec667b5",
   "metadata": {},
   "outputs": [],
   "source": [
    "def is_leap(year):\n",
    "    leap = False\n",
    "    \n",
    "    if year % 4 == 0 and (year % 100 != 0 or year % 400 == 0):\n",
    "        leap = True\n",
    "    \n",
    "    return leap\n",
    "\n",
    "year = int(input())\n",
    "print(is_leap(year))"
   ]
  },
  {
   "cell_type": "markdown",
   "id": "64270922-f845-4654-ae99-0462dfa5ed07",
   "metadata": {},
   "source": [
    "**Print function**"
   ]
  },
  {
   "cell_type": "markdown",
   "id": "e4f87b5f-ea4e-4637-b11a-54ee683e25da",
   "metadata": {},
   "source": [
    "if __name__ == '__main__':\n",
    "    n = int(input())\n",
    "    # had to research how to remove the newline\n",
    "    for i in range(n):\n",
    "        print(i+1,end=\"\")"
   ]
  },
  {
   "cell_type": "markdown",
   "id": "5a8e8e7a-6740-46fe-95a4-8f36eb877adb",
   "metadata": {},
   "source": [
    "#### Data Types"
   ]
  },
  {
   "cell_type": "markdown",
   "id": "d8963b8b-4558-4dbd-ac25-68b66ad3281d",
   "metadata": {},
   "source": [
    "**List Comprehensions**"
   ]
  },
  {
   "cell_type": "code",
   "execution_count": null,
   "id": "2169c99a-38cd-4a3c-b8ea-3dc6e49cdfcb",
   "metadata": {},
   "outputs": [],
   "source": [
    "if __name__ == '__main__':\n",
    "    x = int(input())\n",
    "    y = int(input())\n",
    "    z = int(input())\n",
    "    n = int(input())\n",
    "    # low readability in my opinion\n",
    "    print([[i, j, k] for i in range(x+1) for j in range(y+1) for k in range(z+1) if i + j + k != n])"
   ]
  },
  {
   "cell_type": "markdown",
   "id": "3dea5249-0b03-4376-bdcc-f8848b8b2fa9",
   "metadata": {},
   "source": [
    "**Find the Runner-Up Score!**"
   ]
  },
  {
   "cell_type": "code",
   "execution_count": null,
   "id": "2deb7a8a-9d37-4c9e-9101-5c206ac5828f",
   "metadata": {},
   "outputs": [],
   "source": [
    "if __name__ == '__main__':\n",
    "    n = int(input())\n",
    "    arr = list(set(map(int, input().split())))\n",
    "    arr.sort()\n",
    "    #first thought about just sorting. Then had to solve with repeated elements\n",
    "    print(arr[-2])"
   ]
  },
  {
   "cell_type": "markdown",
   "id": "691a25e2-bbff-4a62-9fd2-a99adfd287eb",
   "metadata": {},
   "source": [
    "**Nested Lists**"
   ]
  },
  {
   "cell_type": "code",
   "execution_count": null,
   "id": "a8a2e712-fc21-4097-917d-8c7a6333b118",
   "metadata": {},
   "outputs": [],
   "source": [
    "if __name__ == '__main__':\n",
    "    elems = []\n",
    "    for _ in range(int(input())):\n",
    "        name = input()\n",
    "        score = float(input())\n",
    "        elems.append([score,name])\n",
    "    #sorting again\n",
    "    elems.sort()\n",
    "    \n",
    "    worst = elems[0][0]\n",
    "    found = worst\n",
    "    #once the target value is found, wait for it to be different\n",
    "    for x in elems:\n",
    "        if x[0] > worst:\n",
    "            if found != worst and found != x[0]:\n",
    "                break\n",
    "                \n",
    "            found = x[0]\n",
    "            print(x[1])"
   ]
  },
  {
   "cell_type": "markdown",
   "id": "5ebd527a-781e-4011-a209-fa679d29123f",
   "metadata": {},
   "source": [
    "**Finding the percentage**"
   ]
  },
  {
   "cell_type": "code",
   "execution_count": null,
   "id": "dd85b825-2d26-4a10-a9fa-a360ab29d4f1",
   "metadata": {},
   "outputs": [],
   "source": [
    "if __name__ == '__main__':\n",
    "    n = int(input())\n",
    "    student_marks = {}\n",
    "    for _ in range(n):\n",
    "        name, *line = input().split()\n",
    "        scores = list(map(float, line))\n",
    "        student_marks[name] = scores\n",
    "    query_name = input()\n",
    "    \n",
    "    cur = student_marks[query_name]\n",
    "    res = sum(cur) / len(cur)\n",
    "    ## had to research how to format. What a pain haha\n",
    "    print(f'{res:.2f}')"
   ]
  },
  {
   "cell_type": "markdown",
   "id": "2a111e37-9814-43fd-9aca-02cb4d5c252a",
   "metadata": {},
   "source": [
    "**Lists**"
   ]
  },
  {
   "cell_type": "code",
   "execution_count": null,
   "id": "e81be203-008a-4c3d-893e-c065ce02dcc4",
   "metadata": {},
   "outputs": [],
   "source": [
    "if __name__ == '__main__':\n",
    "    N = int(input())\n",
    "    \n",
    "    ans = []\n",
    "    for _ in range(N):\n",
    "        cur = input().split()\n",
    "        if cur[0] == \"insert\": \n",
    "            ans.insert(int(cur[1]),int(cur[2]))\n",
    "        if cur[0] == \"print\": \n",
    "            print(ans)\n",
    "        if cur[0] == \"remove\": \n",
    "            ans.remove(int(cur[1]))\n",
    "        if cur[0] == \"append\": \n",
    "            ans.append(int(cur[1])),\n",
    "        if cur[0] == \"pop\": \n",
    "            ans.pop()\n",
    "        if cur[0] == \"sort\": \n",
    "            ans.sort()\n",
    "        if cur[0] == \"reverse\": \n",
    "            ans.reverse()\n"
   ]
  },
  {
   "cell_type": "markdown",
   "id": "a2983ea4-1fc7-4df2-be90-443d6e4c34b2",
   "metadata": {},
   "source": [
    "**Tuples**"
   ]
  },
  {
   "cell_type": "code",
   "execution_count": null,
   "id": "72d8c8f8-89fd-4c16-9de0-cb7b23f20094",
   "metadata": {},
   "outputs": [],
   "source": [
    "if __name__ == '__main__':\n",
    "    #dont know why they give us the N\n",
    "    n = int(input())\n",
    "    integer_list = map(int, input().split())\n",
    "    print(hash(tuple(integer_list)))"
   ]
  }
 ],
 "metadata": {
  "kernelspec": {
   "display_name": "Python 3 (ipykernel)",
   "language": "python",
   "name": "python3"
  },
  "language_info": {
   "codemirror_mode": {
    "name": "ipython",
    "version": 3
   },
   "file_extension": ".py",
   "mimetype": "text/x-python",
   "name": "python",
   "nbconvert_exporter": "python",
   "pygments_lexer": "ipython3",
   "version": "3.12.3"
  }
 },
 "nbformat": 4,
 "nbformat_minor": 5
}
