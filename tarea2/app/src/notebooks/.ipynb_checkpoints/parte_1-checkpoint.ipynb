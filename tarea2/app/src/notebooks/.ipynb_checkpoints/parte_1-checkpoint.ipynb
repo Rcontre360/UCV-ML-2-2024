{
 "cells": [
  {
   "cell_type": "markdown",
   "id": "95a68a04-05cb-41a5-a6d0-6c7d69809220",
   "metadata": {},
   "source": [
    "# __Tarea 2:__ Aprendizaje supervisado (parte 1)\n",
    "\n",
    "1. Nombre: Rafael\n",
    "1. Apellido: Contreras\n",
    "1. Correo: rcontreraspimentel@gmail.com\n",
    "1. Cedula: 30391915\n",
    "--------"
   ]
  },
  {
   "cell_type": "markdown",
   "id": "ea8d2eab-a773-4aff-b853-87fd39257289",
   "metadata": {},
   "source": [
    "Algunas variables que podemos cambiar y que afectaran a todo el proyecto. SEED se refiere a la semilla usada para las funciones que generan numeros random. MAX_JOBS se refiere al numero de cores maximo permitido en algunos algoritmos.\n",
    "\n",
    "Asimismo tenemos MAX_DATA_SIZE que configura con cuanta data se entrenaran los modelos a usar. Tiene que ser un valor entre 1 y 100, esto corresponde a que porcentaje de la data de mnist se usara para entrenar. Esta variable existe con el proposito de acelerar el desarrollo, ya que el entrenamiento con mnist tarda bastante."
   ]
  },
  {
   "cell_type": "code",
   "execution_count": 21,
   "id": "a04f8d2c-df60-4ed6-a0c3-c33aa57caa5f",
   "metadata": {},
   "outputs": [],
   "source": [
    "SEED=30391915\n",
    "MAX_JOBS=8 # configure to speed up training. Max number of cores used when -1\n",
    "MAX_DATA_SIZE=30"
   ]
  },
  {
   "cell_type": "markdown",
   "id": "00838ddc-74dd-4080-9afa-b3730f59e5b3",
   "metadata": {},
   "source": [
    "## Number recognition model"
   ]
  },
  {
   "cell_type": "markdown",
   "id": "af4ccc02-d689-4720-9de1-35e717b13406",
   "metadata": {
    "jp-MarkdownHeadingCollapsed": true
   },
   "source": [
    "### Data visualization"
   ]
  },
  {
   "cell_type": "markdown",
   "id": "444ba94a-a87e-49d1-96ab-54150bc31baf",
   "metadata": {},
   "source": [
    "En esta seccion definiremos algunas funciones que haran facil obtener la data.\n",
    "Primero obtenemos las imagenes de mnist y luego las transformamos en vectores (concatenando cada fila de pixeles). Esta transformacion es necesaria para poder usar las imagenes en los modelos.\n",
    "\n",
    "Definimos una funcion \"obtain_data\" para obtener una porcion del dataset. Esto es necesario solo para el modelo de logistic regression ya que el mismo tarda demasisado con el dataset completo."
   ]
  },
  {
   "cell_type": "code",
   "execution_count": null,
   "id": "f42ff550-9e18-4d01-8805-d3486fa06aec",
   "metadata": {},
   "outputs": [],
   "source": [
    "from keras.datasets import mnist\n",
    "import matplotlib.pyplot as plt\n",
    "import numpy as np\n",
    "import joblib\n",
    "\n",
    "def get_mnist_data():\n",
    "    return mnist.load_data()\n",
    "    \n",
    "# convierte una matriz 28*28 en un vector\n",
    "def vectorize(original):\n",
    "    return original.reshape(original.shape[0], 28 * 28)\n",
    "\n",
    "# obtenemos la data una sola vez ya vectorizada, no es\n",
    "(x_train_o, y_train_o), (x_test_o, y_test_o) = get_mnist_data()\n",
    "(x_train_o, y_train_o), (x_test_o, y_test_o) = (vectorize(x_train_o), y_train_o), (vectorize(x_test_o), y_test_o)\n",
    "\n",
    "# esta funcion retorna solo una porcion del dataset. Default a 20% para hacer mas rapido el analisis de cual modelo es el mejor\n",
    "def obtain_data(amount = MAX_DATA_SIZE):\n",
    "    train_size,test_size = int(len(x_train_o) * amount / 100), int(len(x_test_o) * amount / 100)\n",
    "    x_train, y_train = x_train_o[:train_size], y_train_o[:train_size]\n",
    "    x_test, y_test = x_test_o[:test_size], y_test_o[:test_size]\n",
    "\n",
    "    return (x_train, y_train), (x_test, y_test)\n"
   ]
  },
  {
   "cell_type": "code",
   "execution_count": 31,
   "id": "9ac31a06-e84d-45ff-95de-44be1a29b933",
   "metadata": {},
   "outputs": [],
   "source": [
    "(x_train, y_train), (x_test, y_test) = obtain_data(100)"
   ]
  },
  {
   "cell_type": "markdown",
   "id": "e45e6bca-2987-458f-8619-0fa3ba8753ee",
   "metadata": {},
   "source": [
    "Ahora podemos observar las imagenes que usaremos para el entrenamiento. Vemos que el background es negro y el stroke blanco, nuestro canvas tendra estas caracteristicas cuando empecemos a hacer predicciones con el mimsmo. Asimismo notamos que el stroke tiene un grosor mayor al default del canvas, por lo cual tambien incrementaremos el mismo."
   ]
  },
  {
   "cell_type": "code",
   "execution_count": 32,
   "id": "5a5ef3ee-a771-46b2-8582-874f60932f60",
   "metadata": {},
   "outputs": [
    {
     "data": {
      "image/png": "[encoded data removed]",
      "text/plain": [
       "<Figure size 1000x500 with 4 Axes>"
      ]
     },
     "metadata": {},
     "output_type": "display_data"
    }
   ],
   "source": [
    "def show_sample_images():\n",
    "    (x_train, y_train), _ = get_mnist_data() \n",
    "    fig, axes = plt.subplots(1, 4, figsize=(10, 5))  # 6 imagenes en esta fila\n",
    "    indices = np.random.choice(len(x_train), 4, replace=False)  # seleccionamos indices random\n",
    "\n",
    "    for ax, idx in zip(axes, indices):\n",
    "        ax.imshow(x_train[idx], cmap=\"gray\")\n",
    "        ax.set_title(f\"Label: {y_train[idx]}\")\n",
    "        ax.axis(\"off\")\n",
    "\n",
    "    plt.show()\n",
    "\n",
    "show_sample_images()"
   ]
  },
  {
   "cell_type": "markdown",
   "id": "0a295275-1969-4b35-a338-dbaa8d9baffd",
   "metadata": {},
   "source": [
    "Ahora veremos como las matrices se ven cuando no aparecen como imagenes. Como se observa, el fondo es negro (solo 0s) y el stroke va de 1 a 255. Al modelo solo le enviaremos esta misma matriz convertida en un vector (concatenando filas), asi sera durante entrenamiento y evaluacion."
   ]
  },
  {
   "cell_type": "code",
   "execution_count": 37,
   "id": "cf114d15-c73a-402f-88ee-98f289d43e83",
   "metadata": {
    "scrolled": true
   },
   "outputs": [
    {
     "name": "stdout",
     "output_type": "stream",
     "text": [
      "Label: 3\n",
      "  0   0   0   0   0   0   0   0   0   0   0   0   0   0   0   0   0   0   0   0   0   0   0   0   0   0   0   0\n",
      "  0   0   0   0   0   0   0   0   0   0   0   0   0   0   0   0   0   0   0   0   0   0   0   0   0   0   0   0\n",
      "  0   0   0   0   0   0   0   0   0   0   0   0   0   0   0   0   0   0   0   0   0   0   0   0   0   0   0   0\n",
      "  0   0   0   0   0   0   0   0   0   0   0   0   0   0   0   0   0   0   0   0   0   0   0   0   0   0   0   0\n",
      "  0   0   0   0   0   0   0   0   0   0   0   0   0   0 113 255 110   0   0   0   0   0   0   0   0   0   0   0\n",
      "  0   0   0   0   0   0   0   0   0   0   0   0   0 117 248 253 109   0   0   0   0   0   0   0   0   0   0   0\n",
      "  0   0   0   0   0   0   0   0   0   0   0   0 117 246 253 253 155 213 213 213 213 117  70   0   0   0   0   0\n",
      "  0   0   0   0   0   0   0   0   0   0  29 116 247 253 253 253 253 253 253 253 253 253 237  26   0   0   0   0\n",
      "  0   0   0   0   0   0   0   0   5 117 214 253 253 253 247 219 140  82  82  82 124 253 253 116   0   0   0   0\n",
      "  0   0   0   0   0   0   0   0 117 253 253 253 241 128  83   0   0   0   0   0  70 253 241  47   0   0   0   0\n",
      "  0   0   0   0   0   0   0   0 172 253 253 196  13   0   0   0   0   0   0  43 227 253 232   0   0   0   0   0\n",
      "  0   0   0   0   0   0   0   0  98 203 143   7   0   0   0   0   0   0 105 231 253 235  57   0   0   0   0   0\n",
      "  0   0   0   0   0   0   0   0   0  15   0   0   0   0  18  90 168 227 252 253 183  63   0   0   0   0   0   0\n",
      "  0   0   0   0   0   0   0   0   0   0   0   0   0   0 160 253 253 253 253 208  25   0   0   0   0   0   0   0\n",
      "  0   0   0   0   0   0   0   0   0   0   0   0   0   0 150 205 205 205 205 247 166  15   0   0   0   0   0   0\n",
      "  0   0   0   0   0   0   9   7  19  27   0   0   0   0   0   0   0   0   0 130 253  75   0   0   0   0   0   0\n",
      "  0   0   0   0   0   7 155 169 211 158   0   0   0   0   0   0   0   0   0  83 253  79   0   0   0   0   0   0\n",
      "  0   0   0   0   0 234 253 131   0   0   0   0   0   0   0   0   0   0   0  83 253 212   0   0   0   0   0   0\n",
      "  0   0   0   0 167 252 181   3   0   0   0   0   0   0   0   0   0   0  43 227 253  82   0   0   0   0   0   0\n",
      "  0   0   0   0 254 253 177   0   0   0   0   0   0   0   0   0   0  41 227 253 233  51   0   0   0   0   0   0\n",
      "  0   0   0   0 221 253 196  15   0   0   0   0   0   0   0   7 140 226 253 233  70   0   0   0   0   0   0   0\n",
      "  0   0   0   0  99 250 253 196  86  42  42  42  42  42 142 187 253 253 214  69   0   0   0   0   0   0   0   0\n",
      "  0   0   0   0   0 215 250 253 253 253 253 253 253 253 253 253 241 165   5   0   0   0   0   0   0   0   0   0\n",
      "  0   0   0   0   0   0  98 220 253 253 253 253 253 253 227 116  50   0   0   0   0   0   0   0   0   0   0   0\n",
      "  0   0   0   0   0   0   0   0   0   0   0   0   0   0   0   0   0   0   0   0   0   0   0   0   0   0   0   0\n",
      "  0   0   0   0   0   0   0   0   0   0   0   0   0   0   0   0   0   0   0   0   0   0   0   0   0   0   0   0\n",
      "  0   0   0   0   0   0   0   0   0   0   0   0   0   0   0   0   0   0   0   0   0   0   0   0   0   0   0   0\n",
      "  0   0   0   0   0   0   0   0   0   0   0   0   0   0   0   0   0   0   0   0   0   0   0   0   0   0   0   0\n"
     ]
    }
   ],
   "source": [
    "import random\n",
    "\n",
    "def print_random_image_matrix():\n",
    "    (x_train, y_train), _ = get_mnist_data()\n",
    "    idx = random.randint(0, len(x_train) - 1)\n",
    "    image, label = x_train[idx], y_train[idx]\n",
    "\n",
    "    print(f\"Label: {label}\")\n",
    "    for row in image:\n",
    "        print(\" \".join(f\"{pixel:3}\" for pixel in row))\n",
    "\n",
    "# Call the function\n",
    "print_random_image_matrix()"
   ]
  },
  {
   "cell_type": "markdown",
   "id": "2047938b-7118-42bf-8710-927e6752c0e6",
   "metadata": {},
   "source": [
    "Ahora veremos la distribucion de elementos a clasificar del dataset. Hacemos esto para verificar que no exista una cantidad mucho mayor de ciertos elementos comparados con otros. Como vemos en la grafica resultado, no hay diferencias muy significativas en la cantidad de cada tipo de elemento."
   ]
  },
  {
   "cell_type": "code",
   "execution_count": 33,
   "id": "6a4c10ba-462a-48e0-951a-2434baecfd38",
   "metadata": {},
   "outputs": [
    {
     "data": {
      "image/png": "[encoded data removed]",
      "text/plain": [
       "<Figure size 800x500 with 1 Axes>"
      ]
     },
     "metadata": {},
     "output_type": "display_data"
    }
   ],
   "source": [
    "import matplotlib.pyplot as plt\n",
    "import numpy as np\n",
    "\n",
    "train_counts = np.bincount(y_train)\n",
    "test_counts = np.bincount(y_test)\n",
    "classes = np.arange(10)  # los digitos de 0 a 9\n",
    "\n",
    "fig, ax = plt.subplots(figsize=(8, 5))\n",
    "ax.bar(classes - 0.2, train_counts, width=0.4, label=\"Train Data\", color=\"blue\", alpha=0.7)\n",
    "ax.bar(classes + 0.2, test_counts, width=0.4, label=\"Test Data\", color=\"orange\", alpha=0.7)\n",
    "\n",
    "ax.set_xticks(classes)\n",
    "ax.set_xlabel(\"Digit Class\")\n",
    "ax.set_ylabel(\"Count\")\n",
    "ax.set_title(\"Distribution of Digits in Train and Test Data\")\n",
    "ax.legend()\n",
    "plt.show()\n"
   ]
  },
  {
   "cell_type": "markdown",
   "id": "e52da4de-ae40-4262-b9b7-802d8b8f86c9",
   "metadata": {
    "jp-MarkdownHeadingCollapsed": true
   },
   "source": [
    "### Logistic regression"
   ]
  },
  {
   "cell_type": "markdown",
   "id": "1e8306b8-2b52-4e63-bf87-fcc4a8095701",
   "metadata": {},
   "source": [
    "Ahora evaluaremos el performance de la regresion logistica. Para este algoritmo usaremos solo 30% de los datos para la evaluacion, dado que tarda mucho. Comenzaremos graficando el impacto de cambiar C en el performance del modelo. \n",
    "\n",
    "Esto solo se realizara para este modelo a manera informativa, luego solo se usara \"GridSearchCV\" para encontrar los parametros optimos."
   ]
  },
  {
   "cell_type": "code",
   "execution_count": 34,
   "id": "91ac5d1c-2a41-42a6-b215-f282120a91af",
   "metadata": {},
   "outputs": [],
   "source": [
    "(x_train, y_train), (x_test, y_test) = obtain_data()"
   ]
  },
  {
   "cell_type": "code",
   "execution_count": 35,
   "id": "a8c8e598-17cc-4880-83d3-692d8f0ba3eb",
   "metadata": {},
   "outputs": [
    {
     "name": "stderr",
     "output_type": "stream",
     "text": [
      "/home/rafael/Desktop/ucv/ML/repo/tarea2/env/lib/python3.12/site-packages/sklearn/linear_model/_logistic.py:465: ConvergenceWarning: lbfgs failed to converge (status=1):\n",
      "STOP: TOTAL NO. OF ITERATIONS REACHED LIMIT.\n",
      "\n",
      "Increase the number of iterations (max_iter) or scale the data as shown in:\n",
      "    https://scikit-learn.org/stable/modules/preprocessing.html\n",
      "Please also refer to the documentation for alternative solver options:\n",
      "    https://scikit-learn.org/stable/modules/linear_model.html#logistic-regression\n",
      "  n_iter_i = _check_optimize_result(\n",
      "/home/rafael/Desktop/ucv/ML/repo/tarea2/env/lib/python3.12/site-packages/sklearn/linear_model/_logistic.py:465: ConvergenceWarning: lbfgs failed to converge (status=1):\n",
      "STOP: TOTAL NO. OF ITERATIONS REACHED LIMIT.\n",
      "\n",
      "Increase the number of iterations (max_iter) or scale the data as shown in:\n",
      "    https://scikit-learn.org/stable/modules/preprocessing.html\n",
      "Please also refer to the documentation for alternative solver options:\n",
      "    https://scikit-learn.org/stable/modules/linear_model.html#logistic-regression\n",
      "  n_iter_i = _check_optimize_result(\n",
      "/home/rafael/Desktop/ucv/ML/repo/tarea2/env/lib/python3.12/site-packages/sklearn/linear_model/_logistic.py:465: ConvergenceWarning: lbfgs failed to converge (status=1):\n",
      "STOP: TOTAL NO. OF ITERATIONS REACHED LIMIT.\n",
      "\n",
      "Increase the number of iterations (max_iter) or scale the data as shown in:\n",
      "    https://scikit-learn.org/stable/modules/preprocessing.html\n",
      "Please also refer to the documentation for alternative solver options:\n",
      "    https://scikit-learn.org/stable/modules/linear_model.html#logistic-regression\n",
      "  n_iter_i = _check_optimize_result(\n"
     ]
    },
    {
     "ename": "KeyboardInterrupt",
     "evalue": "",
     "output_type": "error",
     "traceback": [
      "\u001b[0;31m---------------------------------------------------------------------------\u001b[0m",
      "\u001b[0;31mKeyboardInterrupt\u001b[0m                         Traceback (most recent call last)",
      "Cell \u001b[0;32mIn[35], line 11\u001b[0m\n\u001b[1;32m      9\u001b[0m \u001b[38;5;28;01mfor\u001b[39;00m C \u001b[38;5;129;01min\u001b[39;00m C_values:\n\u001b[1;32m     10\u001b[0m     model \u001b[38;5;241m=\u001b[39m LogisticRegression(solver\u001b[38;5;241m=\u001b[39m\u001b[38;5;124m'\u001b[39m\u001b[38;5;124mlbfgs\u001b[39m\u001b[38;5;124m'\u001b[39m, max_iter\u001b[38;5;241m=\u001b[39m\u001b[38;5;241m1500\u001b[39m, random_state\u001b[38;5;241m=\u001b[39mSEED, tol\u001b[38;5;241m=\u001b[39m\u001b[38;5;241m1e-4\u001b[39m, C\u001b[38;5;241m=\u001b[39mC, n_jobs\u001b[38;5;241m=\u001b[39mMAX_JOBS)\n\u001b[0;32m---> 11\u001b[0m     \u001b[43mmodel\u001b[49m\u001b[38;5;241;43m.\u001b[39;49m\u001b[43mfit\u001b[49m\u001b[43m(\u001b[49m\u001b[43mx_train\u001b[49m\u001b[43m,\u001b[49m\u001b[43m \u001b[49m\u001b[43my_train\u001b[49m\u001b[43m)\u001b[49m\n\u001b[1;32m     12\u001b[0m     y_pred \u001b[38;5;241m=\u001b[39m model\u001b[38;5;241m.\u001b[39mpredict(x_test)\n\u001b[1;32m     13\u001b[0m     acc \u001b[38;5;241m=\u001b[39m accuracy_score(y_test, y_pred)\n",
      "File \u001b[0;32m~/Desktop/ucv/ML/repo/tarea2/env/lib/python3.12/site-packages/sklearn/base.py:1389\u001b[0m, in \u001b[0;36m_fit_context.<locals>.decorator.<locals>.wrapper\u001b[0;34m(estimator, *args, **kwargs)\u001b[0m\n\u001b[1;32m   1382\u001b[0m     estimator\u001b[38;5;241m.\u001b[39m_validate_params()\n\u001b[1;32m   1384\u001b[0m \u001b[38;5;28;01mwith\u001b[39;00m config_context(\n\u001b[1;32m   1385\u001b[0m     skip_parameter_validation\u001b[38;5;241m=\u001b[39m(\n\u001b[1;32m   1386\u001b[0m         prefer_skip_nested_validation \u001b[38;5;129;01mor\u001b[39;00m global_skip_validation\n\u001b[1;32m   1387\u001b[0m     )\n\u001b[1;32m   1388\u001b[0m ):\n\u001b[0;32m-> 1389\u001b[0m     \u001b[38;5;28;01mreturn\u001b[39;00m \u001b[43mfit_method\u001b[49m\u001b[43m(\u001b[49m\u001b[43mestimator\u001b[49m\u001b[43m,\u001b[49m\u001b[43m \u001b[49m\u001b[38;5;241;43m*\u001b[39;49m\u001b[43margs\u001b[49m\u001b[43m,\u001b[49m\u001b[43m \u001b[49m\u001b[38;5;241;43m*\u001b[39;49m\u001b[38;5;241;43m*\u001b[39;49m\u001b[43mkwargs\u001b[49m\u001b[43m)\u001b[49m\n",
      "File \u001b[0;32m~/Desktop/ucv/ML/repo/tarea2/env/lib/python3.12/site-packages/sklearn/linear_model/_logistic.py:1350\u001b[0m, in \u001b[0;36mLogisticRegression.fit\u001b[0;34m(self, X, y, sample_weight)\u001b[0m\n\u001b[1;32m   1347\u001b[0m \u001b[38;5;28;01melse\u001b[39;00m:\n\u001b[1;32m   1348\u001b[0m     n_threads \u001b[38;5;241m=\u001b[39m \u001b[38;5;241m1\u001b[39m\n\u001b[0;32m-> 1350\u001b[0m fold_coefs_ \u001b[38;5;241m=\u001b[39m \u001b[43mParallel\u001b[49m\u001b[43m(\u001b[49m\u001b[43mn_jobs\u001b[49m\u001b[38;5;241;43m=\u001b[39;49m\u001b[38;5;28;43mself\u001b[39;49m\u001b[38;5;241;43m.\u001b[39;49m\u001b[43mn_jobs\u001b[49m\u001b[43m,\u001b[49m\u001b[43m \u001b[49m\u001b[43mverbose\u001b[49m\u001b[38;5;241;43m=\u001b[39;49m\u001b[38;5;28;43mself\u001b[39;49m\u001b[38;5;241;43m.\u001b[39;49m\u001b[43mverbose\u001b[49m\u001b[43m,\u001b[49m\u001b[43m \u001b[49m\u001b[43mprefer\u001b[49m\u001b[38;5;241;43m=\u001b[39;49m\u001b[43mprefer\u001b[49m\u001b[43m)\u001b[49m\u001b[43m(\u001b[49m\n\u001b[1;32m   1351\u001b[0m \u001b[43m    \u001b[49m\u001b[43mpath_func\u001b[49m\u001b[43m(\u001b[49m\n\u001b[1;32m   1352\u001b[0m \u001b[43m        \u001b[49m\u001b[43mX\u001b[49m\u001b[43m,\u001b[49m\n\u001b[1;32m   1353\u001b[0m \u001b[43m        \u001b[49m\u001b[43my\u001b[49m\u001b[43m,\u001b[49m\n\u001b[1;32m   1354\u001b[0m \u001b[43m        \u001b[49m\u001b[43mpos_class\u001b[49m\u001b[38;5;241;43m=\u001b[39;49m\u001b[43mclass_\u001b[49m\u001b[43m,\u001b[49m\n\u001b[1;32m   1355\u001b[0m \u001b[43m        \u001b[49m\u001b[43mCs\u001b[49m\u001b[38;5;241;43m=\u001b[39;49m\u001b[43m[\u001b[49m\u001b[43mC_\u001b[49m\u001b[43m]\u001b[49m\u001b[43m,\u001b[49m\n\u001b[1;32m   1356\u001b[0m \u001b[43m        \u001b[49m\u001b[43ml1_ratio\u001b[49m\u001b[38;5;241;43m=\u001b[39;49m\u001b[38;5;28;43mself\u001b[39;49m\u001b[38;5;241;43m.\u001b[39;49m\u001b[43ml1_ratio\u001b[49m\u001b[43m,\u001b[49m\n\u001b[1;32m   1357\u001b[0m \u001b[43m        \u001b[49m\u001b[43mfit_intercept\u001b[49m\u001b[38;5;241;43m=\u001b[39;49m\u001b[38;5;28;43mself\u001b[39;49m\u001b[38;5;241;43m.\u001b[39;49m\u001b[43mfit_intercept\u001b[49m\u001b[43m,\u001b[49m\n\u001b[1;32m   1358\u001b[0m \u001b[43m        \u001b[49m\u001b[43mtol\u001b[49m\u001b[38;5;241;43m=\u001b[39;49m\u001b[38;5;28;43mself\u001b[39;49m\u001b[38;5;241;43m.\u001b[39;49m\u001b[43mtol\u001b[49m\u001b[43m,\u001b[49m\n\u001b[1;32m   1359\u001b[0m \u001b[43m        \u001b[49m\u001b[43mverbose\u001b[49m\u001b[38;5;241;43m=\u001b[39;49m\u001b[38;5;28;43mself\u001b[39;49m\u001b[38;5;241;43m.\u001b[39;49m\u001b[43mverbose\u001b[49m\u001b[43m,\u001b[49m\n\u001b[1;32m   1360\u001b[0m \u001b[43m        \u001b[49m\u001b[43msolver\u001b[49m\u001b[38;5;241;43m=\u001b[39;49m\u001b[43msolver\u001b[49m\u001b[43m,\u001b[49m\n\u001b[1;32m   1361\u001b[0m \u001b[43m        \u001b[49m\u001b[43mmulti_class\u001b[49m\u001b[38;5;241;43m=\u001b[39;49m\u001b[43mmulti_class\u001b[49m\u001b[43m,\u001b[49m\n\u001b[1;32m   1362\u001b[0m \u001b[43m        \u001b[49m\u001b[43mmax_iter\u001b[49m\u001b[38;5;241;43m=\u001b[39;49m\u001b[38;5;28;43mself\u001b[39;49m\u001b[38;5;241;43m.\u001b[39;49m\u001b[43mmax_iter\u001b[49m\u001b[43m,\u001b[49m\n\u001b[1;32m   1363\u001b[0m \u001b[43m        \u001b[49m\u001b[43mclass_weight\u001b[49m\u001b[38;5;241;43m=\u001b[39;49m\u001b[38;5;28;43mself\u001b[39;49m\u001b[38;5;241;43m.\u001b[39;49m\u001b[43mclass_weight\u001b[49m\u001b[43m,\u001b[49m\n\u001b[1;32m   1364\u001b[0m \u001b[43m        \u001b[49m\u001b[43mcheck_input\u001b[49m\u001b[38;5;241;43m=\u001b[39;49m\u001b[38;5;28;43;01mFalse\u001b[39;49;00m\u001b[43m,\u001b[49m\n\u001b[1;32m   1365\u001b[0m \u001b[43m        \u001b[49m\u001b[43mrandom_state\u001b[49m\u001b[38;5;241;43m=\u001b[39;49m\u001b[38;5;28;43mself\u001b[39;49m\u001b[38;5;241;43m.\u001b[39;49m\u001b[43mrandom_state\u001b[49m\u001b[43m,\u001b[49m\n\u001b[1;32m   1366\u001b[0m \u001b[43m        \u001b[49m\u001b[43mcoef\u001b[49m\u001b[38;5;241;43m=\u001b[39;49m\u001b[43mwarm_start_coef_\u001b[49m\u001b[43m,\u001b[49m\n\u001b[1;32m   1367\u001b[0m \u001b[43m        \u001b[49m\u001b[43mpenalty\u001b[49m\u001b[38;5;241;43m=\u001b[39;49m\u001b[43mpenalty\u001b[49m\u001b[43m,\u001b[49m\n\u001b[1;32m   1368\u001b[0m \u001b[43m        \u001b[49m\u001b[43mmax_squared_sum\u001b[49m\u001b[38;5;241;43m=\u001b[39;49m\u001b[43mmax_squared_sum\u001b[49m\u001b[43m,\u001b[49m\n\u001b[1;32m   1369\u001b[0m \u001b[43m        \u001b[49m\u001b[43msample_weight\u001b[49m\u001b[38;5;241;43m=\u001b[39;49m\u001b[43msample_weight\u001b[49m\u001b[43m,\u001b[49m\n\u001b[1;32m   1370\u001b[0m \u001b[43m        \u001b[49m\u001b[43mn_threads\u001b[49m\u001b[38;5;241;43m=\u001b[39;49m\u001b[43mn_threads\u001b[49m\u001b[43m,\u001b[49m\n\u001b[1;32m   1371\u001b[0m \u001b[43m    \u001b[49m\u001b[43m)\u001b[49m\n\u001b[1;32m   1372\u001b[0m \u001b[43m    \u001b[49m\u001b[38;5;28;43;01mfor\u001b[39;49;00m\u001b[43m \u001b[49m\u001b[43mclass_\u001b[49m\u001b[43m,\u001b[49m\u001b[43m \u001b[49m\u001b[43mwarm_start_coef_\u001b[49m\u001b[43m \u001b[49m\u001b[38;5;129;43;01min\u001b[39;49;00m\u001b[43m \u001b[49m\u001b[38;5;28;43mzip\u001b[39;49m\u001b[43m(\u001b[49m\u001b[43mclasses_\u001b[49m\u001b[43m,\u001b[49m\u001b[43m \u001b[49m\u001b[43mwarm_start_coef\u001b[49m\u001b[43m)\u001b[49m\n\u001b[1;32m   1373\u001b[0m \u001b[43m\u001b[49m\u001b[43m)\u001b[49m\n\u001b[1;32m   1375\u001b[0m fold_coefs_, _, n_iter_ \u001b[38;5;241m=\u001b[39m \u001b[38;5;28mzip\u001b[39m(\u001b[38;5;241m*\u001b[39mfold_coefs_)\n\u001b[1;32m   1376\u001b[0m \u001b[38;5;28mself\u001b[39m\u001b[38;5;241m.\u001b[39mn_iter_ \u001b[38;5;241m=\u001b[39m np\u001b[38;5;241m.\u001b[39masarray(n_iter_, dtype\u001b[38;5;241m=\u001b[39mnp\u001b[38;5;241m.\u001b[39mint32)[:, \u001b[38;5;241m0\u001b[39m]\n",
      "File \u001b[0;32m~/Desktop/ucv/ML/repo/tarea2/env/lib/python3.12/site-packages/sklearn/utils/parallel.py:77\u001b[0m, in \u001b[0;36mParallel.__call__\u001b[0;34m(self, iterable)\u001b[0m\n\u001b[1;32m     72\u001b[0m config \u001b[38;5;241m=\u001b[39m get_config()\n\u001b[1;32m     73\u001b[0m iterable_with_config \u001b[38;5;241m=\u001b[39m (\n\u001b[1;32m     74\u001b[0m     (_with_config(delayed_func, config), args, kwargs)\n\u001b[1;32m     75\u001b[0m     \u001b[38;5;28;01mfor\u001b[39;00m delayed_func, args, kwargs \u001b[38;5;129;01min\u001b[39;00m iterable\n\u001b[1;32m     76\u001b[0m )\n\u001b[0;32m---> 77\u001b[0m \u001b[38;5;28;01mreturn\u001b[39;00m \u001b[38;5;28;43msuper\u001b[39;49m\u001b[43m(\u001b[49m\u001b[43m)\u001b[49m\u001b[38;5;241;43m.\u001b[39;49m\u001b[38;5;21;43m__call__\u001b[39;49m\u001b[43m(\u001b[49m\u001b[43miterable_with_config\u001b[49m\u001b[43m)\u001b[49m\n",
      "File \u001b[0;32m~/Desktop/ucv/ML/repo/tarea2/env/lib/python3.12/site-packages/joblib/parallel.py:2007\u001b[0m, in \u001b[0;36mParallel.__call__\u001b[0;34m(self, iterable)\u001b[0m\n\u001b[1;32m   2001\u001b[0m \u001b[38;5;66;03m# The first item from the output is blank, but it makes the interpreter\u001b[39;00m\n\u001b[1;32m   2002\u001b[0m \u001b[38;5;66;03m# progress until it enters the Try/Except block of the generator and\u001b[39;00m\n\u001b[1;32m   2003\u001b[0m \u001b[38;5;66;03m# reaches the first `yield` statement. This starts the asynchronous\u001b[39;00m\n\u001b[1;32m   2004\u001b[0m \u001b[38;5;66;03m# dispatch of the tasks to the workers.\u001b[39;00m\n\u001b[1;32m   2005\u001b[0m \u001b[38;5;28mnext\u001b[39m(output)\n\u001b[0;32m-> 2007\u001b[0m \u001b[38;5;28;01mreturn\u001b[39;00m output \u001b[38;5;28;01mif\u001b[39;00m \u001b[38;5;28mself\u001b[39m\u001b[38;5;241m.\u001b[39mreturn_generator \u001b[38;5;28;01melse\u001b[39;00m \u001b[38;5;28;43mlist\u001b[39;49m\u001b[43m(\u001b[49m\u001b[43moutput\u001b[49m\u001b[43m)\u001b[49m\n",
      "File \u001b[0;32m~/Desktop/ucv/ML/repo/tarea2/env/lib/python3.12/site-packages/joblib/parallel.py:1650\u001b[0m, in \u001b[0;36mParallel._get_outputs\u001b[0;34m(self, iterator, pre_dispatch)\u001b[0m\n\u001b[1;32m   1647\u001b[0m     \u001b[38;5;28;01myield\u001b[39;00m\n\u001b[1;32m   1649\u001b[0m     \u001b[38;5;28;01mwith\u001b[39;00m \u001b[38;5;28mself\u001b[39m\u001b[38;5;241m.\u001b[39m_backend\u001b[38;5;241m.\u001b[39mretrieval_context():\n\u001b[0;32m-> 1650\u001b[0m         \u001b[38;5;28;01myield from\u001b[39;00m \u001b[38;5;28mself\u001b[39m\u001b[38;5;241m.\u001b[39m_retrieve()\n\u001b[1;32m   1652\u001b[0m \u001b[38;5;28;01mexcept\u001b[39;00m \u001b[38;5;167;01mGeneratorExit\u001b[39;00m:\n\u001b[1;32m   1653\u001b[0m     \u001b[38;5;66;03m# The generator has been garbage collected before being fully\u001b[39;00m\n\u001b[1;32m   1654\u001b[0m     \u001b[38;5;66;03m# consumed. This aborts the remaining tasks if possible and warn\u001b[39;00m\n\u001b[1;32m   1655\u001b[0m     \u001b[38;5;66;03m# the user if necessary.\u001b[39;00m\n\u001b[1;32m   1656\u001b[0m     \u001b[38;5;28mself\u001b[39m\u001b[38;5;241m.\u001b[39m_exception \u001b[38;5;241m=\u001b[39m \u001b[38;5;28;01mTrue\u001b[39;00m\n",
      "File \u001b[0;32m~/Desktop/ucv/ML/repo/tarea2/env/lib/python3.12/site-packages/joblib/parallel.py:1762\u001b[0m, in \u001b[0;36mParallel._retrieve\u001b[0;34m(self)\u001b[0m\n\u001b[1;32m   1757\u001b[0m \u001b[38;5;66;03m# If the next job is not ready for retrieval yet, we just wait for\u001b[39;00m\n\u001b[1;32m   1758\u001b[0m \u001b[38;5;66;03m# async callbacks to progress.\u001b[39;00m\n\u001b[1;32m   1759\u001b[0m \u001b[38;5;28;01mif\u001b[39;00m ((\u001b[38;5;28mlen\u001b[39m(\u001b[38;5;28mself\u001b[39m\u001b[38;5;241m.\u001b[39m_jobs) \u001b[38;5;241m==\u001b[39m \u001b[38;5;241m0\u001b[39m) \u001b[38;5;129;01mor\u001b[39;00m\n\u001b[1;32m   1760\u001b[0m     (\u001b[38;5;28mself\u001b[39m\u001b[38;5;241m.\u001b[39m_jobs[\u001b[38;5;241m0\u001b[39m]\u001b[38;5;241m.\u001b[39mget_status(\n\u001b[1;32m   1761\u001b[0m         timeout\u001b[38;5;241m=\u001b[39m\u001b[38;5;28mself\u001b[39m\u001b[38;5;241m.\u001b[39mtimeout) \u001b[38;5;241m==\u001b[39m TASK_PENDING)):\n\u001b[0;32m-> 1762\u001b[0m     \u001b[43mtime\u001b[49m\u001b[38;5;241;43m.\u001b[39;49m\u001b[43msleep\u001b[49m\u001b[43m(\u001b[49m\u001b[38;5;241;43m0.01\u001b[39;49m\u001b[43m)\u001b[49m\n\u001b[1;32m   1763\u001b[0m     \u001b[38;5;28;01mcontinue\u001b[39;00m\n\u001b[1;32m   1765\u001b[0m \u001b[38;5;66;03m# We need to be careful: the job list can be filling up as\u001b[39;00m\n\u001b[1;32m   1766\u001b[0m \u001b[38;5;66;03m# we empty it and Python list are not thread-safe by\u001b[39;00m\n\u001b[1;32m   1767\u001b[0m \u001b[38;5;66;03m# default hence the use of the lock\u001b[39;00m\n",
      "\u001b[0;31mKeyboardInterrupt\u001b[0m: "
     ]
    }
   ],
   "source": [
    "from sklearn.linear_model import LogisticRegression\n",
    "from sklearn.metrics import accuracy_score\n",
    "\n",
    "C_values = np.logspace(-10, 2, 10)\n",
    "accuracies = []\n",
    "\n",
    "# Esto toma un rato, ya que entrenamos y evaluamos el modelo multiples veces\n",
    "# entrenar/evaluar al modelo para cada C\n",
    "for C in C_values:\n",
    "    model = LogisticRegression(solver='lbfgs', max_iter=1500, random_state=SEED, tol=1e-4, C=C, n_jobs=MAX_JOBS)\n",
    "    model.fit(x_train, y_train)\n",
    "    y_pred = model.predict(x_test)\n",
    "    acc = accuracy_score(y_test, y_pred)\n",
    "    accuracies.append(acc)\n",
    "\n",
    "plt.figure(figsize=(8, 5))\n",
    "plt.plot(C_values, accuracies, marker='o', linestyle='-')\n",
    "plt.xscale('log')  # mejora la visualizacion\n",
    "plt.xlabel(\"C (Inverse Regularization Strength)\")\n",
    "plt.ylabel(\"Accuracy\")\n",
    "plt.title(\"Impact of C on Logistic Regression Performance\")\n",
    "plt.grid(True)\n",
    "plt.show()"
   ]
  },
  {
   "cell_type": "markdown",
   "id": "f8a707e1-17d2-4329-8ff3-aa9c67155fff",
   "metadata": {},
   "source": [
    "Ahora evaluaremos diferentes valores para la tolerancia. Le daremos un valor de 5000 a la maxima cantidad de iteraciones para poder llegar a converger segun el valor de la tolerancia."
   ]
  },
  {
   "cell_type": "code",
   "execution_count": null,
   "id": "4adcaeeb-b845-4a6d-97fd-22fbaad4e8ab",
   "metadata": {},
   "outputs": [],
   "source": [
    "import matplotlib.pyplot as plt\n",
    "import numpy as np\n",
    "from sklearn.linear_model import LogisticRegression\n",
    "from sklearn.metrics import accuracy_score\n",
    "\n",
    "# probamos distintos valores para la tolerancia\n",
    "tol_values = [1e-5, 1e-4, 1e-3, 1e-2, 1e-1]\n",
    "accuracies = []\n",
    "\n",
    "for tol in tol_values:\n",
    "    model = LogisticRegression(n_jobs=MAX_JOBS, solver='lbfgs', max_iter=1500, random_state=SEED, tol=tol, C=0.001)\n",
    "    model.fit(x_train, y_train)\n",
    "    y_pred = model.predict(x_test)\n",
    "    acc = accuracy_score(y_test, y_pred)\n",
    "    accuracies.append(acc)\n",
    "\n",
    "plt.figure(figsize=(8, 5))\n",
    "plt.plot(tol_values, accuracies, marker='o', linestyle='-', color='b')\n",
    "plt.xscale('log') \n",
    "plt.xlabel(\"Tolerance (tol)\")\n",
    "plt.ylabel(\"Accuracy\")\n",
    "plt.title(\"Effect of Tolerance on Model Accuracy\")\n",
    "plt.grid(True)\n",
    "plt.show()\n"
   ]
  },
  {
   "cell_type": "code",
   "execution_count": 21,
   "id": "c724e942-2e4b-4e2e-89e6-a0f987c1680c",
   "metadata": {},
   "outputs": [],
   "source": [
    "(x_train, y_train), (x_test, y_test) = obtain_data()"
   ]
  },
  {
   "cell_type": "code",
   "execution_count": null,
   "id": "8711875e-8cc2-4935-8e4f-861d9216013d",
   "metadata": {},
   "outputs": [],
   "source": [
    "from sklearn.linear_model import LogisticRegression\n",
    "\n",
    "# aqui entrenamos y guardamos el modelo final en esta variable que se usara para comparar luego\n",
    "numbers_logistic_regression = LogisticRegression(n_jobs=-1, solver='lbfgs',max_iter=1500, random_state=SEED, tol=1e-5, C=1e-6)\n",
    "numbers_logistic_regression.fit(x_train, y_train)"
   ]
  },
  {
   "cell_type": "markdown",
   "id": "8d182cda-586f-46d1-bc6f-8b7af6e2bf19",
   "metadata": {
    "jp-MarkdownHeadingCollapsed": true
   },
   "source": [
    "### K-neighbours"
   ]
  },
  {
   "cell_type": "markdown",
   "id": "aeb265b5-30ae-4123-be6a-04b15ab521b2",
   "metadata": {},
   "source": [
    "Ahora evaluaremos el modelo de K-neighbours. Para encontrar los parametros obtimos usaremos GridSearchCV"
   ]
  },
  {
   "cell_type": "code",
   "execution_count": 23,
   "id": "51ae5fba-a674-406b-9a5f-47fcd1ae5f4a",
   "metadata": {},
   "outputs": [],
   "source": [
    "(x_train, y_train), (x_test, y_test) = obtain_data()"
   ]
  },
  {
   "cell_type": "code",
   "execution_count": 24,
   "id": "44e12675-8d50-423d-a2e8-792aed3b58a9",
   "metadata": {},
   "outputs": [
    {
     "name": "stdout",
     "output_type": "stream",
     "text": [
      "best params: {'metric': 'euclidean', 'n_neighbors': 3, 'weights': 'distance'}\n",
      "best accuracy: 0.9601666666666666\n"
     ]
    }
   ],
   "source": [
    "from sklearn.model_selection import GridSearchCV\n",
    "from sklearn.neighbors import KNeighborsClassifier\n",
    "\n",
    "# parametros a probar\n",
    "param_grid = {\n",
    "    'n_neighbors': [3, 5, 7, 9, 11, 15],\n",
    "    'weights': ['uniform', 'distance'],\n",
    "    'metric': ['euclidean', 'manhattan', 'minkowski']\n",
    "}\n",
    "\n",
    "knn = KNeighborsClassifier()\n",
    "grid_search = GridSearchCV(knn, param_grid, scoring='accuracy')\n",
    "grid_search.fit(x_train, y_train)\n",
    "\n",
    "print(\"best params:\", grid_search.best_params_)\n",
    "print(\"best accuracy:\", grid_search.best_score_)"
   ]
  },
  {
   "cell_type": "code",
   "execution_count": 25,
   "id": "e011fc90-ce28-4ad8-8123-7ff0ad39cfa4",
   "metadata": {},
   "outputs": [],
   "source": [
    "# guardamos el modelo entrenado y continuamos\n",
    "numbers_k_model = KNeighborsClassifier(metric='euclidean', n_neighbors=6, weights='distance', n_jobs=MAX_JOBS)\n",
    "numbers_k_model.fit(x_train, y_train)\n",
    "\n",
    "y_pred = numbers_k_model.predict(x_test)"
   ]
  },
  {
   "cell_type": "markdown",
   "id": "8be4d4b2-197f-4034-8f82-2ee60cc14967",
   "metadata": {
    "jp-MarkdownHeadingCollapsed": true
   },
   "source": [
    "### SVM"
   ]
  },
  {
   "cell_type": "markdown",
   "id": "dbc02c0c-a2d3-4a19-a119-cdfd651b373d",
   "metadata": {},
   "source": [
    "Ahora evaluaremos SVM"
   ]
  },
  {
   "cell_type": "code",
   "execution_count": 17,
   "id": "9f4c8d44-2889-4c9f-82dc-1865873ae0d1",
   "metadata": {},
   "outputs": [],
   "source": [
    "(x_train, y_train), (x_test, y_test) = obtain_data(1) # con mas de un 30% de la data toma demasiado tiempo para entrenar"
   ]
  },
  {
   "cell_type": "code",
   "execution_count": 18,
   "id": "3972018c-b0e8-41ae-9ed8-3dda54702554",
   "metadata": {},
   "outputs": [
    {
     "name": "stdout",
     "output_type": "stream",
     "text": [
      "Fitting 5 folds for each of 24 candidates, totalling 120 fits\n",
      "Best Parameters: {'C': 1, 'degree': 2, 'gamma': 'scale', 'kernel': 'rbf'}\n",
      "Best Accuracy: 0.8833333333333334\n"
     ]
    }
   ],
   "source": [
    "from sklearn.svm import SVC\n",
    "from sklearn.model_selection import GridSearchCV\n",
    "\n",
    "param_grid = {\n",
    "    'C': [1, 10],  \n",
    "    'kernel': ['linear', 'rbf'],  \n",
    "    'gamma': ['scale', 'auto'],  \n",
    "    'degree': [2, 3, 4]\n",
    "}\n",
    "\n",
    "svm = SVC(random_state=SEED)\n",
    "\n",
    "grid_search = GridSearchCV(svm, param_grid, scoring='accuracy', verbose=1, n_jobs=MAX_JOBS)\n",
    "grid_search.fit(x_train, y_train)\n",
    "\n",
    "print(\"Best Parameters:\", grid_search.best_params_)\n",
    "print(\"Best Accuracy:\", grid_search.best_score_)"
   ]
  },
  {
   "cell_type": "markdown",
   "id": "8a6c9fac-51bc-4792-b4e9-84482c4ed187",
   "metadata": {},
   "source": [
    "Best Parameters: {'C': 10, 'degree': 2, 'gamma': 'scale', 'kernel': 'rbf'}\n",
    "\n",
    "Best Accuracy: 0.9748750000000002"
   ]
  },
  {
   "cell_type": "code",
   "execution_count": 19,
   "id": "0e913b02-de71-470f-80c3-46ac07955865",
   "metadata": {},
   "outputs": [
    {
     "data": {
      "text/html": [
       "<style>#sk-container-id-1 {\n",
       "  /* Definition of color scheme common for light and dark mode */\n",
       "  --sklearn-color-text: #000;\n",
       "  --sklearn-color-text-muted: #666;\n",
       "  --sklearn-color-line: gray;\n",
       "  /* Definition of color scheme for unfitted estimators */\n",
       "  --sklearn-color-unfitted-level-0: #fff5e6;\n",
       "  --sklearn-color-unfitted-level-1: #f6e4d2;\n",
       "  --sklearn-color-unfitted-level-2: #ffe0b3;\n",
       "  --sklearn-color-unfitted-level-3: chocolate;\n",
       "  /* Definition of color scheme for fitted estimators */\n",
       "  --sklearn-color-fitted-level-0: #f0f8ff;\n",
       "  --sklearn-color-fitted-level-1: #d4ebff;\n",
       "  --sklearn-color-fitted-level-2: #b3dbfd;\n",
       "  --sklearn-color-fitted-level-3: cornflowerblue;\n",
       "\n",
       "  /* Specific color for light theme */\n",
       "  --sklearn-color-text-on-default-background: var(--sg-text-color, var(--theme-code-foreground, var(--jp-content-font-color1, black)));\n",
       "  --sklearn-color-background: var(--sg-background-color, var(--theme-background, var(--jp-layout-color0, white)));\n",
       "  --sklearn-color-border-box: var(--sg-text-color, var(--theme-code-foreground, var(--jp-content-font-color1, black)));\n",
       "  --sklearn-color-icon: #696969;\n",
       "\n",
       "  @media (prefers-color-scheme: dark) {\n",
       "    /* Redefinition of color scheme for dark theme */\n",
       "    --sklearn-color-text-on-default-background: var(--sg-text-color, var(--theme-code-foreground, var(--jp-content-font-color1, white)));\n",
       "    --sklearn-color-background: var(--sg-background-color, var(--theme-background, var(--jp-layout-color0, #111)));\n",
       "    --sklearn-color-border-box: var(--sg-text-color, var(--theme-code-foreground, var(--jp-content-font-color1, white)));\n",
       "    --sklearn-color-icon: #878787;\n",
       "  }\n",
       "}\n",
       "\n",
       "#sk-container-id-1 {\n",
       "  color: var(--sklearn-color-text);\n",
       "}\n",
       "\n",
       "#sk-container-id-1 pre {\n",
       "  padding: 0;\n",
       "}\n",
       "\n",
       "#sk-container-id-1 input.sk-hidden--visually {\n",
       "  border: 0;\n",
       "  clip: rect(1px 1px 1px 1px);\n",
       "  clip: rect(1px, 1px, 1px, 1px);\n",
       "  height: 1px;\n",
       "  margin: -1px;\n",
       "  overflow: hidden;\n",
       "  padding: 0;\n",
       "  position: absolute;\n",
       "  width: 1px;\n",
       "}\n",
       "\n",
       "#sk-container-id-1 div.sk-dashed-wrapped {\n",
       "  border: 1px dashed var(--sklearn-color-line);\n",
       "  margin: 0 0.4em 0.5em 0.4em;\n",
       "  box-sizing: border-box;\n",
       "  padding-bottom: 0.4em;\n",
       "  background-color: var(--sklearn-color-background);\n",
       "}\n",
       "\n",
       "#sk-container-id-1 div.sk-container {\n",
       "  /* jupyter's `normalize.less` sets `[hidden] { display: none; }`\n",
       "     but bootstrap.min.css set `[hidden] { display: none !important; }`\n",
       "     so we also need the `!important` here to be able to override the\n",
       "     default hidden behavior on the sphinx rendered scikit-learn.org.\n",
       "     See: https://github.com/scikit-learn/scikit-learn/issues/21755 */\n",
       "  display: inline-block !important;\n",
       "  position: relative;\n",
       "}\n",
       "\n",
       "#sk-container-id-1 div.sk-text-repr-fallback {\n",
       "  display: none;\n",
       "}\n",
       "\n",
       "div.sk-parallel-item,\n",
       "div.sk-serial,\n",
       "div.sk-item {\n",
       "  /* draw centered vertical line to link estimators */\n",
       "  background-image: linear-gradient(var(--sklearn-color-text-on-default-background), var(--sklearn-color-text-on-default-background));\n",
       "  background-size: 2px 100%;\n",
       "  background-repeat: no-repeat;\n",
       "  background-position: center center;\n",
       "}\n",
       "\n",
       "/* Parallel-specific style estimator block */\n",
       "\n",
       "#sk-container-id-1 div.sk-parallel-item::after {\n",
       "  content: \"\";\n",
       "  width: 100%;\n",
       "  border-bottom: 2px solid var(--sklearn-color-text-on-default-background);\n",
       "  flex-grow: 1;\n",
       "}\n",
       "\n",
       "#sk-container-id-1 div.sk-parallel {\n",
       "  display: flex;\n",
       "  align-items: stretch;\n",
       "  justify-content: center;\n",
       "  background-color: var(--sklearn-color-background);\n",
       "  position: relative;\n",
       "}\n",
       "\n",
       "#sk-container-id-1 div.sk-parallel-item {\n",
       "  display: flex;\n",
       "  flex-direction: column;\n",
       "}\n",
       "\n",
       "#sk-container-id-1 div.sk-parallel-item:first-child::after {\n",
       "  align-self: flex-end;\n",
       "  width: 50%;\n",
       "}\n",
       "\n",
       "#sk-container-id-1 div.sk-parallel-item:last-child::after {\n",
       "  align-self: flex-start;\n",
       "  width: 50%;\n",
       "}\n",
       "\n",
       "#sk-container-id-1 div.sk-parallel-item:only-child::after {\n",
       "  width: 0;\n",
       "}\n",
       "\n",
       "/* Serial-specific style estimator block */\n",
       "\n",
       "#sk-container-id-1 div.sk-serial {\n",
       "  display: flex;\n",
       "  flex-direction: column;\n",
       "  align-items: center;\n",
       "  background-color: var(--sklearn-color-background);\n",
       "  padding-right: 1em;\n",
       "  padding-left: 1em;\n",
       "}\n",
       "\n",
       "\n",
       "/* Toggleable style: style used for estimator/Pipeline/ColumnTransformer box that is\n",
       "clickable and can be expanded/collapsed.\n",
       "- Pipeline and ColumnTransformer use this feature and define the default style\n",
       "- Estimators will overwrite some part of the style using the `sk-estimator` class\n",
       "*/\n",
       "\n",
       "/* Pipeline and ColumnTransformer style (default) */\n",
       "\n",
       "#sk-container-id-1 div.sk-toggleable {\n",
       "  /* Default theme specific background. It is overwritten whether we have a\n",
       "  specific estimator or a Pipeline/ColumnTransformer */\n",
       "  background-color: var(--sklearn-color-background);\n",
       "}\n",
       "\n",
       "/* Toggleable label */\n",
       "#sk-container-id-1 label.sk-toggleable__label {\n",
       "  cursor: pointer;\n",
       "  display: flex;\n",
       "  width: 100%;\n",
       "  margin-bottom: 0;\n",
       "  padding: 0.5em;\n",
       "  box-sizing: border-box;\n",
       "  text-align: center;\n",
       "  align-items: start;\n",
       "  justify-content: space-between;\n",
       "  gap: 0.5em;\n",
       "}\n",
       "\n",
       "#sk-container-id-1 label.sk-toggleable__label .caption {\n",
       "  font-size: 0.6rem;\n",
       "  font-weight: lighter;\n",
       "  color: var(--sklearn-color-text-muted);\n",
       "}\n",
       "\n",
       "#sk-container-id-1 label.sk-toggleable__label-arrow:before {\n",
       "  /* Arrow on the left of the label */\n",
       "  content: \"▸\";\n",
       "  float: left;\n",
       "  margin-right: 0.25em;\n",
       "  color: var(--sklearn-color-icon);\n",
       "}\n",
       "\n",
       "#sk-container-id-1 label.sk-toggleable__label-arrow:hover:before {\n",
       "  color: var(--sklearn-color-text);\n",
       "}\n",
       "\n",
       "/* Toggleable content - dropdown */\n",
       "\n",
       "#sk-container-id-1 div.sk-toggleable__content {\n",
       "  max-height: 0;\n",
       "  max-width: 0;\n",
       "  overflow: hidden;\n",
       "  text-align: left;\n",
       "  /* unfitted */\n",
       "  background-color: var(--sklearn-color-unfitted-level-0);\n",
       "}\n",
       "\n",
       "#sk-container-id-1 div.sk-toggleable__content.fitted {\n",
       "  /* fitted */\n",
       "  background-color: var(--sklearn-color-fitted-level-0);\n",
       "}\n",
       "\n",
       "#sk-container-id-1 div.sk-toggleable__content pre {\n",
       "  margin: 0.2em;\n",
       "  border-radius: 0.25em;\n",
       "  color: var(--sklearn-color-text);\n",
       "  /* unfitted */\n",
       "  background-color: var(--sklearn-color-unfitted-level-0);\n",
       "}\n",
       "\n",
       "#sk-container-id-1 div.sk-toggleable__content.fitted pre {\n",
       "  /* unfitted */\n",
       "  background-color: var(--sklearn-color-fitted-level-0);\n",
       "}\n",
       "\n",
       "#sk-container-id-1 input.sk-toggleable__control:checked~div.sk-toggleable__content {\n",
       "  /* Expand drop-down */\n",
       "  max-height: 200px;\n",
       "  max-width: 100%;\n",
       "  overflow: auto;\n",
       "}\n",
       "\n",
       "#sk-container-id-1 input.sk-toggleable__control:checked~label.sk-toggleable__label-arrow:before {\n",
       "  content: \"▾\";\n",
       "}\n",
       "\n",
       "/* Pipeline/ColumnTransformer-specific style */\n",
       "\n",
       "#sk-container-id-1 div.sk-label input.sk-toggleable__control:checked~label.sk-toggleable__label {\n",
       "  color: var(--sklearn-color-text);\n",
       "  background-color: var(--sklearn-color-unfitted-level-2);\n",
       "}\n",
       "\n",
       "#sk-container-id-1 div.sk-label.fitted input.sk-toggleable__control:checked~label.sk-toggleable__label {\n",
       "  background-color: var(--sklearn-color-fitted-level-2);\n",
       "}\n",
       "\n",
       "/* Estimator-specific style */\n",
       "\n",
       "/* Colorize estimator box */\n",
       "#sk-container-id-1 div.sk-estimator input.sk-toggleable__control:checked~label.sk-toggleable__label {\n",
       "  /* unfitted */\n",
       "  background-color: var(--sklearn-color-unfitted-level-2);\n",
       "}\n",
       "\n",
       "#sk-container-id-1 div.sk-estimator.fitted input.sk-toggleable__control:checked~label.sk-toggleable__label {\n",
       "  /* fitted */\n",
       "  background-color: var(--sklearn-color-fitted-level-2);\n",
       "}\n",
       "\n",
       "#sk-container-id-1 div.sk-label label.sk-toggleable__label,\n",
       "#sk-container-id-1 div.sk-label label {\n",
       "  /* The background is the default theme color */\n",
       "  color: var(--sklearn-color-text-on-default-background);\n",
       "}\n",
       "\n",
       "/* On hover, darken the color of the background */\n",
       "#sk-container-id-1 div.sk-label:hover label.sk-toggleable__label {\n",
       "  color: var(--sklearn-color-text);\n",
       "  background-color: var(--sklearn-color-unfitted-level-2);\n",
       "}\n",
       "\n",
       "/* Label box, darken color on hover, fitted */\n",
       "#sk-container-id-1 div.sk-label.fitted:hover label.sk-toggleable__label.fitted {\n",
       "  color: var(--sklearn-color-text);\n",
       "  background-color: var(--sklearn-color-fitted-level-2);\n",
       "}\n",
       "\n",
       "/* Estimator label */\n",
       "\n",
       "#sk-container-id-1 div.sk-label label {\n",
       "  font-family: monospace;\n",
       "  font-weight: bold;\n",
       "  display: inline-block;\n",
       "  line-height: 1.2em;\n",
       "}\n",
       "\n",
       "#sk-container-id-1 div.sk-label-container {\n",
       "  text-align: center;\n",
       "}\n",
       "\n",
       "/* Estimator-specific */\n",
       "#sk-container-id-1 div.sk-estimator {\n",
       "  font-family: monospace;\n",
       "  border: 1px dotted var(--sklearn-color-border-box);\n",
       "  border-radius: 0.25em;\n",
       "  box-sizing: border-box;\n",
       "  margin-bottom: 0.5em;\n",
       "  /* unfitted */\n",
       "  background-color: var(--sklearn-color-unfitted-level-0);\n",
       "}\n",
       "\n",
       "#sk-container-id-1 div.sk-estimator.fitted {\n",
       "  /* fitted */\n",
       "  background-color: var(--sklearn-color-fitted-level-0);\n",
       "}\n",
       "\n",
       "/* on hover */\n",
       "#sk-container-id-1 div.sk-estimator:hover {\n",
       "  /* unfitted */\n",
       "  background-color: var(--sklearn-color-unfitted-level-2);\n",
       "}\n",
       "\n",
       "#sk-container-id-1 div.sk-estimator.fitted:hover {\n",
       "  /* fitted */\n",
       "  background-color: var(--sklearn-color-fitted-level-2);\n",
       "}\n",
       "\n",
       "/* Specification for estimator info (e.g. \"i\" and \"?\") */\n",
       "\n",
       "/* Common style for \"i\" and \"?\" */\n",
       "\n",
       ".sk-estimator-doc-link,\n",
       "a:link.sk-estimator-doc-link,\n",
       "a:visited.sk-estimator-doc-link {\n",
       "  float: right;\n",
       "  font-size: smaller;\n",
       "  line-height: 1em;\n",
       "  font-family: monospace;\n",
       "  background-color: var(--sklearn-color-background);\n",
       "  border-radius: 1em;\n",
       "  height: 1em;\n",
       "  width: 1em;\n",
       "  text-decoration: none !important;\n",
       "  margin-left: 0.5em;\n",
       "  text-align: center;\n",
       "  /* unfitted */\n",
       "  border: var(--sklearn-color-unfitted-level-1) 1pt solid;\n",
       "  color: var(--sklearn-color-unfitted-level-1);\n",
       "}\n",
       "\n",
       ".sk-estimator-doc-link.fitted,\n",
       "a:link.sk-estimator-doc-link.fitted,\n",
       "a:visited.sk-estimator-doc-link.fitted {\n",
       "  /* fitted */\n",
       "  border: var(--sklearn-color-fitted-level-1) 1pt solid;\n",
       "  color: var(--sklearn-color-fitted-level-1);\n",
       "}\n",
       "\n",
       "/* On hover */\n",
       "div.sk-estimator:hover .sk-estimator-doc-link:hover,\n",
       ".sk-estimator-doc-link:hover,\n",
       "div.sk-label-container:hover .sk-estimator-doc-link:hover,\n",
       ".sk-estimator-doc-link:hover {\n",
       "  /* unfitted */\n",
       "  background-color: var(--sklearn-color-unfitted-level-3);\n",
       "  color: var(--sklearn-color-background);\n",
       "  text-decoration: none;\n",
       "}\n",
       "\n",
       "div.sk-estimator.fitted:hover .sk-estimator-doc-link.fitted:hover,\n",
       ".sk-estimator-doc-link.fitted:hover,\n",
       "div.sk-label-container:hover .sk-estimator-doc-link.fitted:hover,\n",
       ".sk-estimator-doc-link.fitted:hover {\n",
       "  /* fitted */\n",
       "  background-color: var(--sklearn-color-fitted-level-3);\n",
       "  color: var(--sklearn-color-background);\n",
       "  text-decoration: none;\n",
       "}\n",
       "\n",
       "/* Span, style for the box shown on hovering the info icon */\n",
       ".sk-estimator-doc-link span {\n",
       "  display: none;\n",
       "  z-index: 9999;\n",
       "  position: relative;\n",
       "  font-weight: normal;\n",
       "  right: .2ex;\n",
       "  padding: .5ex;\n",
       "  margin: .5ex;\n",
       "  width: min-content;\n",
       "  min-width: 20ex;\n",
       "  max-width: 50ex;\n",
       "  color: var(--sklearn-color-text);\n",
       "  box-shadow: 2pt 2pt 4pt #999;\n",
       "  /* unfitted */\n",
       "  background: var(--sklearn-color-unfitted-level-0);\n",
       "  border: .5pt solid var(--sklearn-color-unfitted-level-3);\n",
       "}\n",
       "\n",
       ".sk-estimator-doc-link.fitted span {\n",
       "  /* fitted */\n",
       "  background: var(--sklearn-color-fitted-level-0);\n",
       "  border: var(--sklearn-color-fitted-level-3);\n",
       "}\n",
       "\n",
       ".sk-estimator-doc-link:hover span {\n",
       "  display: block;\n",
       "}\n",
       "\n",
       "/* \"?\"-specific style due to the `<a>` HTML tag */\n",
       "\n",
       "#sk-container-id-1 a.estimator_doc_link {\n",
       "  float: right;\n",
       "  font-size: 1rem;\n",
       "  line-height: 1em;\n",
       "  font-family: monospace;\n",
       "  background-color: var(--sklearn-color-background);\n",
       "  border-radius: 1rem;\n",
       "  height: 1rem;\n",
       "  width: 1rem;\n",
       "  text-decoration: none;\n",
       "  /* unfitted */\n",
       "  color: var(--sklearn-color-unfitted-level-1);\n",
       "  border: var(--sklearn-color-unfitted-level-1) 1pt solid;\n",
       "}\n",
       "\n",
       "#sk-container-id-1 a.estimator_doc_link.fitted {\n",
       "  /* fitted */\n",
       "  border: var(--sklearn-color-fitted-level-1) 1pt solid;\n",
       "  color: var(--sklearn-color-fitted-level-1);\n",
       "}\n",
       "\n",
       "/* On hover */\n",
       "#sk-container-id-1 a.estimator_doc_link:hover {\n",
       "  /* unfitted */\n",
       "  background-color: var(--sklearn-color-unfitted-level-3);\n",
       "  color: var(--sklearn-color-background);\n",
       "  text-decoration: none;\n",
       "}\n",
       "\n",
       "#sk-container-id-1 a.estimator_doc_link.fitted:hover {\n",
       "  /* fitted */\n",
       "  background-color: var(--sklearn-color-fitted-level-3);\n",
       "}\n",
       "</style><div id=\"sk-container-id-1\" class=\"sk-top-container\"><div class=\"sk-text-repr-fallback\"><pre>SVC(C=1, degree=2)</pre><b>In a Jupyter environment, please rerun this cell to show the HTML representation or trust the notebook. <br />On GitHub, the HTML representation is unable to render, please try loading this page with nbviewer.org.</b></div><div class=\"sk-container\" hidden><div class=\"sk-item\"><div class=\"sk-estimator fitted sk-toggleable\"><input class=\"sk-toggleable__control sk-hidden--visually\" id=\"sk-estimator-id-1\" type=\"checkbox\" checked><label for=\"sk-estimator-id-1\" class=\"sk-toggleable__label fitted sk-toggleable__label-arrow\"><div><div>SVC</div></div><div><a class=\"sk-estimator-doc-link fitted\" rel=\"noreferrer\" target=\"_blank\" href=\"https://scikit-learn.org/1.6/modules/generated/sklearn.svm.SVC.html\">?<span>Documentation for SVC</span></a><span class=\"sk-estimator-doc-link fitted\">i<span>Fitted</span></span></div></label><div class=\"sk-toggleable__content fitted\"><pre>SVC(C=1, degree=2)</pre></div> </div></div></div></div>"
      ],
      "text/plain": [
       "SVC(C=1, degree=2)"
      ]
     },
     "execution_count": 19,
     "metadata": {},
     "output_type": "execute_result"
    }
   ],
   "source": [
    "numbers_svm = SVC(**grid_search.best_params_)\n",
    "numbers_svm.fit(x_train, y_train)"
   ]
  },
  {
   "cell_type": "markdown",
   "id": "f8bd1bd8-c44f-4db1-b016-b2d93d4e9def",
   "metadata": {
    "jp-MarkdownHeadingCollapsed": true
   },
   "source": [
    "### Comparacion de modelos"
   ]
  },
  {
   "cell_type": "markdown",
   "id": "0d421b82-2886-4890-97f5-81eed11692ea",
   "metadata": {},
   "source": [
    "Mostraremos la diferencia en efectividad de todos los modelos usados usando distintas metricas. "
   ]
  },
  {
   "cell_type": "code",
   "execution_count": 54,
   "id": "714fd395-9c81-4da2-93b0-5a3b1b5e42fe",
   "metadata": {},
   "outputs": [],
   "source": [
    "(x_train, y_train), (x_test, y_test) = obtain_data()"
   ]
  },
  {
   "cell_type": "code",
   "execution_count": 63,
   "id": "79ede990-85f0-4e56-9597-36d3326e2b93",
   "metadata": {},
   "outputs": [
    {
     "data": {
      "image/png": "[encoded data removed]",
      "text/plain": [
       "<Figure size 1000x500 with 1 Axes>"
      ]
     },
     "metadata": {},
     "output_type": "display_data"
    }
   ],
   "source": [
    "import numpy as np\n",
    "import matplotlib.pyplot as plt\n",
    "import seaborn as sns\n",
    "from sklearn.metrics import accuracy_score, precision_score, recall_score, f1_score\n",
    "\n",
    "# obtiene un reporte de la efectividad de la prediccion\n",
    "def get_classification_metrics(y_test, y_pred):\n",
    "    return {\n",
    "        \"accuracy\": accuracy_score(y_test, y_pred),\n",
    "        \"precision\": precision_score(y_test, y_pred, average=\"macro\"),\n",
    "        \"recall\": recall_score(y_test, y_pred, average=\"macro\"),\n",
    "        \"f1-score\": f1_score(y_test, y_pred, average=\"macro\"),\n",
    "    }\n",
    "\n",
    "# los modelos a comparar\n",
    "models = {\n",
    "    \"Logistic Regression\": numbers_logistic_regression,\n",
    "    \"SVM\": numbers_svm,\n",
    "    \"KNN\": numbers_k_model\n",
    "}\n",
    "\n",
    "# las metricas a evaluar\n",
    "metrics = [\"precision\", \"recall\", \"f1-score\", \"accuracy\"]\n",
    "data = {metric: [] for metric in metrics}\n",
    "\n",
    "for model_name, model in models.items():\n",
    "    y_pred = model.predict(x_test)\n",
    "    report = get_classification_metrics(y_test, y_pred)\n",
    "    for metric in metrics:\n",
    "        data[metric].append(report[metric] if metric != \"accuracy\" else report[\"accuracy\"])\n",
    "\n",
    "# convertimos la data de las metricas a numpy para graficarla\n",
    "values = np.array([data[metric] for metric in metrics])\n",
    "model_names = list(models.keys())\n",
    "\n",
    "fig, ax = plt.subplots(figsize=(10, 5))\n",
    "x = np.arange(len(metrics))\n",
    "width = 0.2  # Width of bars\n",
    "\n",
    "for i, model_name in enumerate(model_names):\n",
    "    ax.bar(x + i * width, values[:, i], width, label=model_name)\n",
    "\n",
    "ax.set_xlabel(\"Metrics\")\n",
    "ax.set_ylabel(\"Score\")\n",
    "ax.set_title(\"Model Performance Comparison\")\n",
    "ax.set_xticks(x + width)\n",
    "ax.set_xticklabels(metrics)\n",
    "ax.set_ylim(0, 1)\n",
    "ax.legend()\n",
    "\n",
    "plt.show()\n"
   ]
  },
  {
   "cell_type": "markdown",
   "id": "dac7cd4a-4e3a-4543-8b86-35d93b14573e",
   "metadata": {},
   "source": [
    "Dado que el modelo con mejor performance es el SVM. Usaremos este para la evaluacion de numeros"
   ]
  },
  {
   "cell_type": "code",
   "execution_count": 21,
   "id": "f5a8d56c-22ba-4aab-9f3d-26d8ba8c1fab",
   "metadata": {},
   "outputs": [
    {
     "data": {
      "text/plain": [
       "['../models/output/numbers_model.joblib']"
      ]
     },
     "execution_count": 21,
     "metadata": {},
     "output_type": "execute_result"
    }
   ],
   "source": [
    "import joblib\n",
    "\n",
    "joblib.dump(numbers_svm, \"../models/output/numbers_model.joblib\")"
   ]
  },
  {
   "cell_type": "markdown",
   "id": "4aa313cb-9ed5-481e-b66e-18217a2fe8a3",
   "metadata": {},
   "source": [
    "## Symbol recognition"
   ]
  },
  {
   "cell_type": "markdown",
   "id": "7deb39d9-7637-47ee-b0ec-509088631af4",
   "metadata": {},
   "source": [
    "### Data"
   ]
  },
  {
   "cell_type": "markdown",
   "id": "acd4991a-12aa-4b9a-98f6-68059f9fb247",
   "metadata": {},
   "source": [
    "Aqui generamos nuestra propia data para los simbolos que queremos reconocer con nuestros modelos. Hemos generado suficientes imagenes para cada simbolo, estas seran cargadas con funciones que se encargan de mantener el grayscale y el 28x28 para facilitar su procesamiento.\n",
    "\n",
    "A cada simbolo le asignamos un numero del 0 al 5."
   ]
  },
  {
   "cell_type": "code",
   "execution_count": 39,
   "id": "d1174e04-f613-47e7-8c51-05156137000d",
   "metadata": {
    "scrolled": true
   },
   "outputs": [],
   "source": [
    "import cv2\n",
    "import numpy as np\n",
    "import os\n",
    "from sklearn.model_selection import train_test_split\n",
    "\n",
    "# cargamos las imagenes. ya tienen el formato que queremos ya que vienen directamente del canvas\n",
    "def load_images(directory):\n",
    "    images = []\n",
    "    for filename in os.listdir(directory):\n",
    "        if filename.endswith('.png'):\n",
    "            img = cv2.imread(os.path.join(directory, filename), cv2.IMREAD_GRAYSCALE)\n",
    "            img = cv2.resize(img, (28, 28))\n",
    "            images.append(img)\n",
    "\n",
    "    return np.array(images)\n",
    "\n",
    "# esta funcion simplemente combina los diferentes tipos de imagenes y les aplica un label\n",
    "def create_dataset(plus_imgs, minus_imgs, div_imgs, slash_imgs, times_imgs, x_imgs):\n",
    "   x_data = np.vstack((plus_imgs, minus_imgs, div_imgs, slash_imgs, times_imgs, x_imgs))\n",
    "\n",
    "   y_data = np.concatenate([\n",
    "       np.zeros(len(plus_imgs)),  # 0 for plus\n",
    "       np.ones(len(minus_imgs)),  # 1 for minus\n",
    "       np.full(len(div_imgs), 2), # 2 for div\n",
    "       np.full(len(slash_imgs), 3), # 3 for slash\n",
    "       np.full(len(times_imgs), 4),  # 4 for asterisc\n",
    "       np.full(len(x_imgs), 5)  # 5 for x\n",
    "   ])\n",
    "   return x_data, y_data\n"
   ]
  },
  {
   "cell_type": "code",
   "execution_count": 40,
   "id": "a45140db-94b2-41e8-b385-a0be8f83ab76",
   "metadata": {},
   "outputs": [],
   "source": [
    "# cargamos las imagenes y creamos la data\n",
    "plus_imgs = load_images(\"../models/input/Suma\")\n",
    "minus_imgs = load_images(\"../models/input/Resta\")\n",
    "div_imgs = load_images(\"../models/input/Division2\")\n",
    "slash_imgs = load_images(\"../models/input/Division1\")\n",
    "times_imgs = load_images(\"../models/input/Multiplicacion1\")\n",
    "x_imgs = load_images(\"../models/input/Multiplicacion2\")\n",
    "\n",
    "x_data, y_data = create_dataset(plus_imgs, minus_imgs, div_imgs, slash_imgs, times_imgs, x_imgs)"
   ]
  },
  {
   "cell_type": "markdown",
   "id": "683c5233-f985-4c49-8d57-b4c8669d59d8",
   "metadata": {},
   "source": [
    "A continuacion observaremos una imagen y la matriz respectiva de la misma. Notar que en el canvas de la aplicacion se usara un stroke ligeramente menos grueso que con los numeros."
   ]
  },
  {
   "cell_type": "code",
   "execution_count": 46,
   "id": "2e4fe1d7-9154-4551-b63b-d3c65f83d234",
   "metadata": {},
   "outputs": [
    {
     "data": {
      "image/png": "[encoded data removed]",
      "text/plain": [
       "<Figure size 500x500 with 1 Axes>"
      ]
     },
     "metadata": {},
     "output_type": "display_data"
    },
    {
     "name": "stdout",
     "output_type": "stream",
     "text": [
      "Label: ×\n",
      "  0   0   0   0   0   0   0   0   0   0   0   0   0   0   0   0   0   0   0   0   0   0   0   0   0   0   0   0\n",
      "  0   0   0   0   0   0   0   0   0   0   0   0   0   0   0   0   0   0   0   0   1 159  65   0   0   0   0   0\n",
      " 12  93   1   0   0   0   0   0   0   0   0   0   0   0   0   0   0   0   0   0 106 221  22   0   0   0   0   0\n",
      " 19 231  70   0   0   0   0   0   0   0   0   0   0   0   0   0   0   0   0  77 237  57   0   0   0   0   0   0\n",
      "  0 112 211  19   0   0   0   0   0   0   0   0   0   0   0   0   0   0  40 234 109   0   0   0   0   0   0   0\n",
      "  0   4 181 193  18   0   0   0   0   0   0   0   0   0   0   0   0  29 217 127   1   0   0   0   0   0   0   0\n",
      "  0   0  17 200 192  14   0   0   0   0   0   0   0   0   0   0   8 190 170   5   0   0   0   0   0   0   0   0\n",
      "  0   0   0  19 198 194  18   0   0   0   0   0   0   0   0   2 155 197  11   0   0   0   0   0   0   0   0   0\n",
      "  0   0   0   0  20 199 194  15   0   0   0   0   0   0   0 106 221  31   0   0   0   0   0   0   0   0   0   0\n",
      "  0   0   0   0   0  17 176 200  30   0   0   0   0   0  65 235  59   0   0   0   0   0   0   0   0   0   0   0\n",
      "  0   0   0   0   0   0   5 143 223  52   0   0   0  27 229  98   0   0   0   0   0   0   0   0   0   0   0   0\n",
      "  0   0   0   0   0   0   0   2 124 239  66   0   7 188 145   2   0   0   0   0   0   0   0   0   0   0   0   0\n",
      "  0   0   0   0   0   0   0   0   1 117 233  47 131 200   8   0   0   0   0   0   0   0   0   0   0   0   0   0\n",
      "  0   0   0   0   0   0   0   0   0   2 135 228 238  50   0   0   0   0   0   0   0   0   0   0   0   0   0   0\n",
      "  0   0   0   0   0   0   0   0   0   0  15 230 202   6   0   0   0   0   0   0   0   0   0   0   0   0   0   0\n",
      "  0   0   0   0   0   0   0   0   0   0 130 207 209 128   0   0   0   0   0   0   0   0   0   0   0   0   0   0\n",
      "  0   0   0   0   0   0   0   0   0  52 236  54  47 235  77   0   0   0   0   0   0   0   0   0   0   0   0   0\n",
      "  0   0   0   0   0   0   0   0   7 201 134   0   0  96 231  39   0   0   0   0   0   0   0   0   0   0   0   0\n",
      "  0   0   0   0   0   0   0   0 120 211  13   0   0   0 134 215  17   0   0   0   0   0   0   0   0   0   0   0\n",
      "  0   0   0   0   0   0   0  46 237  61   0   0   0   0   6 170 187  13   0   0   0   0   0   0   0   0   0   0\n",
      "  0   0   0   0   0   0   3 194 145   0   0   0   0   0   0  11 192 198  38   0   0   0   0   0   0   0   0   0\n",
      "  0   0   0   0   0   0 109 217  16   0   0   0   0   0   0   0   9 147 239 111   6   0   0   0   0   0   0   0\n",
      "  0   0   0   0   0  34 235  72   0   0   0   0   0   0   0   0   0   1  69 218 183  17   0   0   0   0   0   0\n",
      "  0   0   0   0   1 174 159   0   0   0   0   0   0   0   0   0   0   0   0  22 182 218  80   5   0   0   0   0\n",
      "  0   0   0   0  83 225  25   0   0   0   0   0   0   0   0   0   0   0   0   0   5 112 230 192  29   0   0   0\n",
      "  0   0   0  24 228  92   0   0   0   0   0   0   0   0   0   0   0   0   0   0   0   0  24 173 220 102  12   0\n",
      "  0   0   0 147 182   3   0   0   0   0   0   0   0   0   0   0   0   0   0   0   0   0   0   4 100 215 224  98\n",
      "  0   0  27 233  48   0   0   0   0   0   0   0   0   0   0   0   0   0   0   0   0   0   0   0   0   7  97 244\n"
     ]
    }
   ],
   "source": [
    "import random\n",
    "import matplotlib.pyplot as plt\n",
    "\n",
    "def visualize_random_image():\n",
    "    idx = random.randint(0, len(x_data) - 1)\n",
    "    image, label = x_data[idx], y_data[idx]\n",
    "\n",
    "    symbols = {0: \"+\", 1: \"-\", 2: \"÷\", 3: \"/\", 4: \"*\", 5: \"×\"}\n",
    "\n",
    "    fig, ax = plt.subplots(figsize=(5, 5))\n",
    "\n",
    "    # imagen\n",
    "    ax.imshow(image, cmap=\"gray\")\n",
    "    ax.set_title(f\"Symbol: {symbols[label]}\")\n",
    "    ax.axis(\"off\")\n",
    "    plt.show()\n",
    "\n",
    "    # matriz de imagen\n",
    "    print(f\"Label: {symbols[label]}\")\n",
    "    for row in image:\n",
    "        print(\" \".join(f\"{pixel:3}\" for pixel in row))\n",
    "\n",
    "\n",
    "# Call the function\n",
    "visualize_random_image()\n"
   ]
  },
  {
   "cell_type": "markdown",
   "id": "78e55801-ab9d-4afd-b4a5-d05acfe755fe",
   "metadata": {},
   "source": [
    "Dado que generamos nuestra propia data y no tenemos suficiente, hacemos \"data augmentation\". Esta tecnica se utiliza para generar artificialmente mas data para entrenar los modelos de machien learning.\n",
    "\n",
    "En este caso usamos paquetes de keras, \"ImageDataGenerator\" que nos permite realizar esta tecnica sobre imagenes. Para generar imagenes artificiales hacemos leves cambios a las imagenes ya existentes. Entre los cambios configurados tenemos:\n",
    "\n",
    "- **rotation_range=15:** Definimos un rango de rotación en grados que se aplicará aleatoriamente a las imágenes durante el preprocesamiento.\n",
    "- **width_shift_range=0.02:** Especificamos un desplazamiento horizontal de la imagen como una fracción del ancho total.\n",
    "- **height_shift_range=0.02:** Definimos un desplazamiento vertical de la imagen como una fracción de la altura total.\n",
    "- **zoom_range=0.05:** Hacemos un zoom aleatorio que se aplicará a la imagen."
   ]
  },
  {
   "cell_type": "code",
   "execution_count": 47,
   "id": "88ae612a-bf02-4e4d-8677-bfd2ffa8f1cd",
   "metadata": {},
   "outputs": [
    {
     "name": "stdout",
     "output_type": "stream",
     "text": [
      "756 4536\n"
     ]
    }
   ],
   "source": [
    "from tensorflow.keras.preprocessing.image import ImageDataGenerator\n",
    "\n",
    "def augment_data(x_data, y_data, factor=5):\n",
    "    # Keras compatibility\n",
    "    x_data = x_data.reshape((-1, 28, 28, 1))\n",
    "    datagen = ImageDataGenerator(\n",
    "        rotation_range=15,\n",
    "        width_shift_range=0.02,\n",
    "        height_shift_range=0.02,\n",
    "        zoom_range=0.05\n",
    "    )\n",
    "\n",
    "    # generando nuevas imagenes\n",
    "    augmented_images, augmented_labels = [], []\n",
    "    for i in range(len(x_data)):\n",
    "        img = x_data[i].reshape((1, 28, 28, 1))\n",
    "        label = y_data[i]\n",
    "\n",
    "        gen = datagen.flow(img, batch_size=1)\n",
    "        for _ in range(factor):\n",
    "            augmented_images.append(next(gen)[0].reshape(28, 28))\n",
    "            augmented_labels.append(label)\n",
    "\n",
    "    # convertimos a numpy\n",
    "    x_augmented = np.array(augmented_images)\n",
    "    y_augmented = np.array(augmented_labels)\n",
    "\n",
    "    x_final = np.concatenate((x_data.squeeze(), x_augmented), axis=0)\n",
    "    y_final = np.concatenate((y_data, y_augmented), axis=0)\n",
    "\n",
    "    return x_final, y_final\n",
    "\n",
    "x_data_aug, y_data_aug = augment_data(x_data,y_data)\n",
    "# creamos 5 veces mas imagenes (parametro \"factor\")\n",
    "print(len(x_data), len(x_data_aug))"
   ]
  },
  {
   "cell_type": "markdown",
   "id": "fbf086a2-dbe7-414f-a9fb-d3223a474fd1",
   "metadata": {},
   "source": [
    "En esta seccion dividimos la data en entrenamiento y testing. Luego de generar mas data de forma artificial.\n",
    "La proporcion es 70% de la data es usada para entrenamiento y el resto para testing."
   ]
  },
  {
   "cell_type": "code",
   "execution_count": 9,
   "id": "4fefe9cd-ea76-4e31-8bb9-539bcc1cb3b9",
   "metadata": {},
   "outputs": [],
   "source": [
    "x_train, x_test, y_train, y_test = train_test_split(\n",
    "    x_data_aug, y_data_aug, \n",
    "    test_size=0.30, \n",
    "    random_state=42,\n",
    "    stratify=y_data_aug\n",
    ")"
   ]
  },
  {
   "cell_type": "markdown",
   "id": "d7deeefe-563c-4999-92cb-8faaf7dca260",
   "metadata": {},
   "source": [
    "### Logistic regression"
   ]
  },
  {
   "cell_type": "markdown",
   "id": "f4ec2509-1fd5-4bae-b6fb-6afc2840dcdb",
   "metadata": {},
   "source": [
    "Aplicamos regresion logistica. Usamos el \"GridSearchCV\" para buscar los mejores parametros posible para nuestro modelo. Se advierte que la habran varios warnings debido a que nunca se converge debido a que se requieren muchas iteraciones para esto."
   ]
  },
  {
   "cell_type": "code",
   "execution_count": null,
   "id": "a9e1deb8-5327-4180-8f58-4e7e4c17201f",
   "metadata": {},
   "outputs": [],
   "source": [
    "from sklearn.linear_model import LogisticRegression\n",
    "from sklearn.model_selection import GridSearchCV\n",
    "from sklearn.metrics import classification_report\n",
    "import numpy as np\n",
    "\n",
    "x_train_reshaped = x_train.reshape(x_train.shape[0], -1)\n",
    "x_test_reshaped = x_test.reshape(x_test.shape[0], -1)\n",
    "\n",
    "unique_classes, class_counts = np.unique(y_train, return_counts=True)\n",
    "weights = dict(zip(unique_classes, len(y_train) / (len(unique_classes) * class_counts)))\n",
    "\n",
    "param_grid = {\n",
    "    \"C\": [0.01, 0.1, 1, 10],  \n",
    "    \"solver\": [\"lbfgs\", \"saga\"], \n",
    "    \"tol\": [1e-4, 1e-3, 1e-2],\n",
    "    \"max_iter\": [1500]\n",
    "}\n",
    "\n",
    "grid_search = GridSearchCV(\n",
    "    LogisticRegression(class_weight=weights, random_state=42),\n",
    "    param_grid,\n",
    "    scoring=\"accuracy\",\n",
    "    n_jobs=MAX_JOBS\n",
    ")\n",
    "\n",
    "grid_search.fit(x_train_reshaped, y_train)\n",
    "symbols_logistic_regression = grid_search.best_estimator_\n",
    "\n",
    "y_pred = symbols_logistic_regression.predict(x_test_reshaped)\n",
    "print(f\"Best Parameters: {grid_search.best_params_}\")\n"
   ]
  },
  {
   "cell_type": "markdown",
   "id": "61c531b9-5457-4ea0-abb6-a7d5a5ddeac3",
   "metadata": {},
   "source": [
    "Best Parameters: {'C': 0.01, 'max_iter': 2000, 'solver': 'saga', 'tol': 0.01}\n",
    "              precision    recall  f1-score   support\n",
    "\n",
    "         0.0       0.86      0.82      0.84       263\n",
    "         1.0       0.78      0.82      0.80       221\n",
    "         2.0       0.86      0.86      0.86       214\n",
    "         3.0       0.89      0.82      0.86       223\n",
    "         4.0       0.74      0.82      0.78       220\n",
    "         5.0       0.85      0.82      0.83       220\n",
    "\n",
    "    accuracy                           0.83      1361\n",
    "   macro avg       0.83      0.83      0.83      1361\n",
    "weighted avg       0.83      0.83      0.83      1361"
   ]
  },
  {
   "cell_type": "markdown",
   "id": "6605430a-95d7-421a-b4c3-7714c3521157",
   "metadata": {},
   "source": [
    "### K-neighbours"
   ]
  },
  {
   "cell_type": "markdown",
   "id": "3054294f-9cea-43c1-811f-fccb4b0e4bb4",
   "metadata": {},
   "source": [
    "Aplicamos K-vecinos. Usamos el \"GridSearchCV\" para buscar los mejores parametros posible para nuestro modelo."
   ]
  },
  {
   "cell_type": "code",
   "execution_count": null,
   "id": "47e0a3f9-eef7-4d20-b0bb-34526bd099e7",
   "metadata": {},
   "outputs": [],
   "source": [
    "from sklearn.neighbors import KNeighborsClassifier\n",
    "from sklearn.model_selection import GridSearchCV\n",
    "from sklearn.metrics import classification_report\n",
    "import numpy as np\n",
    "\n",
    "# transformamos la data\n",
    "x_train_reshaped = x_train.reshape(x_train.shape[0], -1)\n",
    "x_test_reshaped = x_test.reshape(x_test.shape[0], -1)\n",
    "\n",
    "# Define hyperparameter grid for KNN\n",
    "param_grid = {\n",
    "    \"n_neighbors\": [3, 5, 7, 10],  # Number of neighbors\n",
    "    \"weights\": [\"uniform\", \"distance\"],  # Weighting strategy\n",
    "    \"metric\": [\"euclidean\", \"manhattan\", \"minkowski\"]  # Distance metrics\n",
    "}\n",
    "\n",
    "grid_search = GridSearchCV(\n",
    "    KNeighborsClassifier(),\n",
    "    param_grid,\n",
    "    scoring=\"accuracy\",\n",
    "    n_jobs=MAX_JOBS\n",
    ")\n",
    "\n",
    "grid_search.fit(x_train_reshaped, y_train)\n",
    "symbols_k_model = grid_search.best_estimator_\n",
    "\n",
    "y_pred = symbols_k_model.predict(x_test_reshaped)\n",
    "print(f\"Best Parameters: {grid_search.best_params_}\")"
   ]
  },
  {
   "cell_type": "markdown",
   "id": "32bb0616-e685-4745-80a3-5fad031c8355",
   "metadata": {},
   "source": [
    "### SVM"
   ]
  },
  {
   "cell_type": "markdown",
   "id": "4e6b36f8-974d-455f-9581-68e6d77d65d0",
   "metadata": {},
   "source": [
    "Aplicamos SVM. Usamos el \"GridSearchCV\" para buscar los mejores parametros posible para nuestro modelo."
   ]
  },
  {
   "cell_type": "code",
   "execution_count": 12,
   "id": "0e49db4a-ec64-48cc-bc8c-c6b524da76b3",
   "metadata": {},
   "outputs": [
    {
     "name": "stdout",
     "output_type": "stream",
     "text": [
      "Best Parameters: {'C': 10, 'gamma': 'scale', 'kernel': 'rbf'}\n"
     ]
    }
   ],
   "source": [
    "from sklearn.svm import SVC\n",
    "from sklearn.model_selection import GridSearchCV\n",
    "from sklearn.metrics import classification_report\n",
    "import numpy as np\n",
    "\n",
    "x_train_reshaped = x_train.reshape(x_train.shape[0], -1)\n",
    "x_test_reshaped = x_test.reshape(x_test.shape[0], -1)\n",
    "\n",
    "param_grid = {\n",
    "    \"C\": [0.1, 1, 10, 100],  \n",
    "    \"kernel\": [\"linear\", \"rbf\", \"poly\", \"sigmoid\"],  \n",
    "    \"gamma\": [\"scale\", \"auto\"],  \n",
    "}\n",
    "\n",
    "grid_search = GridSearchCV(\n",
    "    SVC(),\n",
    "    param_grid,\n",
    "    scoring=\"accuracy\",\n",
    "    n_jobs=MAX_JOBS\n",
    ")\n",
    "\n",
    "grid_search.fit(x_train_reshaped, y_train)\n",
    "symbols_svm = grid_search.best_estimator_\n",
    "\n",
    "y_pred = symbols_svm.predict(x_test_reshaped)\n",
    "print(f\"Best Parameters: {grid_search.best_params_}\")\n"
   ]
  },
  {
   "cell_type": "markdown",
   "id": "2d9bbd30-570a-451e-beae-53cd9cfc3676",
   "metadata": {},
   "source": [
    "### Comparacion de modelos"
   ]
  },
  {
   "cell_type": "markdown",
   "id": "6b2d866f-9af7-4e97-b4b0-24271fa0a474",
   "metadata": {},
   "source": [
    "Al igual que antes, compararemos los modelos creados para usar el que mejor desempeno tenga."
   ]
  },
  {
   "cell_type": "code",
   "execution_count": null,
   "id": "897c9141-50a0-4d17-ad8e-01ac8cc4e75b",
   "metadata": {},
   "outputs": [],
   "source": [
    "import numpy as np\n",
    "import matplotlib.pyplot as plt\n",
    "import seaborn as sns\n",
    "from sklearn.metrics import accuracy_score, precision_score, recall_score, f1_score\n",
    "# similar a las comparaciones que realizamos antes, pero con los modelos para simbolos\n",
    "\n",
    "def get_classification_metrics(y_test, y_pred):\n",
    "    return {\n",
    "        \"accuracy\": accuracy_score(y_test, y_pred),\n",
    "        \"precision\": precision_score(y_test, y_pred, average=\"macro\"),\n",
    "        \"recall\": recall_score(y_test, y_pred, average=\"macro\"),\n",
    "        \"f1-score\": f1_score(y_test, y_pred, average=\"macro\"),\n",
    "    }\n",
    "\n",
    "models = {\n",
    "    \"Logistic Regression\": symbols_logistic_regression,\n",
    "    \"SVM\": symbols_svm,\n",
    "    \"KNN\": symbols_k_model\n",
    "}\n",
    "\n",
    "metrics = [\"precision\", \"recall\", \"f1-score\", \"accuracy\"]\n",
    "data = {metric: [] for metric in metrics}\n",
    "\n",
    "for model_name, model in models.items():\n",
    "    y_pred = model.predict(x_test)\n",
    "    report = get_classification_metrics(y_test, y_pred)\n",
    "    for metric in metrics:\n",
    "        data[metric].append(report[metric] if metric != \"accuracy\" else report[\"accuracy\"])\n",
    "\n",
    "values = np.array([data[metric] for metric in metrics])\n",
    "model_names = list(models.keys())\n",
    "\n",
    "fig, ax = plt.subplots(figsize=(10, 5))\n",
    "x = np.arange(len(metrics))\n",
    "width = 0.2  \n",
    "\n",
    "for i, model_name in enumerate(model_names):\n",
    "    ax.bar(x + i * width, values[:, i], width, label=model_name)\n",
    "\n",
    "ax.set_xlabel(\"Metrics\")\n",
    "ax.set_ylabel(\"Score\")\n",
    "ax.set_title(\"Model Performance Comparison\")\n",
    "ax.set_xticks(x + width)\n",
    "ax.set_xticklabels(metrics)\n",
    "ax.set_ylim(0, 1)\n",
    "ax.legend()\n",
    "\n",
    "plt.show()\n"
   ]
  },
  {
   "cell_type": "code",
   "execution_count": 13,
   "id": "eef2ec97-959f-45aa-9ade-277fd99c4dbe",
   "metadata": {},
   "outputs": [
    {
     "data": {
      "text/plain": [
       "['../models/output/symbols_model.joblib']"
      ]
     },
     "execution_count": 13,
     "metadata": {},
     "output_type": "execute_result"
    }
   ],
   "source": [
    "import joblib\n",
    "\n",
    "joblib.dump(symbols_svm, \"../models/output/symbols_model.joblib\")"
   ]
  }
 ],
 "metadata": {
  "kernelspec": {
   "display_name": "Python 3 (ipykernel)",
   "language": "python",
   "name": "python3"
  },
  "language_info": {
   "codemirror_mode": {
    "name": "ipython",
    "version": 3
   },
   "file_extension": ".py",
   "mimetype": "text/x-python",
   "name": "python",
   "nbconvert_exporter": "python",
   "pygments_lexer": "ipython3",
   "version": "3.12.3"
  },
  "widgets": {
   "application/vnd.jupyter.widget-state+json": {
    "state": {},
    "version_major": 2,
    "version_minor": 0
   }
  }
 },
 "nbformat": 4,
 "nbformat_minor": 5
}
